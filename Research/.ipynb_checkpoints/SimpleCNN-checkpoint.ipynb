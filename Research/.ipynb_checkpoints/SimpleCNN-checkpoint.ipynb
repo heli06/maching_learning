{
 "cells": [
  {
   "cell_type": "code",
   "execution_count": 14,
   "metadata": {},
   "outputs": [
    {
     "data": {
      "text/plain": [
       "<torch._C.Generator at 0x113d8ea70>"
      ]
     },
     "execution_count": 14,
     "metadata": {},
     "output_type": "execute_result"
    }
   ],
   "source": [
    "import torch\n",
    "from torchvision import datasets,transforms\n",
    "import torch.nn as nn\n",
    "import torch.utils.data as Data\n",
    "from torch.autograd import Variable\n",
    "import torch.optim as optim\n",
    "\n",
    "\n",
    "train_filepath = 'Birds/train'\n",
    "test_filepath = 'Birds/test'\n",
    "data_transfrom = transforms.Compose([\n",
    "    transforms.Resize([112,112]),\n",
    "    transforms.ToTensor(),\n",
    "    transforms.Normalize(mean=(0,0,0),std=(1,1,1))]\n",
    ")\n",
    "\n",
    "torch.manual_seed(1)"
   ]
  },
  {
   "cell_type": "code",
   "execution_count": 15,
   "metadata": {},
   "outputs": [],
   "source": [
    "import os\n",
    "from PIL import Image\n",
    "import cv2\n",
    "import numpy as np \n",
    "from torch.utils.data import DataLoader\n",
    "\n",
    "class mydataset():#定义数据读取类\n",
    "    def __init__(self,basepath,transforms):#输入参数：数据集路径,和转化方法\n",
    "        self.basepath = basepath\n",
    "        self.transforms = transforms\n",
    "        self.classes = sorted(os.listdir(basepath))\n",
    "        self.classes.remove('.DS_Store')#非mac系统不需要这句\n",
    "        self.filelist = []\n",
    "        self.total = 0\n",
    "        for idx,Set in enumerate(sorted(self.classes)):#按类载入所有训练数据的文件名\n",
    "            files = os.listdir(os.path.join(basepath,Set))\n",
    "            files.remove('.DS_Store')#非mac系统不需要这句\n",
    "            self.filelist.append(files)\n",
    "            self.total += len(files)\n",
    "            \n",
    "        self.num_classes = len(self.classes)#类别数\n",
    "        self.class_to_idx = dict()#类别对应标签\n",
    "        for i,classes in enumerate(self.classes):\n",
    "            self.class_to_idx[classes] = i\n",
    "            \n",
    "    def __len__(self):#统计数据集样本总数\n",
    "        return self.total\n",
    "    \n",
    "    def getfile(self):#获取训练数据\n",
    "        classesname = sorted(self.classes)\n",
    "        dataset = []\n",
    "        for i,Set in enumerate(self.filelist):#逐类读取\n",
    "            for j,file in enumerate(Set):#在每个类中逐个读取样本\n",
    "                image = np.array(cv2.imread(os.path.join(self.basepath,classesname[i],file)))#读取图像  \n",
    "                image = Image.fromarray(image.astype('uint8')).convert('RGB')#转化为PIL图像\n",
    "                image = self.transforms(image)#预处理\n",
    "                dataset.append([image,torch.tensor(self.class_to_idx[classesname[i]])])#载入图像和标签\n",
    "        return dataset\n",
    "    "
   ]
  },
  {
   "cell_type": "code",
   "execution_count": 16,
   "metadata": {},
   "outputs": [],
   "source": [
    "#获取训练测试样本\n",
    "trainset = mydataset(train_filepath,data_transfrom)\n",
    "testset = mydataset(test_filepath,data_transfrom)\n",
    "traindata = DataLoader(trainset.getfile(),batch_size=4,shuffle=True)\n",
    "testdata = DataLoader(testset.getfile(),batch_size=4)"
   ]
  },
  {
   "cell_type": "code",
   "execution_count": null,
   "metadata": {},
   "outputs": [],
   "source": [
    "print(trainset.__len__)\n",
    "print(trainset.classes)\n",
    "print(trainset.class_to_idx)"
   ]
  },
  {
   "cell_type": "code",
   "execution_count": 17,
   "metadata": {},
   "outputs": [],
   "source": [
    "#网络定义\n",
    "class SimpleCNN(nn.Module):\n",
    "    def __init__(self, num_classes=10):\n",
    "        super(SimpleCNN, self).__init__()\n",
    "\n",
    "        self.conv1 = nn.Conv2d(in_channels=3, out_channels=32, kernel_size=3, stride=1, padding=1)\n",
    "        self.relu1 = nn.ReLU()\n",
    "        self.conv2 = nn.Conv2d(in_channels=32, out_channels=32, kernel_size=3, stride=1, padding=1)\n",
    "        self.relu2 = nn.ReLU()\n",
    "        self.pool1 = nn.MaxPool2d(kernel_size=2)\n",
    "        \n",
    "        self.conv3 = nn.Conv2d(in_channels=32, out_channels=32, kernel_size=3, stride=1, padding=1)\n",
    "        self.relu3 = nn.ReLU()\n",
    "        self.conv4 = nn.Conv2d(in_channels=32, out_channels=32, kernel_size=3, stride=1, padding=1)\n",
    "        self.relu4 = nn.ReLU()\n",
    "        self.pool2 = nn.MaxPool2d(kernel_size=2)\n",
    "        \n",
    "        self.fc = nn.Linear(in_features= 32 * 28 * 28, out_features= 32 * 28)\n",
    "        #self.fc1 = nn.Linear(in_features= 1000,out_features=100)\n",
    "        self.fc2 = nn.Linear(in_features=32 * 28,out_features=num_classes)\n",
    "\n",
    "    def forward(self, x):\n",
    "        output = self.conv1(x)\n",
    "        output = self.relu1(output)\n",
    "        #output = self.conv2(output)\n",
    "        #output = self.relu2(output)\n",
    "        output = self.pool1(output)\n",
    "        \n",
    "        #output = self.conv3(output)\n",
    "        #output = self.relu3(output)\n",
    "        output = self.conv4(output)\n",
    "        output = self.relu4(output)\n",
    "        output = self.pool2(output)\n",
    "        \n",
    "        output = output.view(output.size(0),-1)\n",
    "        output = self.fc(output)\n",
    "        #output = self.fc1(output)\n",
    "        output = self.fc2(output)\n",
    "\n",
    "        return output\n"
   ]
  },
  {
   "cell_type": "code",
   "execution_count": 18,
   "metadata": {},
   "outputs": [],
   "source": [
    "model = SimpleCNN()\n",
    "criterion = nn.CrossEntropyLoss()\n",
    "optimizer = optim.Adam(model.parameters(),lr=0.001)"
   ]
  },
  {
   "cell_type": "code",
   "execution_count": 20,
   "metadata": {},
   "outputs": [
    {
     "name": "stdout",
     "output_type": "stream",
     "text": [
      "epoch 1\n",
      "[---------->]loss: 133.980\n",
      "test Accuracy: 19.48 %\n",
      "epoch 2\n",
      "[---------->]loss: 120.025\n",
      "test Accuracy: 24.68 %\n",
      "epoch 3\n",
      "[---------->]loss: 90.023\n",
      "test Accuracy: 22.73 %\n",
      "epoch 4\n",
      "[---------->]loss: 93.117\n",
      "test Accuracy: 18.18 %\n",
      "epoch 5\n",
      "[---------->]loss: 87.302\n",
      "test Accuracy: 19.48 %\n",
      "epoch 6\n",
      "[---------->]loss: 73.074\n",
      "test Accuracy: 18.83 %\n",
      "epoch 7\n",
      "[---------->]loss: 81.077\n",
      "test Accuracy: 20.13 %\n",
      "epoch 8\n",
      "[---------->]loss: 104.068\n",
      "test Accuracy: 21.43 %\n",
      "epoch 9\n",
      "[---------->]loss: 79.737\n",
      "test Accuracy: 16.23 %\n",
      "epoch 10\n",
      "[---------->]loss: 76.803\n",
      "test Accuracy: 20.78 %\n",
      "Finished Training\n"
     ]
    }
   ],
   "source": [
    "EPOCH = 10\n",
    "for epoch in range(EPOCH):\n",
    "    print('epoch',epoch+1)\n",
    "    running_loss = 0.0\n",
    "    for i,train_data in enumerate(traindata):#开始训练\n",
    "        tinputs, tlabels = train_data\n",
    "        train_outputs = model(tinputs)\n",
    "        optimizer.zero_grad()\n",
    "        loss = criterion(train_outputs,tlabels)\n",
    "        loss.backward()\n",
    "        optimizer.step()\n",
    "        #计算损失\n",
    "        running_loss += loss.data\n",
    "        print('\\r['+int(10*(i+1)/98) * '-'+ '>' +int(10-int(10*(i+1)/98))*' '+']',end='')\n",
    "\n",
    "    correct = 0\n",
    "    total = 0\n",
    "    for j,test_data in enumerate(testdata):#验证\n",
    "        simage,slabel = test_data\n",
    "        output = model(simage)\n",
    "        predicted = torch.max(output,1).indices\n",
    "        total += slabel.size(0)\n",
    "        correct += (predicted == slabel).sum()\n",
    "    print('loss: %.3f' % (running_loss))\n",
    "    print('test Accuracy: %.2f %%' % (100.0 * correct / total))\n",
    "    running_loss = 0.0\n",
    "print('Finished Training')"
   ]
  },
  {
   "cell_type": "code",
   "execution_count": null,
   "metadata": {},
   "outputs": [],
   "source": []
  }
 ],
 "metadata": {
  "kernelspec": {
   "display_name": "Python 3",
   "language": "python",
   "name": "python3"
  },
  "language_info": {
   "codemirror_mode": {
    "name": "ipython",
    "version": 3
   },
   "file_extension": ".py",
   "mimetype": "text/x-python",
   "name": "python",
   "nbconvert_exporter": "python",
   "pygments_lexer": "ipython3",
   "version": "3.6.8"
  }
 },
 "nbformat": 4,
 "nbformat_minor": 2
}
