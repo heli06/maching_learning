{
 "cells": [
  {
   "cell_type": "code",
   "execution_count": null,
   "metadata": {},
   "outputs": [],
   "source": [
    "import torch\n",
    "import torch.nn as nn\n",
    "import torch.nn.functional as F\n",
    "from torch.autograd import Variable\n",
    "import torch.optim as optim\n",
    "from torch.utils.data import DataLoader\n",
    "from torch.utils.data import Dataset\n",
    "import torchvision\n",
    "from torchvision import transforms\n",
    "from torchvision.datasets import ImageFolder\n",
    "import matplotlib.pyplot as plt                            # 显示图片\n",
    "from PIL import Image                                      # 读取图片"
   ]
  },
  {
   "cell_type": "code",
   "execution_count": null,
   "metadata": {},
   "outputs": [],
   "source": [
    "# 定义10个类的标签名称\n",
    "classes = ('0', '1', '2', '3', '4', '5', '6', '7', '8', '9')\n",
    "\n",
    "# training CNN\n",
    "net = Net()\n",
    "# 定义损失函数和优化器\n",
    "optimizer = optim.SGD(net.parameters(), lr=0.001, weight_decay=1e-6, momentum=0.9)  # 学习率0.001\n",
    "loss_function = nn.CrossEntropyLoss()           # 用交叉熵损失函数\n",
    "# 30 epochs\n",
    "for epoch in range(30):\n",
    "    running_loss = 0.0\n",
    "    for i, data in enumerate(train_loader, 0):   # for data in test_loader:\n",
    "        inputs, labels = data\n",
    "        inputs, labels = Variable(inputs), Variable(labels)  # 转换数据格式为Variable\n",
    "        optimizer.zero_grad()                   # 梯度置零，因为反向传播过程中梯度会累加上一次循环的梯度\n",
    "\n",
    "        output = net(inputs)\n",
    "        loss = loss_function(input=output, target=labels)    # 损失计算 loss = loss_function(output, labels)\n",
    "        loss.backward()\n",
    "        optimizer.step()\n",
    "\n",
    "        running_loss += loss.item()            # 损失累加\n",
    "        if i % 100 == 99:\n",
    "            print(\"[%d %5d] loss:%.3f\" % (epoch + 1, i + 1, running_loss / 200))  # 计算100次的平均损失\n",
    "            running_loss = 0.0\n",
    "\n",
    "# testing CNN\n",
    "dataiter = iter(test_loader)\n",
    "images, labels = dataiter.next()\n",
    "\n",
    "img = torchvision.utils.make_grid(images, nrow=10)     # 让每行显示10张图片\n",
    "img = img.numpy().transpose(1, 2, 0)  # 格式转换\n",
    "img = img / 2 + 0.5    # img = img * std + mean\n",
    "plt.imshow(img)\n",
    "\n",
    "correct = 0\n",
    "total = 0\n",
    "for data in test_loader:\n",
    "    outputs = net(Variable(images))\n",
    "    _, predicts = torch.max(outputs.data, 1)\n",
    "    total += labels.size(0)\n",
    "    correct += (predicts == labels).sum()\n",
    "# 正确率\n",
    "print(\"Accuracy: %.6f \" % (correct / total * 100))\n",
    "# 真实值\n",
    "print(\"Actual:\", \"\".join(\"%5s\" % classes[labels[j]] for j in range(100)))      # 打印前100张图片的标签名称\n",
    "# 预测值\n",
    "print(\"Predict:\", \"\".join(\"%5s\" % classes[predicts[j]] for j in range(100)))\n",
    "\n",
    "plt.show()\n"
   ]
  }
 ],
 "metadata": {
  "kernelspec": {
   "display_name": "Python 3",
   "language": "python",
   "name": "python3"
  },
  "language_info": {
   "codemirror_mode": {
    "name": "ipython",
    "version": 3
   },
   "file_extension": ".py",
   "mimetype": "text/x-python",
   "name": "python",
   "nbconvert_exporter": "python",
   "pygments_lexer": "ipython3",
   "version": "3.6.8"
  }
 },
 "nbformat": 4,
 "nbformat_minor": 2
}
