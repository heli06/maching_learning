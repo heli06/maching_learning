{
 "cells": [
  {
   "cell_type": "code",
   "execution_count": 3,
   "metadata": {},
   "outputs": [],
   "source": [
    "import torch.nn as nn"
   ]
  },
  {
   "cell_type": "code",
   "execution_count": 4,
   "metadata": {},
   "outputs": [],
   "source": [
    "class CNN(nn.Module):\n",
    "    def __init__(self):\n",
    "        super(CNN, self).__init__()\n",
    "        self.conv1 = nn.Sequential( # 输入数据大小 (3,96,96)\n",
    "            nn.Conv2d(\n",
    "                in_channels=3, # 输入的图片层数\n",
    "                out_channels=16, # 卷积核数量\n",
    "                kernel_size=5, # 卷积核大小\n",
    "                stride=1,\n",
    "                padding=2,\n",
    "            ), # 输出数据大小 (16,96,96)\n",
    "            nn.ReLU(),\n",
    "            nn.MaxPool2d(kernel_size=2),\n",
    "        )\n",
    "        self.conv2 = nn.Sequential( # 输入数据大小 (16,48,48)\n",
    "            nn.Conv2d(16, 32, 5, 1, 2), # 输出数据大小 (32,48,48)\n",
    "            nn.ReLU(),\n",
    "            nn.MaxPool2d(2), # 输出数据大小 (32,24,24)\n",
    "        )\n",
    "        self.fc1 = nn.Linear(32*24*24, 32*24) # 全连接层\n",
    "        self.out = nn.Linear(32*24, 10)\n",
    "    \n",
    "    def forward(self, x):\n",
    "        x = self.conv1(x)\n",
    "        x = self.conv2(x)\n",
    "        x = x.view(x.size(0), -1) # 展平多维的卷积图\n",
    "        x = self.fc1(x)\n",
    "        output = self.out(x)\n",
    "        return output, x"
   ]
  }
 ],
 "metadata": {
  "kernelspec": {
   "display_name": "Python 3",
   "language": "python",
   "name": "python3"
  },
  "language_info": {
   "codemirror_mode": {
    "name": "ipython",
    "version": 3
   },
   "file_extension": ".py",
   "mimetype": "text/x-python",
   "name": "python",
   "nbconvert_exporter": "python",
   "pygments_lexer": "ipython3",
   "version": "3.6.8"
  }
 },
 "nbformat": 4,
 "nbformat_minor": 2
}
