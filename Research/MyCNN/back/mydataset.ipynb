{
 "cells": [
  {
   "cell_type": "code",
   "execution_count": 42,
   "metadata": {},
   "outputs": [],
   "source": [
    "from torch.utils.data import Dataset, DataLoader\n",
    "import torch\n",
    "import torchvision.transforms as transforms\n",
    "import os\n",
    "import numpy as np\n",
    "from PIL import Image\n",
    "import cv2"
   ]
  },
  {
   "cell_type": "code",
   "execution_count": 43,
   "metadata": {},
   "outputs": [],
   "source": [
    "class MyDataSet(Dataset):#定义数据读取类\n",
    "    def __init__(self, basepath, labels=None, transform=None):#输入参数：数据集路径,和转化方法\n",
    "        self.basepath = basepath\n",
    "        self.transforms = transform\n",
    "        self.classes = sorted(os.listdir(basepath))\n",
    "        # self.classes.remove('.DS_Store')#非mac系统不需要这句\n",
    "        self.filelist = []\n",
    "        self.dataset = []\n",
    "        self.total = 0\n",
    "        for idx,Set in enumerate(sorted(self.classes)):#按类载入所有训练数据的文件名\n",
    "            files = os.listdir(os.path.join(basepath,Set))\n",
    "            # files.remove('.DS_Store')#非mac系统不需要这句\n",
    "            self.filelist.append(files)\n",
    "            self.total += len(files)\n",
    "            \n",
    "        self.num_classes = len(self.classes)#类别数\n",
    "        self.class_to_idx = dict()#类别对应标签\n",
    "        for i,classes in enumerate(self.classes):\n",
    "            self.class_to_idx[classes] = i\n",
    "        \n",
    "        self.getfile()\n",
    "            \n",
    "    def __len__(self):#统计数据集样本总数\n",
    "        return self.total\n",
    "    \n",
    "    def __getitem__(self, index):\n",
    "        return self.dataset[index]\n",
    "    \n",
    "    def getfile(self):#获取训练数据\n",
    "        classesname = sorted(self.classes)\n",
    "        for i,Set in enumerate(self.filelist):#逐类读取\n",
    "            for j,file in enumerate(Set):#在每个类中逐个读取样本\n",
    "                image = np.array(cv2.imread(os.path.join(self.basepath,classesname[i],file)))#读取图像  \n",
    "                image = Image.fromarray(image.astype('uint8')).convert('RGB')#转化为PIL图像\n",
    "                image = self.transforms(image)#预处理\n",
    "                self.dataset.append([image,torch.tensor(self.class_to_idx[classesname[i]])])#载入图像和标签\n",
    "        # return self.dataset"
   ]
  },
  {
   "cell_type": "code",
   "execution_count": 44,
   "metadata": {},
   "outputs": [],
   "source": [
    "if __name__ == '__main__':\n",
    "    data_transform = transforms.Compose([\n",
    "        transforms.Resize([112,112]),\n",
    "        transforms.ToTensor(),\n",
    "        transforms.Normalize(mean=(0,0,0),std=(1,1,1))]\n",
    "    )\n",
    "    train_path = './Birds/train/'\n",
    "    #获取训练测试样本\n",
    "    trainset = MyDataset(train_path, transform=data_transform, labels=None)\n",
    "    traindata = DataLoader(trainset,batch_size=4,shuffle=True)"
   ]
  },
  {
   "cell_type": "code",
   "execution_count": null,
   "metadata": {},
   "outputs": [],
   "source": []
  }
 ],
 "metadata": {
  "kernelspec": {
   "display_name": "Python 3",
   "language": "python",
   "name": "python3"
  },
  "language_info": {
   "codemirror_mode": {
    "name": "ipython",
    "version": 3
   },
   "file_extension": ".py",
   "mimetype": "text/x-python",
   "name": "python",
   "nbconvert_exporter": "python",
   "pygments_lexer": "ipython3",
   "version": "3.6.8"
  }
 },
 "nbformat": 4,
 "nbformat_minor": 2
}
