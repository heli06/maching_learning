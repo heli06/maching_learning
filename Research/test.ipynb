{
 "cells": [
  {
   "cell_type": "code",
   "execution_count": 1,
   "metadata": {},
   "outputs": [
    {
     "ename": "IndexError",
     "evalue": "pop from empty list",
     "output_type": "error",
     "traceback": [
      "\u001b[1;31m---------------------------------------------------------------------------\u001b[0m",
      "\u001b[1;31mIndexError\u001b[0m                                Traceback (most recent call last)",
      "\u001b[1;32m<ipython-input-1-b00b4433cb6a>\u001b[0m in \u001b[0;36m<module>\u001b[1;34m\u001b[0m\n\u001b[0;32m      1\u001b[0m \u001b[0marr\u001b[0m \u001b[1;33m=\u001b[0m \u001b[1;33m[\u001b[0m\u001b[1;33m]\u001b[0m\u001b[1;33m\u001b[0m\u001b[1;33m\u001b[0m\u001b[0m\n\u001b[1;32m----> 2\u001b[1;33m \u001b[0marr\u001b[0m\u001b[1;33m.\u001b[0m\u001b[0mpop\u001b[0m\u001b[1;33m(\u001b[0m\u001b[1;33m)\u001b[0m\u001b[1;33m\u001b[0m\u001b[1;33m\u001b[0m\u001b[0m\n\u001b[0m",
      "\u001b[1;31mIndexError\u001b[0m: pop from empty list"
     ]
    }
   ],
   "source": [
    "arr = []\n",
    "arr.pop()"
   ]
  },
  {
   "cell_type": "code",
   "execution_count": 51,
   "metadata": {},
   "outputs": [],
   "source": [
    "def isInDict(word, dict):\n",
    "    for e in dict:\n",
    "        if word == e:\n",
    "            return True\n",
    "\n",
    "    return False\n",
    "\n",
    "def wordBreak(s, dict):\n",
    "    # write your code here\n",
    "    height = len(s)\n",
    "    width = len(s)+1\n",
    "    print(height, width)\n",
    "    dp = [[False]*width for i in range(height)]\n",
    "    stack = []\n",
    "    \n",
    "    for i in range(height):\n",
    "        for j in range(i+1, width):\n",
    "            dp[i][j] = isInDict(s[i:j], dict)\n",
    "\n",
    "    start = 0\n",
    "    end = 1\n",
    "    while start < height:\n",
    "        # 匹配\n",
    "        print(start, end)\n",
    "        if dp[start][end] == True:\n",
    "            print('-', start, end)\n",
    "            stack.append((start, end))\n",
    "            start = end\n",
    "            if end >= height:\n",
    "                return True\n",
    "            else:\n",
    "                end += 1\n",
    "        # 未匹配\n",
    "        else:\n",
    "            # 该行搜索完毕\n",
    "            if end >= height:\n",
    "                # 栈空\n",
    "                if len(arr) < 1:\n",
    "                    start += 1\n",
    "                    end = start + 1\n",
    "                # 栈未空\n",
    "                else:\n",
    "                    temp = stack.pop()\n",
    "                    start = temp[0]\n",
    "                    end = temp[1] + 1\n",
    "            # 该行未搜索完毕\n",
    "            else:\n",
    "                end += 1\n",
    "\n",
    "    return False"
   ]
  },
  {
   "cell_type": "code",
   "execution_count": 53,
   "metadata": {},
   "outputs": [
    {
     "name": "stdout",
     "output_type": "stream",
     "text": [
      "8 9\n",
      "0 1\n",
      "0 2\n",
      "- 0 2\n",
      "2 3\n",
      "2 4\n",
      "- 2 4\n",
      "4 5\n",
      "4 6\n",
      "4 7\n",
      "- 4 7\n",
      "7 8\n"
     ]
    },
    {
     "data": {
      "text/plain": [
       "False"
      ]
     },
     "execution_count": 53,
     "metadata": {},
     "output_type": "execute_result"
    }
   ],
   "source": [
    "s = 'lintcode'\n",
    "dict = [\"li\", \"nt\", \"cod\"]\n",
    "wordBreak(s, dict)"
   ]
  },
  {
   "cell_type": "code",
   "execution_count": null,
   "metadata": {},
   "outputs": [],
   "source": []
  }
 ],
 "metadata": {
  "kernelspec": {
   "display_name": "Python 3",
   "language": "python",
   "name": "python3"
  },
  "language_info": {
   "codemirror_mode": {
    "name": "ipython",
    "version": 3
   },
   "file_extension": ".py",
   "mimetype": "text/x-python",
   "name": "python",
   "nbconvert_exporter": "python",
   "pygments_lexer": "ipython3",
   "version": "3.6.8"
  }
 },
 "nbformat": 4,
 "nbformat_minor": 2
}
