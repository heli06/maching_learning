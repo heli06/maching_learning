{
 "cells": [
  {
   "cell_type": "code",
   "execution_count": 1,
   "metadata": {},
   "outputs": [],
   "source": [
    "import time\n",
    "import random\n",
    "import math"
   ]
  },
  {
   "cell_type": "code",
   "execution_count": 2,
   "metadata": {},
   "outputs": [],
   "source": [
    "people = [('Seymour', 'BOS'),\n",
    "          ('Franny', 'DAL'),\n",
    "          ('Zooey', 'CAK'),\n",
    "          ('Walt', 'MIA'),\n",
    "          ('Buddy', 'ORD'),\n",
    "          ('Les', 'OMA')]\n",
    "\n",
    "destination = 'LGA'"
   ]
  },
  {
   "cell_type": "code",
   "execution_count": 3,
   "metadata": {},
   "outputs": [],
   "source": [
    "flights = {}\n",
    "\n",
    "for line in open('schedule.txt'):\n",
    "    origin, dest, depart, arrive, price = line.strip().split(',')\n",
    "    flights.setdefault((origin, dest), [])\n",
    "    # 将航班详情添加到航班列表中\n",
    "    flights[(origin, dest)].append((depart, arrive, int(price)))\n",
    "\n",
    "# 获取分钟数\n",
    "def getminutes(t):\n",
    "    x = time.strptime(t, '%H:%M')\n",
    "    return x[3]*60 +x[4]\n",
    "\n",
    "# 打印时间表\n",
    "def printschedule(r):\n",
    "    for d in range(int(len(r)/2)):\n",
    "        name = people[d][0]\n",
    "        origin = people[d][1]\n",
    "        out = flights[(origin, destination)][r[2*d]]\n",
    "        ret = flights[(destination, origin)][r[2*d+1]]\n",
    "        print('%10s%10s %5s-%5s $%3s %5s-%5s $%3s' % (name, origin, out[0], out[1], out[2], ret[0], ret[1], ret[2]))"
   ]
  },
  {
   "cell_type": "code",
   "execution_count": 4,
   "metadata": {},
   "outputs": [],
   "source": [
    "# 成本函数\n",
    "def schedulecost(sol):\n",
    "    totalprice = 0\n",
    "    latestarrival = 0\n",
    "    earliestdep = 24*60\n",
    "    \n",
    "    for d in range(int(len(sol)/2)):\n",
    "        # 得到往返航班\n",
    "        origin = people[d][1]\n",
    "        outbound = flights[(origin, destination)][int(sol[2*d])]\n",
    "        returnf = flights[(destination, origin)][int(sol[2*d+1])]\n",
    "        \n",
    "        # 总价格等于所有往返航班价格之和\n",
    "        totalprice += outbound[2]\n",
    "        totalprice += returnf[2]\n",
    "        \n",
    "        # 记录最晚到达时间和最早离开时间\n",
    "        if latestarrival < getminutes(outbound[1]):\n",
    "            latestarrival = getminutes(outbound[1])\n",
    "        if earliestdep > getminutes(returnf[0]):\n",
    "            earliestdep = getminutes(returnf[0])\n",
    "    \n",
    "    # 每个人必须在机场等待，直到最后一个人到达\n",
    "    # 每个人必须在相同时间到达机场，等候往返航班\n",
    "    # 在机场的等待时间价值1美元\n",
    "    totalwait = 0\n",
    "    for d in range(int(len(sol)/2)):\n",
    "        origin = people[d][1]\n",
    "        outbound = flights[(origin, destination)][int(sol[2*d])]\n",
    "        returnf = flights[(destination, origin)][int(sol[2*d+1])]\n",
    "        totalwait += latestarrival - getminutes(outbound[1])\n",
    "        totalwait += getminutes(returnf[0]) - earliestdep\n",
    "        \n",
    "    if latestarrival < earliestdep:\n",
    "        totalprice += 50\n",
    "    \n",
    "    return totalprice+totalwait"
   ]
  },
  {
   "cell_type": "code",
   "execution_count": 5,
   "metadata": {},
   "outputs": [
    {
     "name": "stdout",
     "output_type": "stream",
     "text": [
      "4585\n",
      "   Seymour       BOS  8:04-10:11 $ 95 12:08-14:05 $142\n",
      "    Franny       DAL 10:30-14:57 $290  9:49-13:51 $229\n",
      "     Zooey       CAK 17:08-19:08 $262 10:32-13:16 $139\n",
      "      Walt       MIA 15:34-18:11 $326 11:08-14:38 $262\n",
      "     Buddy       ORD  9:42-11:32 $169 12:08-14:47 $231\n",
      "       Les       OMA 13:37-15:08 $250 11:07-13:24 $171\n"
     ]
    }
   ],
   "source": [
    "s = [1,4,3,2,7,3,6,3,2,4,5,3]\n",
    "print(schedulecost(s))\n",
    "printschedule(s)"
   ]
  },
  {
   "cell_type": "code",
   "execution_count": 6,
   "metadata": {},
   "outputs": [],
   "source": [
    "# 随机搜索\n",
    "def randomoptimize(domain, costf):\n",
    "    best = 99999999\n",
    "    bestr = None\n",
    "    for i in range(1000):\n",
    "        # 创建一个随机解\n",
    "        r = [random.randint(domain[i][0], domain[i][1]) for i in range(len(domain))]\n",
    "        # 得到成本\n",
    "        cost = costf(r)\n",
    "        \n",
    "        if cost < best:\n",
    "            best = cost\n",
    "            bestr = r\n",
    "    return r"
   ]
  },
  {
   "cell_type": "code",
   "execution_count": 7,
   "metadata": {},
   "outputs": [
    {
     "name": "stdout",
     "output_type": "stream",
     "text": [
      "5940\n",
      "   Seymour       BOS  6:17- 8:26 $ 89 13:39-15:30 $ 74\n",
      "    Franny       DAL 12:19-15:25 $342 17:14-20:59 $277\n",
      "     Zooey       CAK 12:08-14:59 $149 18:17-21:04 $259\n",
      "      Walt       MIA 17:07-20:04 $291 15:23-18:49 $150\n",
      "     Buddy       ORD  8:25-10:34 $157 10:33-13:11 $132\n",
      "       Les       OMA 18:12-20:17 $242  9:31-11:43 $210\n"
     ]
    }
   ],
   "source": [
    "domain = [(0,9)] * (len(people) * 2)\n",
    "ss = randomoptimize(domain, schedulecost)\n",
    "print(schedulecost(ss))\n",
    "printschedule(ss)"
   ]
  },
  {
   "cell_type": "code",
   "execution_count": 8,
   "metadata": {},
   "outputs": [],
   "source": [
    "# 爬山法\n",
    "# 基于时间成本，寻找更合适的相邻安排\n",
    "def hillclimb(domain, costf):\n",
    "    # 创建一个随机解\n",
    "    sol = [random.randint(domain[i][0], domain[i][1]) for i in range(len(domain))]\n",
    "    \n",
    "    while True:\n",
    "        # 创建相邻解的列表\n",
    "        neighbors = []\n",
    "        for j in range(len(domain)):\n",
    "            # 在每个方向上偏离原值一点\n",
    "            if sol[j] > domain[j][0]:\n",
    "                neighbors.append(sol[0:j] + [sol[j]-1] + sol[j+1:])\n",
    "            \n",
    "            if sol[j] < domain[j][1]:\n",
    "                neighbors.append(sol[0:j] + [sol[j]+1] + sol[j+1:])\n",
    "                \n",
    "        current = costf(sol)\n",
    "        best = current\n",
    "        for j in range(len(neighbors)):\n",
    "            cost = costf(neighbors[j])\n",
    "            if cost < best:\n",
    "                best = cost\n",
    "                sol = neighbors[j]\n",
    "        \n",
    "        if best == current:\n",
    "            break\n",
    "            \n",
    "    return sol"
   ]
  },
  {
   "cell_type": "code",
   "execution_count": 9,
   "metadata": {},
   "outputs": [
    {
     "name": "stdout",
     "output_type": "stream",
     "text": [
      "3181\n",
      "   Seymour       BOS 12:34-15:02 $109 10:33-12:03 $ 74\n",
      "    Franny       DAL 10:30-14:57 $290 14:20-17:32 $332\n",
      "     Zooey       CAK  8:27-10:45 $139 10:32-13:16 $139\n",
      "      Walt       MIA 11:28-14:40 $248 15:23-18:49 $150\n",
      "     Buddy       ORD  9:42-11:32 $169 10:33-13:11 $132\n",
      "       Les       OMA 12:18-14:56 $172 11:07-13:24 $171\n"
     ]
    }
   ],
   "source": [
    "ss = hillclimb(domain, schedulecost)\n",
    "print(schedulecost(ss))\n",
    "printschedule(ss)"
   ]
  },
  {
   "cell_type": "code",
   "execution_count": null,
   "metadata": {},
   "outputs": [],
   "source": []
  }
 ],
 "metadata": {
  "kernelspec": {
   "display_name": "Python 3",
   "language": "python",
   "name": "python3"
  },
  "language_info": {
   "codemirror_mode": {
    "name": "ipython",
    "version": 3
   },
   "file_extension": ".py",
   "mimetype": "text/x-python",
   "name": "python",
   "nbconvert_exporter": "python",
   "pygments_lexer": "ipython3",
   "version": "3.6.8"
  }
 },
 "nbformat": 4,
 "nbformat_minor": 2
}
