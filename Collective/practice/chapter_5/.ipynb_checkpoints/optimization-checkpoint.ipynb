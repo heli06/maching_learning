{
 "cells": [
  {
   "cell_type": "code",
   "execution_count": 1,
   "metadata": {},
   "outputs": [],
   "source": [
    "import time\n",
    "import random\n",
    "import math"
   ]
  },
  {
   "cell_type": "code",
   "execution_count": 2,
   "metadata": {},
   "outputs": [],
   "source": [
    "people = [('Seymour', 'BOS'),\n",
    "          ('Franny', 'DAL'),\n",
    "          ('Zooey', 'CAK'),\n",
    "          ('Walt', 'MIA'),\n",
    "          ('Buddy', 'ORD'),\n",
    "          ('Les', 'OMA')]\n",
    "\n",
    "destination = 'LGA'"
   ]
  },
  {
   "cell_type": "code",
   "execution_count": 3,
   "metadata": {},
   "outputs": [],
   "source": [
    "flights = {}\n",
    "\n",
    "for line in open('schedule.txt'):\n",
    "    origin, dest, depart, arrive, price = line.strip().split(',')\n",
    "    flights.setdefault((origin, dest), [])\n",
    "    # 将航班详情添加到航班列表中\n",
    "    flights[(origin, dest)].append((depart, arrive, int(price)))\n",
    "\n",
    "# 获取分钟数\n",
    "def getminutes(t):\n",
    "    x = time.strptime(t, '%H:%M')\n",
    "    return x[3]*60 +x[4]\n",
    "\n",
    "# 打印时间表\n",
    "def printschedule(r):\n",
    "    for d in range(int(len(r)/2)):\n",
    "        name = people[d][0]\n",
    "        origin = people[d][1]\n",
    "        out = flights[(origin, destination)][r[2*d]]\n",
    "        ret = flights[(destination, origin)][r[2*d+1]]\n",
    "        print('%10s%10s %5s-%5s $%3s %5s-%5s $%3s' % (name, origin, out[0], out[1], out[2], ret[0], ret[1], ret[2]))"
   ]
  },
  {
   "cell_type": "code",
   "execution_count": 4,
   "metadata": {},
   "outputs": [],
   "source": [
    "# 成本函数\n",
    "def schedulecost(sol):\n",
    "    totalprice = 0\n",
    "    latestarrival = 0\n",
    "    earliestdep = 24*60\n",
    "    \n",
    "    for d in range(int(len(sol)/2)):\n",
    "        # 得到往返航班\n",
    "        origin = people[d][1]\n",
    "        outbound = flights[(origin, destination)][int(sol[2*d])]\n",
    "        returnf = flights[(destination, origin)][int(sol[2*d+1])]\n",
    "        \n",
    "        # 总价格等于所有往返航班价格之和\n",
    "        totalprice += outbound[2]\n",
    "        totalprice += returnf[2]\n",
    "        \n",
    "        # 记录最晚到达时间和最早离开时间\n",
    "        if latestarrival < getminutes(outbound[1]):\n",
    "            latestarrival = getminutes(outbound[1])\n",
    "        if earliestdep > getminutes(returnf[0]):\n",
    "            earliestdep = getminutes(returnf[0])\n",
    "    \n",
    "    # 每个人必须在机场等待，直到最后一个人到达\n",
    "    # 每个人必须在相同时间到达机场，等候往返航班\n",
    "    # 在机场的等待时间价值1美元\n",
    "    totalwait = 0\n",
    "    for d in range(int(len(sol)/2)):\n",
    "        origin = people[d][1]\n",
    "        outbound = flights[(origin, destination)][int(sol[2*d])]\n",
    "        returnf = flights[(destination, origin)][int(sol[2*d+1])]\n",
    "        totalwait += latestarrival - getminutes(outbound[1])\n",
    "        totalwait += getminutes(returnf[0]) - earliestdep\n",
    "        \n",
    "    if latestarrival < earliestdep:\n",
    "        totalprice += 50\n",
    "    \n",
    "    return totalprice+totalwait"
   ]
  },
  {
   "cell_type": "code",
   "execution_count": 5,
   "metadata": {},
   "outputs": [
    {
     "name": "stdout",
     "output_type": "stream",
     "text": [
      "4585\n",
      "   Seymour       BOS  8:04-10:11 $ 95 12:08-14:05 $142\n",
      "    Franny       DAL 10:30-14:57 $290  9:49-13:51 $229\n",
      "     Zooey       CAK 17:08-19:08 $262 10:32-13:16 $139\n",
      "      Walt       MIA 15:34-18:11 $326 11:08-14:38 $262\n",
      "     Buddy       ORD  9:42-11:32 $169 12:08-14:47 $231\n",
      "       Les       OMA 13:37-15:08 $250 11:07-13:24 $171\n"
     ]
    }
   ],
   "source": [
    "s = [1,4,3,2,7,3,6,3,2,4,5,3]\n",
    "print(schedulecost(s))\n",
    "printschedule(s)"
   ]
  },
  {
   "cell_type": "code",
   "execution_count": 6,
   "metadata": {},
   "outputs": [],
   "source": [
    "# 随机搜索\n",
    "def randomoptimize(domain, costf):\n",
    "    best = 99999999\n",
    "    bestr = None\n",
    "    for i in range(1000):\n",
    "        # 创建一个随机解\n",
    "        r = [random.randint(domain[i][0], domain[i][1]) for i in range(len(domain))]\n",
    "        # 得到成本\n",
    "        cost = costf(r)\n",
    "        \n",
    "        if cost < best:\n",
    "            best = cost\n",
    "            bestr = r\n",
    "    return r"
   ]
  },
  {
   "cell_type": "code",
   "execution_count": 7,
   "metadata": {},
   "outputs": [
    {
     "name": "stdout",
     "output_type": "stream",
     "text": [
      "5467\n",
      "   Seymour       BOS 20:17-22:22 $102  6:39- 8:09 $ 86\n",
      "    Franny       DAL 16:52-20:48 $448  7:57-11:15 $347\n",
      "     Zooey       CAK 10:53-13:36 $189 18:17-21:04 $259\n",
      "      Walt       MIA 14:01-17:24 $338  8:23-11:07 $143\n",
      "     Buddy       ORD 19:50-22:24 $269 10:33-13:11 $132\n",
      "       Les       OMA 15:03-16:42 $135 15:07-17:21 $129\n"
     ]
    }
   ],
   "source": [
    "domain = [(0,9)] * (len(people) * 2)\n",
    "ss = randomoptimize(domain, schedulecost)\n",
    "print(schedulecost(ss))\n",
    "printschedule(ss)"
   ]
  },
  {
   "cell_type": "code",
   "execution_count": null,
   "metadata": {},
   "outputs": [],
   "source": []
  }
 ],
 "metadata": {
  "kernelspec": {
   "display_name": "Python 3",
   "language": "python",
   "name": "python3"
  },
  "language_info": {
   "codemirror_mode": {
    "name": "ipython",
    "version": 3
   },
   "file_extension": ".py",
   "mimetype": "text/x-python",
   "name": "python",
   "nbconvert_exporter": "python",
   "pygments_lexer": "ipython3",
   "version": "3.6.8"
  }
 },
 "nbformat": 4,
 "nbformat_minor": 2
}
