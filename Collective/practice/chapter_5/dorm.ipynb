{
 "cells": [
  {
   "cell_type": "code",
   "execution_count": 1,
   "metadata": {},
   "outputs": [],
   "source": [
    "import random\n",
    "import math"
   ]
  },
  {
   "cell_type": "code",
   "execution_count": 2,
   "metadata": {},
   "outputs": [],
   "source": [
    "# The dorms, each of which has two available spaces\n",
    "dorms=['Zeus','Athena','Hercules','Bacchus','Pluto']\n",
    "\n",
    "# People, along with their first and second choices\n",
    "prefs=[('Toby', ('Bacchus', 'Hercules')),\n",
    "       ('Steve', ('Zeus', 'Pluto')),\n",
    "       ('Karen', ('Athena', 'Zeus')),\n",
    "       ('Sarah', ('Zeus', 'Pluto')),\n",
    "       ('Dave', ('Athena', 'Bacchus')), \n",
    "       ('Jeff', ('Hercules', 'Pluto')), \n",
    "       ('Fred', ('Pluto', 'Athena')), \n",
    "       ('Suzie', ('Bacchus', 'Hercules')), \n",
    "       ('Laura', ('Bacchus', 'Hercules')), \n",
    "       ('James', ('Hercules', 'Athena'))]"
   ]
  },
  {
   "cell_type": "code",
   "execution_count": 3,
   "metadata": {},
   "outputs": [],
   "source": [
    "domain = [(0, len(dorms)*2-i-1) for i in range(0, len(dorms)*2)]\n",
    "\n",
    "def printsolution(vec):\n",
    "    slots = []\n",
    "    # 为每个宿舍建两个槽\n",
    "    for i in range(len(dorms)):\n",
    "        slots += [i,i]\n",
    "        \n",
    "    # 遍历每一名学生的安置情况\n",
    "    for i in range(len(vec)):\n",
    "        x = int(vec[i])\n",
    "        \n",
    "        # 从剩余槽中选择\n",
    "        dorm = dorms[slots[x]]\n",
    "        # 输出学生及其被分配的宿舍\n",
    "        print(prefs[i][0], dorm)\n",
    "        # 删除该槽\n",
    "        del slots[x]"
   ]
  },
  {
   "cell_type": "code",
   "execution_count": 4,
   "metadata": {},
   "outputs": [
    {
     "name": "stdout",
     "output_type": "stream",
     "text": [
      "Toby Zeus\n",
      "Steve Zeus\n",
      "Karen Athena\n",
      "Sarah Athena\n",
      "Dave Hercules\n",
      "Jeff Hercules\n",
      "Fred Bacchus\n",
      "Suzie Bacchus\n",
      "Laura Pluto\n",
      "James Pluto\n"
     ]
    }
   ],
   "source": [
    "printsolution([0,0,0,0,0,0,0,0,0,0])"
   ]
  },
  {
   "cell_type": "code",
   "execution_count": 5,
   "metadata": {},
   "outputs": [],
   "source": [
    "def dormcost(vec):\n",
    "    cost = 0\n",
    "    # 建立一个槽序列\n",
    "    slots = [0,0,1,1,2,2,3,3,4,4]\n",
    "    # 遍历每一名学生\n",
    "    for i in range(len(vec)):\n",
    "        x = int(vec[i])\n",
    "        dorm = dorms[slots[x]]\n",
    "        pref = prefs[i][1]\n",
    "        # 首选成本值为0，次选成本值为1\n",
    "        if pref[0] == dorm:\n",
    "            cost += 0\n",
    "        elif pref[1] == dorm:\n",
    "            cost += 1\n",
    "        # 不在选择之列则成本值为3\n",
    "        else:\n",
    "            cost += 3\n",
    "        # 删除选中的槽\n",
    "        del slots[x]\n",
    "        \n",
    "    return cost"
   ]
  }
 ],
 "metadata": {
  "kernelspec": {
   "display_name": "Python 3",
   "language": "python",
   "name": "python3"
  },
  "language_info": {
   "codemirror_mode": {
    "name": "ipython",
    "version": 3
   },
   "file_extension": ".py",
   "mimetype": "text/x-python",
   "name": "python",
   "nbconvert_exporter": "python",
   "pygments_lexer": "ipython3",
   "version": "3.6.8"
  }
 },
 "nbformat": 4,
 "nbformat_minor": 2
}
