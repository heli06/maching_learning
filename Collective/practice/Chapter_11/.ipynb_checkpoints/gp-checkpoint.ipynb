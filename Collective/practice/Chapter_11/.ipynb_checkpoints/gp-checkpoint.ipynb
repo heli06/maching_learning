{
 "cells": [
  {
   "cell_type": "code",
   "execution_count": 1,
   "metadata": {},
   "outputs": [],
   "source": [
    "from random import random, randint, choice\n",
    "from copy import deepcopy\n",
    "from math import log"
   ]
  },
  {
   "cell_type": "code",
   "execution_count": 20,
   "metadata": {},
   "outputs": [],
   "source": [
    "# 一个封装类，对应于“函数型”节点上的函数\n",
    "class fwrapper:\n",
    "    # function 函数本身\n",
    "    # childcount 参数个数\n",
    "    # name 函数名称\n",
    "    def __init__(self, function, childcount, name):\n",
    "        self.function = function\n",
    "        self.childcount = childcount\n",
    "        self.name = name\n",
    "\n",
    "# 对应于函数型节点（即带子节点的节点）\n",
    "class node:\n",
    "    def __init__(self, fw, children):\n",
    "        self.function = fw.function\n",
    "        self.name = fw.name\n",
    "        self.children = children\n",
    "    \n",
    "    # 当 evaluate 被调用时，对各个子节点进行求值运算，再将函数本身应用于求得的结果\n",
    "    def evaluate(self, inp):\n",
    "        results = [n.evaluate(inp) for n in self.children]\n",
    "        return self.function(results)\n",
    "    \n",
    "    def display(self, indent=0):\n",
    "        print((' '*indent) + self.name)\n",
    "        for c in self.children:\n",
    "            c.display(indent+1)\n",
    "    \n",
    "# 参数节点\n",
    "# 该类对应的节点只返回传递给程序的某个参数\n",
    "class paramnode:\n",
    "    def __init__(self, idx):\n",
    "        self.idx = idx\n",
    "    \n",
    "    def evaluate(self, inp):\n",
    "        return inp[self.idx]\n",
    "    \n",
    "    def display(self, indent=0):\n",
    "        print('%sp%d' % (' '*indent, self.idx))\n",
    "\n",
    "# 常量节点\n",
    "# 返回常量值的节点\n",
    "class constnode:\n",
    "    def __init__(self, v):\n",
    "        self.v = v\n",
    "        \n",
    "    def evaluate(self, inp):\n",
    "        return self.v\n",
    "    \n",
    "    def display(self, indent=0):\n",
    "        print('%s%d' % (' '*indent, self.v))"
   ]
  },
  {
   "cell_type": "code",
   "execution_count": 21,
   "metadata": {},
   "outputs": [],
   "source": [
    "# 针对节点的操作函数\n",
    "addw = fwrapper(lambda l:l[0]+l[1], 2, 'add')\n",
    "subw = fwrapper(lambda l:l[0]-l[1], 2, 'subtract')\n",
    "mulw = fwrapper(lambda l:l[0]*l[1], 2, 'multiply')\n",
    "\n",
    "def iffunc(l):\n",
    "    if l[0] > 0:\n",
    "        return l[1]\n",
    "    else:\n",
    "        return l[2]\n",
    "    \n",
    "ifw = fwrapper(iffunc, 3, 'if')\n",
    "\n",
    "def isgreater(l):\n",
    "    if l[0] > l[1]:\n",
    "        return 1\n",
    "    else:\n",
    "        return 0\n",
    "\n",
    "gtw = fwrapper(isgreater, 2, 'isgreater')\n",
    "\n",
    "flist = [addw, mulw, ifw, gtw, subw]"
   ]
  },
  {
   "cell_type": "code",
   "execution_count": 22,
   "metadata": {},
   "outputs": [],
   "source": [
    "# def func(x,y):\n",
    "#     if x > 3:\n",
    "#         return y + 5\n",
    "#     else:\n",
    "#         return y - 2\n",
    "def exampletree():\n",
    "    return node(ifw, [\n",
    "        node(gtw, [paramnode(0), constnode(3)]),\n",
    "        node(addw, [paramnode(1), constnode(5)]),\n",
    "        node(subw, [paramnode(1), constnode(2)])\n",
    "    ])\n",
    "\n",
    "# abs(x+y)\n",
    "# def abs(x,y):\n",
    "#     if x+y > 3:\n",
    "#         return x + y\n",
    "#     else:\n",
    "#         return -(x+y)\n",
    "def abstree():\n",
    "    return node(ifw, [\n",
    "        node(gtw, [\n",
    "            node(addw, [\n",
    "                paramnode(0), \n",
    "                paramnode(1)\n",
    "            ]),\n",
    "            constnode(0)\n",
    "        ]),\n",
    "        node(addw, [\n",
    "            paramnode(0), \n",
    "            paramnode(1)\n",
    "        ]),\n",
    "        node(subw, [\n",
    "            constnode(0),\n",
    "            node(addw, [\n",
    "                paramnode(0),\n",
    "                paramnode(1)\n",
    "            ])      \n",
    "        ])\n",
    "    ])"
   ]
  },
  {
   "cell_type": "code",
   "execution_count": 23,
   "metadata": {},
   "outputs": [
    {
     "name": "stdout",
     "output_type": "stream",
     "text": [
      "1\n",
      "8\n",
      "if\n",
      " isgreater\n",
      "  p0\n",
      "  3\n",
      " add\n",
      "  p1\n",
      "  5\n",
      " subtract\n",
      "  p1\n",
      "  2\n"
     ]
    }
   ],
   "source": [
    "exampletree = exampletree()\n",
    "print(exampletree.evaluate([2,3]))\n",
    "print(exampletree.evaluate([5,3]))\n",
    "exampletree.display()"
   ]
  },
  {
   "cell_type": "code",
   "execution_count": 24,
   "metadata": {},
   "outputs": [
    {
     "name": "stdout",
     "output_type": "stream",
     "text": [
      "5\n",
      "1\n",
      "if\n",
      " isgreater\n",
      "  add\n",
      "   p0\n",
      "   p1\n",
      "  0\n",
      " add\n",
      "  p0\n",
      "  p1\n",
      " subtract\n",
      "  0\n",
      "  add\n",
      "   p0\n",
      "   p1\n"
     ]
    }
   ],
   "source": [
    "abstree = abstree()\n",
    "print(abstree.evaluate([2,3]))\n",
    "print(abstree.evaluate([2,-3]))\n",
    "abstree.display()"
   ]
  },
  {
   "cell_type": "code",
   "execution_count": 27,
   "metadata": {},
   "outputs": [],
   "source": [
    "# pc 参数数量\n",
    "# maxdepth 最大深度\n",
    "# fpr 产生的节点为函数节点的概率\n",
    "# ppr 产生的节点为参数节点的概率\n",
    "def makerandomtree(pc, maxdepth=4, fpr=0.5, ppr=0.6):\n",
    "    if random() < fpr and maxdepth > 0:\n",
    "        f = choice(flist)\n",
    "        children = [makerandomtree(pc, maxdepth-1, fpr, ppr) for i in range(f.childcount)]\n",
    "        return node(f, children)\n",
    "    \n",
    "    elif random() < ppr:\n",
    "        return paramnode(randint(0, pc-1))\n",
    "    else:\n",
    "        return constnode(randint(0, 10))"
   ]
  },
  {
   "cell_type": "code",
   "execution_count": 29,
   "metadata": {},
   "outputs": [
    {
     "name": "stdout",
     "output_type": "stream",
     "text": [
      "7\n",
      "2\n"
     ]
    }
   ],
   "source": [
    "random1 = makerandomtree(2)\n",
    "print(random1.evaluate([7,1]))\n",
    "print(random1.evaluate([2,4]))\n"
   ]
  },
  {
   "cell_type": "code",
   "execution_count": 30,
   "metadata": {},
   "outputs": [
    {
     "name": "stdout",
     "output_type": "stream",
     "text": [
      "subtract\n",
      " p0\n",
      " 0\n"
     ]
    }
   ],
   "source": [
    "random1.display()"
   ]
  },
  {
   "cell_type": "code",
   "execution_count": 31,
   "metadata": {},
   "outputs": [
    {
     "name": "stdout",
     "output_type": "stream",
     "text": [
      "4\n",
      "-13\n",
      "add\n",
      " subtract\n",
      "  6\n",
      "  p1\n",
      " isgreater\n",
      "  subtract\n",
      "   p1\n",
      "   subtract\n",
      "    2\n",
      "    p1\n",
      "  2\n"
     ]
    }
   ],
   "source": [
    "random2 = makerandomtree(2)\n",
    "print(random2.evaluate([5,3]))\n",
    "print(random2.evaluate([5,20]))\n",
    "random2.display()"
   ]
  },
  {
   "cell_type": "code",
   "execution_count": 32,
   "metadata": {},
   "outputs": [],
   "source": [
    "def hiddenfunction(x,y):\n",
    "    return x**2 + 2*y + 3*x + 5\n",
    "\n",
    "def buildhiddenset():\n",
    "    rows = []\n",
    "    for i in range(200):\n",
    "        x = randint(0, 40)\n",
    "        y = randint(0, 40)\n",
    "        rows.append([x,y,hiddenfunction(x,y)])\n",
    "    return rows\n",
    "\n",
    "hiddenset = buildhiddenset()"
   ]
  },
  {
   "cell_type": "code",
   "execution_count": 33,
   "metadata": {},
   "outputs": [],
   "source": [
    "def scorefunction(tree, s):\n",
    "    dif = 0\n",
    "    for data in s:\n",
    "        v = tree.evaluate([data[0], data[1]])\n",
    "        dif += abs(v-data[2])\n",
    "    return dif"
   ]
  },
  {
   "cell_type": "code",
   "execution_count": 34,
   "metadata": {},
   "outputs": [
    {
     "data": {
      "text/plain": [
       "134314"
      ]
     },
     "execution_count": 34,
     "metadata": {},
     "output_type": "execute_result"
    }
   ],
   "source": [
    "scorefunction(random2, hiddenset)"
   ]
  },
  {
   "cell_type": "code",
   "execution_count": 35,
   "metadata": {},
   "outputs": [
    {
     "data": {
      "text/plain": [
       "127623"
      ]
     },
     "execution_count": 35,
     "metadata": {},
     "output_type": "execute_result"
    }
   ],
   "source": [
    "scorefunction(random1, hiddenset)"
   ]
  },
  {
   "cell_type": "code",
   "execution_count": 36,
   "metadata": {},
   "outputs": [],
   "source": [
    "# 以用一棵全新的树来替换子树的方式进行变异\n",
    "def mutate(t, pc, probchange=0.1):\n",
    "    if random() < probchange:\n",
    "        return makerandomtree(pc)\n",
    "    else:\n",
    "        result = deepcopy(t)\n",
    "        if isinstance(t, node):\n",
    "            result.children = [mutate(c, pc, probchange) for c in t.children]\n",
    "        return result"
   ]
  },
  {
   "cell_type": "code",
   "execution_count": 39,
   "metadata": {},
   "outputs": [
    {
     "name": "stdout",
     "output_type": "stream",
     "text": [
      "add\n",
      " subtract\n",
      "  6\n",
      "  p1\n",
      " isgreater\n",
      "  subtract\n",
      "   p1\n",
      "   subtract\n",
      "    2\n",
      "    p1\n",
      "  2\n",
      "\n",
      "add\n",
      " subtract\n",
      "  6\n",
      "  p1\n",
      " isgreater\n",
      "  subtract\n",
      "   p1\n",
      "   subtract\n",
      "    p1\n",
      "    p1\n",
      "  2\n"
     ]
    }
   ],
   "source": [
    "random2.display()\n",
    "muttree = mutate(random2, 2)\n",
    "print('')\n",
    "muttree.display()"
   ]
  },
  {
   "cell_type": "code",
   "execution_count": 40,
   "metadata": {},
   "outputs": [
    {
     "name": "stdout",
     "output_type": "stream",
     "text": [
      "134314\n",
      "134314\n"
     ]
    }
   ],
   "source": [
    "print(scorefunction(random2, hiddenset))\n",
    "print(scorefunction(muttree, hiddenset))"
   ]
  },
  {
   "cell_type": "code",
   "execution_count": 41,
   "metadata": {},
   "outputs": [],
   "source": [
    "def crossover(t1, t2, probswap=0.7, top=1):\n",
    "    if random() < probswap and not top:\n",
    "        return deepcopy(t2)\n",
    "    else:\n",
    "        result = deepcopy(t1)\n",
    "        if isinstance(t1, node) and isinstance(t2, node):\n",
    "            result.children = [crossover(c, choice(t2.children), probswap, 0) for c in t1.children]\n",
    "        \n",
    "        return result"
   ]
  },
  {
   "cell_type": "code",
   "execution_count": 53,
   "metadata": {},
   "outputs": [
    {
     "name": "stdout",
     "output_type": "stream",
     "text": [
      "multiply\n",
      " isgreater\n",
      "  add\n",
      "   if\n",
      "    p0\n",
      "    3\n",
      "    4\n",
      "   isgreater\n",
      "    5\n",
      "    p1\n",
      "  if\n",
      "   p0\n",
      "   add\n",
      "    0\n",
      "    3\n",
      "   p1\n",
      " isgreater\n",
      "  7\n",
      "  p1\n",
      "\n",
      "\n",
      "isgreater\n",
      " if\n",
      "  multiply\n",
      "   p0\n",
      "   p0\n",
      "  subtract\n",
      "   if\n",
      "    p1\n",
      "    p0\n",
      "    p0\n",
      "   subtract\n",
      "    p1\n",
      "    p1\n",
      "  10\n",
      " p0\n",
      "\n",
      "\n",
      "multiply\n",
      " if\n",
      "  multiply\n",
      "   p0\n",
      "   p0\n",
      "  subtract\n",
      "   if\n",
      "    p1\n",
      "    p0\n",
      "    p0\n",
      "   subtract\n",
      "    p1\n",
      "    p1\n",
      "  10\n",
      " p0\n"
     ]
    }
   ],
   "source": [
    "random1 = makerandomtree(2)\n",
    "random1.display()\n",
    "print('\\n')\n",
    "random2 = makerandomtree(2)\n",
    "random2.display()\n",
    "print('\\n')\n",
    "cross = crossover(random1, random2)\n",
    "cross.display()"
   ]
  },
  {
   "cell_type": "code",
   "execution_count": 59,
   "metadata": {},
   "outputs": [],
   "source": [
    "# rankfunction 将一组程序从优到劣进行排序的函数\n",
    "# mutationrate 变异概率\n",
    "# breedingrate 重组概率\n",
    "# popsize 初始种群的大小\n",
    "# probexp 选择劣势程序概率的递减比率\n",
    "# probnew 引入一个全新的随机程序的概率\n",
    "def evolve(pc, popsize, rankfunction, maxgen=500, mutationrate=0.1, breedingrate=0.4, pexp=0.7, pnew=0.05):\n",
    "    # 返回一个随机数，通常是较小的数\n",
    "    # pexp 的取值越小，得到的随机数就越小\n",
    "    def selectindex():\n",
    "        return int(log(random()) / log(pexp))\n",
    "    # 创建一个随机的初始种群\n",
    "    population = [makerandomtree(pc) for i in range(popsize)]\n",
    "    for i in range(maxgen):\n",
    "        scores = rankfunction(population)\n",
    "        print(scores[0][0])\n",
    "        if scores[0][0] == 0:\n",
    "            break\n",
    "        \n",
    "        # 总能得到两个最优的程序\n",
    "        # 精英选拔法（保送）\n",
    "        newpop = [scores[0][1], scores[1][1]]\n",
    "        # 构造下一代\n",
    "        while len(newpop) < popsize:\n",
    "            if random() > pnew:\n",
    "                newpop.append(mutate(\n",
    "                    crossover(scores[selectindex()][1],\n",
    "                             scores[selectindex()][1],\n",
    "                             probswap=breedingrate),\n",
    "                    pc, probchange=mutationrate\n",
    "                ))\n",
    "            else:\n",
    "                # 加入一个随机节点，以增加种群的多样性\n",
    "                newpop.append(makerandomtree(pc))\n",
    "                \n",
    "        population = newpop\n",
    "    \n",
    "    scores[0][1].display()\n",
    "    return scores[0][1]\n",
    "\n",
    "def getrankfunction(dataset):\n",
    "    def rankfunction(population):\n",
    "        # 获取列表的第一个元素\n",
    "        def takeFirst(elem):\n",
    "            return elem[0]\n",
    "        \n",
    "        scores = [(scorefunction(t, dataset), t) for t in population]\n",
    "        scores.sort(key=takeFirst)\n",
    "        return scores\n",
    "    \n",
    "    return rankfunction"
   ]
  },
  {
   "cell_type": "code",
   "execution_count": 60,
   "metadata": {},
   "outputs": [
    {
     "name": "stdout",
     "output_type": "stream",
     "text": [
      "24672\n",
      "7547\n",
      "5886\n",
      "5750\n",
      "5088\n",
      "3070\n",
      "2867\n",
      "2101\n",
      "1000\n",
      "0\n",
      "add\n",
      " add\n",
      "  p1\n",
      "  5\n",
      " subtract\n",
      "  p1\n",
      "  subtract\n",
      "   p0\n",
      "   multiply\n",
      "    p0\n",
      "    add\n",
      "     p0\n",
      "     4\n"
     ]
    },
    {
     "data": {
      "text/plain": [
       "<__main__.node at 0x2d5c5e72668>"
      ]
     },
     "execution_count": 60,
     "metadata": {},
     "output_type": "execute_result"
    }
   ],
   "source": [
    "rf = getrankfunction(buildhiddenset())\n",
    "evolve(2, 500, rf, mutationrate=0.2, breedingrate=0.1, pexp=0.7, pnew=0.1)"
   ]
  },
  {
   "cell_type": "code",
   "execution_count": 61,
   "metadata": {},
   "outputs": [],
   "source": [
    "def gridgame(p):\n",
    "    # 游戏区域的大小\n",
    "    Max = (3,3)\n",
    "    # 记住每位玩家的上一步\n",
    "    lastmove = [-1,-1]\n",
    "    # 记住玩家的位置\n",
    "    location = [[randint(0, Max[0]), randint(0, Max[1])]]\n",
    "    # 将第二位玩家放在离第一位玩家足够远的地方\n",
    "    location.append([(location[0][0]+2)%4, (location[0][1]+2)%4])\n",
    "    # 打成平局前的最大移动步数为50\n",
    "    for o in range(50):\n",
    "        # 针对每位玩家\n",
    "        for i in range(2):\n",
    "            locs = location[i][:] + location[1-i][:]\n",
    "            locs.append(lastmove[i])\n",
    "            move = p[i].evaluate(locs) % 4\n",
    "            \n",
    "            # 如果在一行中朝同一个方向移动了两次，就判定为你输\n",
    "            if lastmove[i] == move:\n",
    "                return 1-i\n",
    "            lastmove[i] = move\n",
    "            \n",
    "            if move == 0:\n",
    "                location[i][0] -= 1\n",
    "                if location[i][0] < 0:\n",
    "                    location[i][0] = 0\n",
    "            if move == 1:\n",
    "                location[i][0] += 1\n",
    "                if location[i][0] > Max[0]:\n",
    "                    location[i][0] = Max[0]\n",
    "            if move == 2:\n",
    "                location[i][1] -= 1\n",
    "                if location[i][1] < 0:\n",
    "                    location[i][1] = 0\n",
    "            if move == 3:\n",
    "                location[i][1] += 1\n",
    "                if location[i][1] > Max[1]:\n",
    "                    location[i][1] = Max[1]\n",
    "                    \n",
    "            # 如果抓住了对方玩家，就判定为你赢\n",
    "            if location[i] == location[1-i]:\n",
    "                return i\n",
    "    \n",
    "    return -1"
   ]
  },
  {
   "cell_type": "code",
   "execution_count": 62,
   "metadata": {},
   "outputs": [
    {
     "data": {
      "text/plain": [
       "1"
      ]
     },
     "execution_count": 62,
     "metadata": {},
     "output_type": "execute_result"
    }
   ],
   "source": [
    "p1 = makerandomtree(5)\n",
    "p2 = makerandomtree(5)\n",
    "gridgame([p1, p2])"
   ]
  },
  {
   "cell_type": "code",
   "execution_count": 69,
   "metadata": {},
   "outputs": [],
   "source": [
    "def tournament(plist):\n",
    "    # 统计失败的次数\n",
    "    losses = [0 for p in plist]\n",
    "    \n",
    "    # 每位玩家都将和其他玩家一一对抗\n",
    "    for i in range(len(plist)):\n",
    "        for j in range(len(plist)):\n",
    "            if i == j:\n",
    "                continue\n",
    "            \n",
    "            # 谁是胜利者？\n",
    "            winner = gridgame([plist[i], plist[j]])\n",
    "            # 失败得2分，打平得1分\n",
    "            if winner == 0:\n",
    "                losses[j] += 2\n",
    "            elif winner == 1:\n",
    "                losses[i] += 2\n",
    "            elif winner == -1:\n",
    "                losses[i] += 1\n",
    "                losses[i] += 1\n",
    "                pass\n",
    "    \n",
    "    # 对结果排序并返回\n",
    "    # 获取列表的第一个元素\n",
    "        def takeFirst(elem):\n",
    "            return elem[0]\n",
    "    z = list(zip(losses, plist))\n",
    "    z.sort(key=takeFirst)\n",
    "    return z"
   ]
  },
  {
   "cell_type": "code",
   "execution_count": 70,
   "metadata": {},
   "outputs": [
    {
     "name": "stdout",
     "output_type": "stream",
     "text": [
      "22\n",
      "40\n",
      "68\n",
      "66\n",
      "66\n",
      "76\n",
      "82\n",
      "68\n",
      "70\n",
      "94\n",
      "84\n",
      "90\n",
      "82\n",
      "48\n",
      "64\n",
      "70\n",
      "62\n",
      "46\n",
      "76\n",
      "48\n",
      "52\n",
      "70\n",
      "72\n",
      "38\n",
      "60\n",
      "58\n",
      "56\n",
      "62\n",
      "68\n",
      "68\n",
      "72\n",
      "64\n",
      "64\n",
      "42\n",
      "70\n",
      "50\n",
      "46\n",
      "66\n",
      "62\n",
      "66\n",
      "52\n",
      "60\n",
      "66\n",
      "52\n",
      "44\n",
      "40\n",
      "36\n",
      "42\n",
      "38\n",
      "24\n",
      "if\n",
      " subtract\n",
      "  3\n",
      "  p4\n",
      " 7\n",
      " isgreater\n",
      "  isgreater\n",
      "   subtract\n",
      "    multiply\n",
      "     7\n",
      "     p2\n",
      "    p1\n",
      "   isgreater\n",
      "    add\n",
      "     subtract\n",
      "      isgreater\n",
      "       p4\n",
      "       if\n",
      "        add\n",
      "         add\n",
      "          multiply\n",
      "           if\n",
      "            4\n",
      "            3\n",
      "            p1\n",
      "           subtract\n",
      "            6\n",
      "            7\n",
      "          if\n",
      "           p3\n",
      "           isgreater\n",
      "            4\n",
      "            p0\n",
      "           p4\n",
      "         2\n",
      "        p2\n",
      "        1\n",
      "      isgreater\n",
      "       p2\n",
      "       add\n",
      "        p1\n",
      "        p4\n",
      "     multiply\n",
      "      p0\n",
      "      multiply\n",
      "       isgreater\n",
      "        p0\n",
      "        p0\n",
      "       p4\n",
      "    p4\n",
      "  subtract\n",
      "   p3\n",
      "   p4\n"
     ]
    }
   ],
   "source": [
    "winner = evolve(5, 100, tournament, maxgen=50)"
   ]
  },
  {
   "cell_type": "code",
   "execution_count": 78,
   "metadata": {},
   "outputs": [],
   "source": [
    "class humanplayer:\n",
    "    def evaluate(self, board):\n",
    "        # 得到自己的位置和其他玩家的位置\n",
    "        me = tuple(board[0:2])\n",
    "        others = [tuple(board[x:x+2]) for x in range(2, len(board)-1, 2)]\n",
    "        # 显示游戏区域\n",
    "        for i in range(4):\n",
    "            for j in range(4):\n",
    "                if (i,j) == me:\n",
    "                    print('O', end='')\n",
    "                elif (i,j) in others:\n",
    "                    print('X', end='')\n",
    "                else:\n",
    "                    print('.', end='')\n",
    "            print('')\n",
    "            \n",
    "        # 显示上一步，作为参考\n",
    "        print('Your last move was %d' % board[len(board)-1])\n",
    "        print(' 0')\n",
    "        print('2 3')\n",
    "        print(' 1')\n",
    "        print('Enter move: ')\n",
    "        \n",
    "        # 不论用户输入什么内容，均直接返回\n",
    "        move = int(input())\n",
    "        return move"
   ]
  },
  {
   "cell_type": "code",
   "execution_count": 82,
   "metadata": {},
   "outputs": [
    {
     "name": "stdout",
     "output_type": "stream",
     "text": [
      "....\n",
      ".O..\n",
      "....\n",
      "...X\n",
      "Your last move was -1\n",
      " 0\n",
      "2 3\n",
      " 1\n",
      "Enter move: \n",
      "1\n",
      "....\n",
      "....\n",
      ".O..\n",
      "...X\n",
      "Your last move was 1\n",
      " 0\n",
      "2 3\n",
      " 1\n",
      "Enter move: \n",
      "3\n",
      "....\n",
      "....\n",
      "..O.\n",
      "...X\n",
      "Your last move was 3\n",
      " 0\n",
      "2 3\n",
      " 1\n",
      "Enter move: \n",
      "1\n",
      "....\n",
      "....\n",
      "....\n",
      "..OX\n",
      "Your last move was 1\n",
      " 0\n",
      "2 3\n",
      " 1\n",
      "Enter move: \n",
      "2\n",
      "....\n",
      "....\n",
      "....\n",
      ".O.X\n",
      "Your last move was 2\n",
      " 0\n",
      "2 3\n",
      " 1\n",
      "Enter move: \n",
      "0\n",
      "....\n",
      "....\n",
      ".O..\n",
      "...X\n",
      "Your last move was 0\n",
      " 0\n",
      "2 3\n",
      " 1\n",
      "Enter move: \n",
      "3\n",
      "....\n",
      "....\n",
      "..O.\n",
      "...X\n",
      "Your last move was 3\n",
      " 0\n",
      "2 3\n",
      " 1\n",
      "Enter move: \n",
      "1\n",
      "....\n",
      "....\n",
      "....\n",
      "..OX\n",
      "Your last move was 1\n",
      " 0\n",
      "2 3\n",
      " 1\n",
      "Enter move: \n",
      "3\n"
     ]
    },
    {
     "data": {
      "text/plain": [
       "1"
      ]
     },
     "execution_count": 82,
     "metadata": {},
     "output_type": "execute_result"
    }
   ],
   "source": [
    "gridgame([winner, humanplayer()])"
   ]
  },
  {
   "cell_type": "code",
   "execution_count": null,
   "metadata": {},
   "outputs": [],
   "source": []
  }
 ],
 "metadata": {
  "kernelspec": {
   "display_name": "Python 3",
   "language": "python",
   "name": "python3"
  },
  "language_info": {
   "codemirror_mode": {
    "name": "ipython",
    "version": 3
   },
   "file_extension": ".py",
   "mimetype": "text/x-python",
   "name": "python",
   "nbconvert_exporter": "python",
   "pygments_lexer": "ipython3",
   "version": "3.6.8"
  }
 },
 "nbformat": 4,
 "nbformat_minor": 2
}
