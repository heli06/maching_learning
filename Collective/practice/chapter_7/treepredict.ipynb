{
 "cells": [
  {
   "cell_type": "code",
   "execution_count": 1,
   "metadata": {},
   "outputs": [],
   "source": [
    "my_data=[['slashdot','USA','yes',18,'None'],\n",
    "        ['google','France','yes',23,'Premium'],\n",
    "        ['digg','USA','yes',24,'Basic'],\n",
    "        ['kiwitobes','France','yes',23,'Basic'],\n",
    "        ['google','UK','no',21,'Premium'],\n",
    "        ['(direct)','New Zealand','no',12,'None'],\n",
    "        ['(direct)','UK','no',21,'Basic'],\n",
    "        ['google','USA','no',24,'Premium'],\n",
    "        ['slashdot','France','yes',19,'None'],\n",
    "        ['digg','USA','no',18,'None'],\n",
    "        ['google','UK','no',18,'None'],\n",
    "        ['kiwitobes','UK','no',19,'None'],\n",
    "        ['digg','New Zealand','yes',12,'Basic'],\n",
    "        ['slashdot','UK','no',21,'None'],\n",
    "        ['google','UK','yes',18,'Basic'],\n",
    "        ['kiwitobes','France','yes',19,'Basic']]"
   ]
  },
  {
   "cell_type": "code",
   "execution_count": 2,
   "metadata": {},
   "outputs": [],
   "source": [
    "class decisionnode:\n",
    "    # col 待检验的判断条件所对应的列索引值\n",
    "    # value 为了使结果为true，当前列必须匹配的值\n",
    "    # tb 结果为true时，对应的节点\n",
    "    # fb 结果为false时，对应的节点\n",
    "    # results 当前分支的结果，是一个字典。除叶节点外，其他节点上该值为None\n",
    "    def __init__(self, col=-1, value=None, results=None, tb=None, fb=None):\n",
    "        self.col = col\n",
    "        self.value = value\n",
    "        self.results = results\n",
    "        self.tb = tb\n",
    "        self.fb = fb\n",
    "        \n",
    "        \n",
    "\n",
    "# 在某一列上对数据集合进行拆分，能够处理数据型数据或名词型数据\n",
    "# raw 列表\n",
    "# column 表中列所在位置的数字\n",
    "# value 用以对列进行拆分的参考值\n",
    "def divideset(rows, column, value):\n",
    "    # 定义一个函数，令其告诉我们数据行属于第一组（返回true）还是第二组（返回false）\n",
    "    split_function = None\n",
    "    if isinstance(value, int) or isinstance(value, float):\n",
    "        split_function = lambda row: row[column] >= value\n",
    "    else:\n",
    "        split_function = lambda row: row[column] == value\n",
    "\n",
    "    # 将数据集拆分成两个集合，并返回\n",
    "    set1 = [row for row in rows if split_function(row)]\n",
    "    set2 = [row for row in rows if not split_function(row)]\n",
    "    return (set1, set2)\n",
    "\n",
    "# 对各种可能的结果进行计数（每一行数据的最后一列记录了这一计数结果）\n",
    "def uniquecounts(rows):\n",
    "    results = {}\n",
    "    for row in rows:\n",
    "        # 计数结果在最后一列\n",
    "        r = row[len(row)-1]\n",
    "        if r not in results:\n",
    "            results[r] = 0\n",
    "        results[r] += 1\n",
    "    return results\n",
    "\n",
    "# 基尼不纯度 随机放置的数据项出现于错误分类中的概率\n",
    "def giniimpurity(rows):\n",
    "    total = len(rows)\n",
    "    counts = uniquecounts(rows)\n",
    "    imp = 0\n",
    "    for k1 in counts:\n",
    "        p1 = float(counts[k1])/total\n",
    "        for k2 in counts:\n",
    "            if k1 == k2:\n",
    "                continue\n",
    "            p2 = float(counts[k2])/total\n",
    "            imp += p1*p2\n",
    "    return imp\n",
    "\n",
    "# 熵，代表集合的无序程度\n",
    "# 熵在这里是遍历所有可能的结果之后，所得到的p(x)log(p(x))之和\n",
    "def entropy(rows):\n",
    "    from math import log\n",
    "    log2 = lambda x: log(x)/log(2)\n",
    "    results = uniquecounts(rows)\n",
    "    # 此处开始计算熵的值\n",
    "    ent = 0.0\n",
    "    for r in results.keys():\n",
    "        p = float(results[r])/len(rows)\n",
    "        ent = ent-p*log2(p)\n",
    "    return ent"
   ]
  },
  {
   "cell_type": "code",
   "execution_count": 3,
   "metadata": {},
   "outputs": [
    {
     "data": {
      "text/plain": [
       "([['slashdot', 'USA', 'yes', 18, 'None'],\n",
       "  ['google', 'France', 'yes', 23, 'Premium'],\n",
       "  ['digg', 'USA', 'yes', 24, 'Basic'],\n",
       "  ['kiwitobes', 'France', 'yes', 23, 'Basic'],\n",
       "  ['slashdot', 'France', 'yes', 19, 'None'],\n",
       "  ['digg', 'New Zealand', 'yes', 12, 'Basic'],\n",
       "  ['google', 'UK', 'yes', 18, 'Basic'],\n",
       "  ['kiwitobes', 'France', 'yes', 19, 'Basic']],\n",
       " [['google', 'UK', 'no', 21, 'Premium'],\n",
       "  ['(direct)', 'New Zealand', 'no', 12, 'None'],\n",
       "  ['(direct)', 'UK', 'no', 21, 'Basic'],\n",
       "  ['google', 'USA', 'no', 24, 'Premium'],\n",
       "  ['digg', 'USA', 'no', 18, 'None'],\n",
       "  ['google', 'UK', 'no', 18, 'None'],\n",
       "  ['kiwitobes', 'UK', 'no', 19, 'None'],\n",
       "  ['slashdot', 'UK', 'no', 21, 'None']])"
      ]
     },
     "execution_count": 3,
     "metadata": {},
     "output_type": "execute_result"
    }
   ],
   "source": [
    "# 分割集合\n",
    "divideset(my_data, 2, 'yes')"
   ]
  },
  {
   "cell_type": "code",
   "execution_count": 4,
   "metadata": {},
   "outputs": [
    {
     "name": "stdout",
     "output_type": "stream",
     "text": [
      "0.6328125\n",
      "1.5052408149441479\n",
      "0.53125\n",
      "1.2987949406953985\n"
     ]
    }
   ],
   "source": [
    "print(giniimpurity(my_data))\n",
    "print(entropy(my_data))\n",
    "set1, set2 = divideset(my_data, 2, 'yes')\n",
    "print(giniimpurity(set1))\n",
    "print(entropy(set1))"
   ]
  },
  {
   "cell_type": "code",
   "execution_count": 5,
   "metadata": {},
   "outputs": [],
   "source": [
    "# 建树\n",
    "def buildtree(rows, scoref = entropy):\n",
    "    if len(rows) == 0:\n",
    "        return decisionnode()\n",
    "    current_score = scoref(rows)\n",
    "    # 定义一些变量以记录最佳拆分条件\n",
    "    best_gain = 0.0\n",
    "    best_criteria = None\n",
    "    best_sets = None\n",
    "    \n",
    "    column_count = len(rows[0])-1\n",
    "    for col in range(0, column_count):\n",
    "        # 在当前列中生成一个由不同值构成的序列\n",
    "        column_values = {}\n",
    "        for row in rows:\n",
    "            column_values[row[col]] = 1\n",
    "        # 接下来根据这一列中的每个值，尝试对数据集进行拆分\n",
    "        for value in column_values.keys():\n",
    "            (set1, set2) = divideset(rows, col, value)\n",
    "            \n",
    "            # 信息增益\n",
    "            p = float(len(set1))/len(rows)\n",
    "            gain = current_score - p*scoref(set1) - (1-p)*scoref(set2)\n",
    "            if gain > best_gain and len(set1) > 0 and len(set2) > 0:\n",
    "                best_gain = gain\n",
    "                best_criteria = (col, value)\n",
    "                best_sets = (set1, set2)\n",
    "                \n",
    "    # 创建子分支\n",
    "    if best_gain > 0:\n",
    "        trueBranch = buildtree(best_sets[0])\n",
    "        falseBranch = buildtree(best_sets[1])\n",
    "        return decisionnode(col=best_criteria[0], value=best_criteria[1], tb=trueBranch, fb=falseBranch)\n",
    "    else:\n",
    "        return decisionnode(results=uniquecounts(rows))"
   ]
  },
  {
   "cell_type": "code",
   "execution_count": 6,
   "metadata": {},
   "outputs": [],
   "source": [
    "tree = buildtree(my_data)"
   ]
  },
  {
   "cell_type": "code",
   "execution_count": 7,
   "metadata": {},
   "outputs": [],
   "source": [
    "# 打印树\n",
    "def printtree(tree, indent=''):\n",
    "    # 这是一个叶节点吗？\n",
    "    if tree.results != None:\n",
    "        print(indent + str(tree.results))\n",
    "    else:\n",
    "        # 打印判断条件\n",
    "        print(indent + str(tree.col) + ':' + str(tree.value) + '? ')\n",
    "        # 打印分支\n",
    "        print(indent + 'T->')\n",
    "        printtree(tree.tb, indent + '  ')\n",
    "        print(indent + 'F->')\n",
    "        printtree(tree.fb, indent + '  ')"
   ]
  },
  {
   "cell_type": "code",
   "execution_count": 8,
   "metadata": {},
   "outputs": [
    {
     "name": "stdout",
     "output_type": "stream",
     "text": [
      "0:google? \n",
      "T->\n",
      "  3:21? \n",
      "  T->\n",
      "    {'Premium': 3}\n",
      "  F->\n",
      "    2:no? \n",
      "    T->\n",
      "      {'None': 1}\n",
      "    F->\n",
      "      {'Basic': 1}\n",
      "F->\n",
      "  0:slashdot? \n",
      "  T->\n",
      "    {'None': 3}\n",
      "  F->\n",
      "    2:yes? \n",
      "    T->\n",
      "      {'Basic': 4}\n",
      "    F->\n",
      "      3:21? \n",
      "      T->\n",
      "        {'Basic': 1}\n",
      "      F->\n",
      "        {'None': 3}\n"
     ]
    }
   ],
   "source": [
    "printtree(tree)"
   ]
  },
  {
   "cell_type": "code",
   "execution_count": 9,
   "metadata": {},
   "outputs": [],
   "source": [
    "def getwidth(tree):\n",
    "    if tree.tb == None and tree.fb == None:\n",
    "        return 1\n",
    "    return getwidth(tree.tb) + getwidth(tree.fb)\n",
    "\n",
    "def getdepth(tree):\n",
    "    if tree.tb == None and tree.fb == None:\n",
    "        return 0\n",
    "    return max(getdepth(tree.fb), getdepth(tree.fb)) + 1"
   ]
  },
  {
   "cell_type": "code",
   "execution_count": 10,
   "metadata": {},
   "outputs": [],
   "source": [
    "from PIL import Image, ImageDraw"
   ]
  },
  {
   "cell_type": "code",
   "execution_count": 11,
   "metadata": {},
   "outputs": [],
   "source": [
    "# 绘制\n",
    "def drawtree(tree, jpeg='tree.jpg'):\n",
    "    w = getwidth(tree) * 100\n",
    "    h = getdepth(tree) * 100 + 320\n",
    "    \n",
    "    img = Image.new('RGB', (w,h), (255,255,255))\n",
    "    draw = ImageDraw.Draw(img)\n",
    "    \n",
    "    drawnode(draw, tree, w/2, 20)\n",
    "    img.save(jpeg, 'JPEG')\n",
    "\n",
    "def drawnode(draw, tree, x, y):\n",
    "    if tree.results == None:\n",
    "        # 得到每个分支的宽度\n",
    "        w1 = getwidth(tree.fb) * 100\n",
    "        w2 = getwidth(tree.tb) * 100\n",
    "        # 确定此节点所要占据的总空间\n",
    "        left = x - (w1+w2)/2\n",
    "        right = x + (w1+w2)/2\n",
    "        # 绘制判断条件字符串\n",
    "        draw.text((x-20, y-10), str(tree.col) + ':' + str(tree.value), (0,0,0))\n",
    "        # 绘制到分支的连线\n",
    "        draw.line((x, y, left+w1/2, y+100), fill=(255, 0, 0))\n",
    "        draw.line((x, y, right-w2/2, y+100), fill=(255, 0, 0))\n",
    "        # 绘制分支的节点\n",
    "        drawnode(draw, tree.fb, left+w1/2, y+100)\n",
    "        drawnode(draw, tree.tb, right-w2/2, y+100)\n",
    "    else:\n",
    "        txt = '\\n'.join(['%s:%d' % v for v in tree.results.items()])\n",
    "        draw.text((x-20, y), txt, (0,0,0))"
   ]
  },
  {
   "cell_type": "code",
   "execution_count": 12,
   "metadata": {},
   "outputs": [],
   "source": [
    "drawtree(tree, jpeg='treeview.jpg')"
   ]
  },
  {
   "cell_type": "code",
   "execution_count": 13,
   "metadata": {},
   "outputs": [],
   "source": [
    "# 分类\n",
    "def classify(observation, tree):\n",
    "    if tree.results != None:\n",
    "        return tree.results\n",
    "    else:\n",
    "        v = observation[tree.col]\n",
    "        branch = None\n",
    "        if isinstance(v, int) or isinstance(v, float):\n",
    "            if v >= tree.value:\n",
    "                branch = tree.tb\n",
    "            else:\n",
    "                branch = tree.fb\n",
    "        else:\n",
    "            if v == tree.value:\n",
    "                branch = tree.tb\n",
    "            else:\n",
    "                branch = tree.fb\n",
    "    return classify(observation, branch)"
   ]
  },
  {
   "cell_type": "code",
   "execution_count": 14,
   "metadata": {},
   "outputs": [
    {
     "data": {
      "text/plain": [
       "{'Basic': 4}"
      ]
     },
     "execution_count": 14,
     "metadata": {},
     "output_type": "execute_result"
    }
   ],
   "source": [
    "classify(['(direct)', 'USA', 'yes', 5], tree)"
   ]
  },
  {
   "cell_type": "code",
   "execution_count": 15,
   "metadata": {},
   "outputs": [],
   "source": [
    "# 剪枝\n",
    "def prune(tree, mingain):\n",
    "    # 如果分支不是叶节点，进行剪枝操作\n",
    "    if tree.tb.results == None:\n",
    "        prune(tree.tb, mingain)\n",
    "    if tree.fb.results == None:\n",
    "        prune(tree.fb, mingain)\n",
    "    \n",
    "    # 如果两个子分支都是叶子结点，判断它们是否需要合并\n",
    "    if tree.tb.results != None and tree.fb.results != None:\n",
    "        # 构造合并后的数据集\n",
    "        tb, fb = [], []\n",
    "        for v,c in tree.tb.results.items():\n",
    "            tb += [[v]]*c\n",
    "        for v,c in tree.fb.results.items():\n",
    "            fb += [[v]]*c\n",
    "        \n",
    "        # 检查熵的减少情况\n",
    "        delta = entropy(tb + fb) - (entropy(tb) + entropy(fb))/2\n",
    "        if delta < mingain:\n",
    "            # 合并分支\n",
    "            tree.tb, tree.fb = None, None\n",
    "            tree.results = uniquecounts(tb + fb)"
   ]
  },
  {
   "cell_type": "code",
   "execution_count": 16,
   "metadata": {},
   "outputs": [
    {
     "name": "stdout",
     "output_type": "stream",
     "text": [
      "0:google? \n",
      "T->\n",
      "  3:21? \n",
      "  T->\n",
      "    {'Premium': 3}\n",
      "  F->\n",
      "    2:no? \n",
      "    T->\n",
      "      {'None': 1}\n",
      "    F->\n",
      "      {'Basic': 1}\n",
      "F->\n",
      "  0:slashdot? \n",
      "  T->\n",
      "    {'None': 3}\n",
      "  F->\n",
      "    2:yes? \n",
      "    T->\n",
      "      {'Basic': 4}\n",
      "    F->\n",
      "      3:21? \n",
      "      T->\n",
      "        {'Basic': 1}\n",
      "      F->\n",
      "        {'None': 3}\n"
     ]
    }
   ],
   "source": [
    "prune(tree, 0.1)\n",
    "printtree(tree)\n",
    "drawtree(tree, jpeg='treeview_1.jpg')"
   ]
  },
  {
   "cell_type": "code",
   "execution_count": 17,
   "metadata": {},
   "outputs": [
    {
     "name": "stdout",
     "output_type": "stream",
     "text": [
      "0:google? \n",
      "T->\n",
      "  3:21? \n",
      "  T->\n",
      "    {'Premium': 3}\n",
      "  F->\n",
      "    2:no? \n",
      "    T->\n",
      "      {'None': 1}\n",
      "    F->\n",
      "      {'Basic': 1}\n",
      "F->\n",
      "  {'None': 6, 'Basic': 5}\n"
     ]
    }
   ],
   "source": [
    "prune(tree, 1.0)\n",
    "printtree(tree)\n",
    "drawtree(tree, jpeg='treeview_2.jpg')"
   ]
  },
  {
   "cell_type": "code",
   "execution_count": 18,
   "metadata": {},
   "outputs": [],
   "source": [
    "# 带权重的分类\n",
    "def mdclassify(observation, tree):\n",
    "    if tree.results != None:\n",
    "        return tree.results\n",
    "    else:\n",
    "        v = observation[tree.col]\n",
    "        if v == None:\n",
    "            tr, fr = mdclassify(observation, tree.tb), mdclassify(observation, tree.fb)\n",
    "            tcount = sum(tr.values())\n",
    "            fcount = sum(fr.values())\n",
    "            tw = float(tcount) / (tcount + fcount)\n",
    "            fw = float(fcount) / (tcount + fcount)\n",
    "            result = {}\n",
    "            for k,v in tr.items():\n",
    "                result[k] = v*tw\n",
    "            for k,v in fr.items():\n",
    "                if k not in result:\n",
    "                    result[k] = 0\n",
    "                result[k] += v*fw\n",
    "            return result\n",
    "        \n",
    "        else:\n",
    "            if isinstance(v, int) or isinstance(v, float):\n",
    "                if v >= tree.value:\n",
    "                    branch = tree.tb\n",
    "                else:\n",
    "                    branch = tree.fb\n",
    "            else:\n",
    "                if v == tree.value:\n",
    "                    branch = tree.tb\n",
    "                else:\n",
    "                    branch = tree.fb\n",
    "            return mdclassify(observation, branch)"
   ]
  },
  {
   "cell_type": "code",
   "execution_count": 19,
   "metadata": {},
   "outputs": [
    {
     "name": "stdout",
     "output_type": "stream",
     "text": [
      "{'Premium': 2.25, 'Basic': 0.25}\n",
      "{'Basic': 1}\n"
     ]
    }
   ],
   "source": [
    "print(mdclassify(['google', None, 'yes', None], tree))\n",
    "print(mdclassify(['google', 'France', 'None', 'None'], tree))"
   ]
  },
  {
   "cell_type": "code",
   "execution_count": null,
   "metadata": {},
   "outputs": [],
   "source": [
    "# 以方差作为衡量标准\n",
    "def variance(rows):\n",
    "    if len(rows) == 0:\n",
    "        return 0\n",
    "    data = [float(row[len(row)-1]) for row in rows]\n",
    "    mean = sum(data) / len(data)\n",
    "    variance = sum([(d-mean) ** 2 for d in data]) / len(data)\n",
    "    return variance"
   ]
  }
 ],
 "metadata": {
  "kernelspec": {
   "display_name": "Python 3",
   "language": "python",
   "name": "python3"
  },
  "language_info": {
   "codemirror_mode": {
    "name": "ipython",
    "version": 3
   },
   "file_extension": ".py",
   "mimetype": "text/x-python",
   "name": "python",
   "nbconvert_exporter": "python",
   "pygments_lexer": "ipython3",
   "version": "3.6.8"
  }
 },
 "nbformat": 4,
 "nbformat_minor": 2
}
