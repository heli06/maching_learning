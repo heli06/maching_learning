{
 "cells": [
  {
   "cell_type": "code",
   "execution_count": 2,
   "metadata": {},
   "outputs": [],
   "source": [
    "import xml.dom.minidom\n",
    "import urllib.request as urllib2"
   ]
  },
  {
   "cell_type": "code",
   "execution_count": 6,
   "metadata": {},
   "outputs": [],
   "source": [
    "zwskey=\"***\"\n",
    "\n",
    "def getaddressdata(address,city):\n",
    "    escad=address.replace(' ','+')\n",
    "    url='http://www.zillow.com/webservice/GetDeepSearchResults.htm?'\n",
    "    url+='zws-id=%s&address=%s&citystatezip=%s' % (zwskey,escad,city)\n",
    "    doc=xml.dom.minidom.parseString(urllib2.urlopen(url).read())\n",
    "    code=doc.getElementsByTagName('code')[0].firstChild.data\n",
    "    if code!='0': return None\n",
    "    if 1:\n",
    "        zipcode=doc.getElementsByTagName('zipcode')[0].firstChild.data\n",
    "        use=doc.getElementsByTagName('useCode')[0].firstChild.data\n",
    "        year=doc.getElementsByTagName('yearBuilt')[0].firstChild.data\n",
    "        sqft=doc.getElementsByTagName('finishedSqFt')[0].firstChild.data\n",
    "        bath=doc.getElementsByTagName('bathrooms')[0].firstChild.data\n",
    "        bed=doc.getElementsByTagName('bedrooms')[0].firstChild.data\n",
    "        rooms=1 #doc.getElementsByTagName('totalRooms')[0].firstChild.data\n",
    "        price=doc.getElementsByTagName('amount')[0].firstChild.data\n",
    "    else:\n",
    "        return None\n",
    "       \n",
    "    return (zipcode,use,int(year),float(bath),int(bed),int(rooms),price)\n",
    "\n",
    "def getpricelist():\n",
    "    l1=[]\n",
    "    for line in open('addresslist.txt'):\n",
    "        data=getaddressdata(line.strip(),'Cambridge,MA')\n",
    "        l1.append(data)\n",
    "    return l1"
   ]
  },
  {
   "cell_type": "code",
   "execution_count": null,
   "metadata": {},
   "outputs": [],
   "source": [
    "housedata = getpricelist()"
   ]
  },
  {
   "cell_type": "code",
   "execution_count": null,
   "metadata": {},
   "outputs": [],
   "source": [
    "print(housedata)"
   ]
  },
  {
   "cell_type": "code",
   "execution_count": null,
   "metadata": {},
   "outputs": [],
   "source": []
  }
 ],
 "metadata": {
  "kernelspec": {
   "display_name": "Python 3",
   "language": "python",
   "name": "python3"
  },
  "language_info": {
   "codemirror_mode": {
    "name": "ipython",
    "version": 3
   },
   "file_extension": ".py",
   "mimetype": "text/x-python",
   "name": "python",
   "nbconvert_exporter": "python",
   "pygments_lexer": "ipython3",
   "version": "3.6.8"
  }
 },
 "nbformat": 4,
 "nbformat_minor": 2
}
