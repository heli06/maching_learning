{
 "cells": [
  {
   "cell_type": "code",
   "execution_count": 4,
   "metadata": {},
   "outputs": [],
   "source": [
    "from math import sqrt"
   ]
  },
  {
   "cell_type": "code",
   "execution_count": 5,
   "metadata": {},
   "outputs": [],
   "source": [
    "def pearson(v1, v2):\n",
    "    sum1 = sum(v1)\n",
    "    sum2 = sum(v2)\n",
    "    \n",
    "    sum1Sq = sum(pow(v, 2) for v in v1)\n",
    "    sum2Sq = sum(pow(v, 2) for v in v2)\n",
    "    \n",
    "    pSum = sum(v1[i] * v2[i] for i in range(len(v1)))\n",
    "    \n",
    "    num = pSum-(sum1*sum2/len(v1))\n",
    "    den = sqrt((sum1Sq - pow(sum1, 2)/len(v1)) * (sum2Sq-pow(sum2, 2)/len(v1)))\n",
    "    if den == 0:\n",
    "        return 0\n",
    "    \n",
    "    return 1.0-num/den"
   ]
  },
  {
   "cell_type": "code",
   "execution_count": 6,
   "metadata": {},
   "outputs": [],
   "source": [
    "class bicluster:\n",
    "    def __init__(self, vec, left=None, right=None, distance=0.0, id=None):\n",
    "        self.left = left\n",
    "        self.right = right\n",
    "        self.vec = vec\n",
    "        self.id = id\n",
    "        self.distance = distance"
   ]
  },
  {
   "cell_type": "code",
   "execution_count": 19,
   "metadata": {},
   "outputs": [],
   "source": [
    "def hcluster(rows, distance=pearson):\n",
    "    distances = {}\n",
    "    currentclustid = -1\n",
    "    \n",
    "    # 最开始的聚类\n",
    "    clust = [bicluster(rows[i], id=i) for i in range(len(rows))]\n",
    "    \n",
    "    while len(clust) > 1:\n",
    "        lowestpair=(0, 1)\n",
    "        closest = distance(clust[0].vec, clust[1].vec)\n",
    "        \n",
    "        for i in range(len(clust)):\n",
    "            for j in range(i+1, len(clust)):\n",
    "                # 用distances缓存距离值\n",
    "                if (clust[i].id, clust[j].id) not in distances:\n",
    "                    distances[(clust[i].id, clust[j].id)] = distance(clust[i].vec, clust[j].vec)\n",
    "                    \n",
    "                d = distances[(clust[i].id, clust[j].id)]\n",
    "                \n",
    "                if d < closest:\n",
    "                    closest = d\n",
    "                    lowestpair = (i,j)\n",
    "            \n",
    "        # 两个聚类的平均值\n",
    "        mergevec = [\n",
    "            (clust[lowestpair[0]].vec[i] + clust[lowestpair[1]].vec[i])/2.0 for i in range(len(clust[0].vec))\n",
    "        ]\n",
    "        # 建立新的聚类\n",
    "        newcluster = bicluster(mergevec, left=clust[lowestpair[0]], right=clust[lowestpair[1]], distance=closest, id=currentclustid)\n",
    "\n",
    "        # 不在原始集合中的聚类，id为负数\n",
    "        currentclustid -= 1\n",
    "        del clust[lowestpair[1]]\n",
    "        del clust[lowestpair[0]]\n",
    "        clust.append(newcluster)\n",
    "            \n",
    "    return clust[0]"
   ]
  },
  {
   "cell_type": "code",
   "execution_count": 44,
   "metadata": {},
   "outputs": [],
   "source": [
    "def printclust(clust, labels=None, n=0):\n",
    "    string = ''\n",
    "    for i in range(n):\n",
    "        string += ' '\n",
    "    if clust.id < 0:\n",
    "        string += '-'\n",
    "        print(string)\n",
    "    else:\n",
    "        if labels==None: \n",
    "            num = str(clust.id)\n",
    "            string += num\n",
    "        else: \n",
    "            string += labels[clust.id]\n",
    "        print(string)\n",
    "        \n",
    "    if clust.left != None: printclust(clust.left, labels=labels, n=n+1)\n",
    "    if clust.right != None: printclust(clust.right, labels=labels, n=n+1)"
   ]
  },
  {
   "cell_type": "code",
   "execution_count": 45,
   "metadata": {},
   "outputs": [
    {
     "name": "stdout",
     "output_type": "stream",
     "text": [
      "-\n",
      " -\n",
      "  2\n",
      "  3\n",
      " -\n",
      "  0\n",
      "  1\n"
     ]
    }
   ],
   "source": [
    "data = [\n",
    "    [4,5,0,1],\n",
    "    [6,3,1,0],\n",
    "    [0,1,6,8],\n",
    "    [1,0,7,7]\n",
    "]\n",
    "clust = hcluster(data)\n",
    "printclust(clust)"
   ]
  }
 ],
 "metadata": {
  "kernelspec": {
   "display_name": "Python 3",
   "language": "python",
   "name": "python3"
  },
  "language_info": {
   "codemirror_mode": {
    "name": "ipython",
    "version": 3
   },
   "file_extension": ".py",
   "mimetype": "text/x-python",
   "name": "python",
   "nbconvert_exporter": "python",
   "pygments_lexer": "ipython3",
   "version": "3.6.8"
  }
 },
 "nbformat": 4,
 "nbformat_minor": 2
}
