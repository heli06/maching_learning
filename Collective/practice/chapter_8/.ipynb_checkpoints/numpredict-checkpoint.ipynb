{
 "cells": [
  {
   "cell_type": "code",
   "execution_count": 1,
   "metadata": {},
   "outputs": [],
   "source": [
    "from random import random, randint\n",
    "import math"
   ]
  },
  {
   "cell_type": "code",
   "execution_count": 2,
   "metadata": {},
   "outputs": [],
   "source": [
    "def wineprice(rating, age):\n",
    "    peak_age = rating - 50\n",
    "    # 根据等级来计算价格\n",
    "    price = rating/2\n",
    "    if age > peak_age:\n",
    "        # 经过“峰值年”，后继5年里其品质将会变差\n",
    "        price = price*(5-(age-peak_age))\n",
    "    else:\n",
    "        # 价格在接近“峰值年”时会增加到原值的5倍\n",
    "        price = price*(5*((age+1)/peak_age))\n",
    "    if price < 0:\n",
    "        price = 0\n",
    "    return price\n",
    "\n",
    "def wineset1():\n",
    "    rows = []\n",
    "    for i in range(300):\n",
    "        # 随机生成年代和等级\n",
    "        rating = random() * 50 + 50\n",
    "        age = random() * 50\n",
    "        # 得到一个参考价格\n",
    "        price = wineprice(rating, age)\n",
    "        # 增加“噪声”\n",
    "        price *= (random() * 0.4 + 0.8)\n",
    "        # 加入数据集\n",
    "        rows.append({\n",
    "            'input': (rating, age),\n",
    "            'result': (price)\n",
    "        })\n",
    "        \n",
    "    return rows"
   ]
  },
  {
   "cell_type": "code",
   "execution_count": 3,
   "metadata": {},
   "outputs": [
    {
     "name": "stdout",
     "output_type": "stream",
     "text": [
      "21.111111111111114\n",
      "47.5\n",
      "10.102040816326529\n",
      "{'input': (68.40626314547237, 11.325308738100976), 'result': 102.1958790350561}\n",
      "{'input': (82.95207890986524, 14.26650622078628), 'result': 87.52190967697996}\n"
     ]
    }
   ],
   "source": [
    "print(wineprice(95.0, 3.0))\n",
    "print(wineprice(95.0, 8.0))\n",
    "print(wineprice(99.0, 1.0))\n",
    "data = wineset1()\n",
    "print(data[0])\n",
    "print(data[1])"
   ]
  },
  {
   "cell_type": "code",
   "execution_count": 4,
   "metadata": {},
   "outputs": [],
   "source": [
    "def euclidean(v1, v2):\n",
    "    d = 0.0\n",
    "    for i in range(len(v1)):\n",
    "        d += (v1[i] - v2[i]) ** 2\n",
    "        \n",
    "    return math.sqrt(d)"
   ]
  },
  {
   "cell_type": "code",
   "execution_count": 5,
   "metadata": {},
   "outputs": [
    {
     "name": "stdout",
     "output_type": "stream",
     "text": [
      "(68.40626314547237, 11.325308738100976)\n",
      "(82.95207890986524, 14.26650622078628)\n",
      "14.84019537889628\n"
     ]
    }
   ],
   "source": [
    "print(data[0]['input'])\n",
    "print(data[1]['input'])\n",
    "print(euclidean(data[0]['input'], data[1]['input']))"
   ]
  },
  {
   "cell_type": "code",
   "execution_count": 6,
   "metadata": {},
   "outputs": [],
   "source": [
    "def getdistances(data, vec1):\n",
    "    distancelist = []\n",
    "    for i in range(len(data)):\n",
    "        vec2 = data[i]['input']\n",
    "        distancelist.append((euclidean(vec1, vec2), i))\n",
    "    distancelist.sort()\n",
    "    return distancelist"
   ]
  },
  {
   "cell_type": "code",
   "execution_count": 7,
   "metadata": {},
   "outputs": [],
   "source": [
    "def knnestimate(data, vec1, k=5):\n",
    "    # 得到经过排序的距离值\n",
    "    dlist = getdistances(data, vec1)\n",
    "    avg = 0.0\n",
    "    # 对前k项结果求平均\n",
    "    for i in range(k):\n",
    "        idx = dlist[i][1]\n",
    "        avg += data[idx]['result']\n",
    "    avg = avg/k\n",
    "    return avg"
   ]
  },
  {
   "cell_type": "code",
   "execution_count": 8,
   "metadata": {},
   "outputs": [
    {
     "name": "stdout",
     "output_type": "stream",
     "text": [
      "29.343279332154793\n",
      "26.642072971684854\n",
      "31.70157925224524\n",
      "30.306122448979593\n",
      "34.179500826169296\n"
     ]
    }
   ],
   "source": [
    "print(knnestimate(data, (95.0, 3.0)))\n",
    "print(knnestimate(data, (99.0, 3.0)))\n",
    "print(knnestimate(data, (99.0, 5.0)))\n",
    "print(wineprice(99.0, 5.0))\n",
    "print(knnestimate(data, (99.0, 5.0), k=1))"
   ]
  },
  {
   "cell_type": "code",
   "execution_count": 9,
   "metadata": {},
   "outputs": [],
   "source": [
    "# 反函数\n",
    "def inverseweight(dist, num=1.0, const=0.1):\n",
    "    return num/(dist+const)\n",
    "\n",
    "# 减法函数\n",
    "def subtractweight(dist, const=1.0):\n",
    "    if dist > const:\n",
    "        return 0\n",
    "    else:\n",
    "        return const-dist\n",
    "    \n",
    "# 高斯函数\n",
    "def gaussian(dist,sigma=1.0):\n",
    "    return math.e**(-(dist**2)/(2*(sigma**2)))"
   ]
  },
  {
   "cell_type": "code",
   "execution_count": 10,
   "metadata": {},
   "outputs": [
    {
     "name": "stdout",
     "output_type": "stream",
     "text": [
      "5.0\n",
      "0.9\n",
      "0.9950124791926823\n",
      "0.6065306597126334\n",
      "0.0\n",
      "0.9090909090909091\n",
      "0.01110899653824231\n"
     ]
    }
   ],
   "source": [
    "print(inverseweight(0.1))\n",
    "print(subtractweight(0.1))\n",
    "print(gaussian(0.1))\n",
    "print(gaussian(1.0))\n",
    "print(subtractweight(1))\n",
    "print(inverseweight(1))\n",
    "print(gaussian(3.0))"
   ]
  },
  {
   "cell_type": "code",
   "execution_count": 11,
   "metadata": {},
   "outputs": [],
   "source": [
    "def weightedknn(data, vec1, k=5, weightf=gaussian):\n",
    "    # 得到距离值\n",
    "    dlist = getdistances(data, vec1)\n",
    "    avg = 0.0\n",
    "    totalweight = 0.0\n",
    "    # 得到加权平均值\n",
    "    for i in range(k):\n",
    "        dist = dlist[i][0]\n",
    "        idx = dlist[i][1]\n",
    "        weight = weightf(dist)\n",
    "        avg += weight*data[idx]['result']\n",
    "        totalweight += weight\n",
    "    \n",
    "    if avg == 0:\n",
    "        return 0\n",
    "    \n",
    "    avg = avg/totalweight\n",
    "    return avg"
   ]
  },
  {
   "cell_type": "code",
   "execution_count": 12,
   "metadata": {},
   "outputs": [
    {
     "name": "stdout",
     "output_type": "stream",
     "text": [
      "30.306122448979593\n",
      "33.708964293648876\n"
     ]
    }
   ],
   "source": [
    "print(wineprice(99.0, 5.0))\n",
    "print(weightedknn(data, (99.0, 5.0)))"
   ]
  },
  {
   "cell_type": "code",
   "execution_count": 13,
   "metadata": {},
   "outputs": [],
   "source": [
    "def dividedata(data, test=0.05):\n",
    "    trainset = []\n",
    "    testset = []\n",
    "    for row in data:\n",
    "        if random() < test:\n",
    "            testset.append(row)\n",
    "        else:\n",
    "            trainset.append(row)\n",
    "    return trainset, testset\n",
    "\n",
    "def testalgorithm(algf, trainset, testset):\n",
    "    error = 0.0\n",
    "    for row in testset:\n",
    "        guess = algf(trainset, row['input'])\n",
    "        error += (row['result']-guess) ** 2\n",
    "    \n",
    "    return error/len(testset)\n",
    "\n",
    "def crossvalidate(algf, data, trials=100, test=0.05):\n",
    "    error = 0.0\n",
    "    for i in range(trials):\n",
    "        trainset, testset = dividedata(data, test)\n",
    "        error += testalgorithm(algf, trainset, testset)\n",
    "    \n",
    "    return error/trials"
   ]
  },
  {
   "cell_type": "code",
   "execution_count": 14,
   "metadata": {},
   "outputs": [
    {
     "name": "stdout",
     "output_type": "stream",
     "text": [
      "687.0243863905747\n",
      "636.061950031612\n",
      "635.6318850865647\n",
      "489.64351597913736\n",
      "571.7227643238662\n"
     ]
    }
   ],
   "source": [
    "print(crossvalidate(knnestimate, data))\n",
    "def knn3(d,v):\n",
    "    return knnestimate(d,v,k=3)\n",
    "print(crossvalidate(knn3, data))\n",
    "def knn1(d,v):\n",
    "    return knnestimate(d,v,k=1)\n",
    "print(crossvalidate(knn1, data))\n",
    "print(crossvalidate(weightedknn, data))\n",
    "def knninverse(d,v):\n",
    "    return weightedknn(d,v,weightf=inverseweight)\n",
    "print(crossvalidate(knninverse, data))"
   ]
  },
  {
   "cell_type": "code",
   "execution_count": 53,
   "metadata": {},
   "outputs": [],
   "source": [
    "def wineset2():\n",
    "    rows = []\n",
    "    for i in range(300):\n",
    "        rating = random() * 50 + 50\n",
    "        age = random() * 50\n",
    "        asile = float(randint(1, 20))\n",
    "        bottlesize = [375.0, 750.0, 1500.0, 3000.0][randint(0,3)]\n",
    "        price = wineprice(rating, age)\n",
    "        price *= (bottlesize/750)\n",
    "        price *= (random() * 0.2 + 0.9)\n",
    "        rows.append({\n",
    "            'input': (rating, age, asile, bottlesize),\n",
    "            'result': price\n",
    "        })\n",
    "    \n",
    "    return rows"
   ]
  },
  {
   "cell_type": "code",
   "execution_count": 54,
   "metadata": {},
   "outputs": [
    {
     "name": "stdout",
     "output_type": "stream",
     "text": [
      "7860.903125090436\n",
      "10164.944897025258\n"
     ]
    }
   ],
   "source": [
    "data = wineset2()\n",
    "print(crossvalidate(knn3, data))\n",
    "print(crossvalidate(weightedknn, data))"
   ]
  },
  {
   "cell_type": "code",
   "execution_count": 55,
   "metadata": {},
   "outputs": [],
   "source": [
    "def rescale(data, scale):\n",
    "    scaleddata = []\n",
    "    for row in data:\n",
    "        scaled = [scale[i] * row['input'][i] for i in range(len(scale))]\n",
    "        scaleddata.append({\n",
    "            'input': scaled,\n",
    "            'result': row['result']\n",
    "        })\n",
    "    \n",
    "    return scaleddata"
   ]
  },
  {
   "cell_type": "code",
   "execution_count": 57,
   "metadata": {},
   "outputs": [
    {
     "name": "stdout",
     "output_type": "stream",
     "text": [
      "6284.343418716471\n",
      "5827.459815488397\n"
     ]
    }
   ],
   "source": [
    "sdata = rescale(data, [0.1, 0.1, 0, 0.05])\n",
    "print(crossvalidate(knn3, sdata))\n",
    "print(crossvalidate(weightedknn, sdata))"
   ]
  },
  {
   "cell_type": "code",
   "execution_count": 58,
   "metadata": {},
   "outputs": [],
   "source": [
    "def createcostfunction(algf, data):\n",
    "    def costf(scale):\n",
    "        sdata = rescale(data, scale)\n",
    "        return crossvalidate(algf, sdata, trials=10)\n",
    "    \n",
    "    return costf"
   ]
  },
  {
   "cell_type": "code",
   "execution_count": 59,
   "metadata": {},
   "outputs": [],
   "source": [
    "weightdomain = [(0,20)]*4"
   ]
  },
  {
   "cell_type": "code",
   "execution_count": 63,
   "metadata": {},
   "outputs": [],
   "source": [
    "# 模拟退火\n",
    "def annealingoptimize(domain, costf, T=10000, cool=0.95, step=1):\n",
    "    # 随机初始化值\n",
    "    vec = [float(randint(domain[i][0], domain[i][1])) for i in range(len(domain))]\n",
    "    \n",
    "    while T > 0.1:\n",
    "        # 随机选择一个索引值\n",
    "        i = randint(0, len(domain)-1)\n",
    "        # 随机选择一个改变索引值的方向\n",
    "        dir = randint(-step, step)\n",
    "        # 创建一个代表题解的新列表，改变其中一个值\n",
    "        vecb = vec[:]\n",
    "        vecb[i] += dir\n",
    "        if vecb[i] < domain[i][0]:\n",
    "            vecb[i] = domain[i][0]\n",
    "        elif vecb[i] > domain[i][1]:\n",
    "            vecb[i] = domain[i][1]\n",
    "        # 计算当前成本和新的成本\n",
    "        ea = costf(vec)\n",
    "        eb = costf(vecb)\n",
    "        # 模拟退火\n",
    "        if (eb < ea or random() < pow(math.e, -(eb-ea)/T)):\n",
    "            vec = vecb\n",
    "        # 降低温度\n",
    "        T = T*cool\n",
    "    \n",
    "    vec = [int(i) for i in vec]\n",
    "    return vec"
   ]
  },
  {
   "cell_type": "code",
   "execution_count": 64,
   "metadata": {},
   "outputs": [
    {
     "name": "stdout",
     "output_type": "stream",
     "text": [
      "[15, 8, 4, 14]\n"
     ]
    }
   ],
   "source": [
    "costf = createcostfunction(weightedknn, data)\n",
    "args = annealingoptimize(weightdomain, costf, step=2)\n",
    "print(args)"
   ]
  },
  {
   "cell_type": "code",
   "execution_count": 65,
   "metadata": {},
   "outputs": [
    {
     "name": "stdout",
     "output_type": "stream",
     "text": [
      "22418.501720055632\n"
     ]
    }
   ],
   "source": [
    "sdata = rescale(data, args)\n",
    "print(crossvalidate(weightedknn, sdata))"
   ]
  },
  {
   "cell_type": "code",
   "execution_count": 90,
   "metadata": {},
   "outputs": [],
   "source": [
    "def wineset3():\n",
    "    rows = wineset1()\n",
    "    for row in rows:\n",
    "        if random() < 0.5:\n",
    "            # 葡萄是从折扣店购得的\n",
    "            row['result'] = row['result'] * 0.5\n",
    "    \n",
    "    return rows"
   ]
  },
  {
   "cell_type": "code",
   "execution_count": 91,
   "metadata": {},
   "outputs": [
    {
     "name": "stdout",
     "output_type": "stream",
     "text": [
      "106.07142857142857\n",
      "81.4058260257861\n"
     ]
    }
   ],
   "source": [
    "data = wineset3()\n",
    "print(wineprice(99.0, 20.0))\n",
    "print(weightedknn(data, [99.0, 20.0]))"
   ]
  },
  {
   "cell_type": "code",
   "execution_count": 92,
   "metadata": {},
   "outputs": [],
   "source": [
    "def probguess(data, vec1, low, high, k=5, weightf=gaussian):\n",
    "    dlist = getdistances(data, vec1)\n",
    "    nweight = 0.0\n",
    "    tweight = 0.0\n",
    "    \n",
    "    for i in range(k):\n",
    "        dist = dlist[i][0]\n",
    "        idx = dlist[i][1]\n",
    "        weight = weightf(dist)\n",
    "        v = data[idx]['result']\n",
    "        # 当前数据点位于指定范围内吗？\n",
    "        if v >= low and v <= high:\n",
    "            nweight += weight\n",
    "            \n",
    "        tweight += weight\n",
    "        \n",
    "    if tweight == 0:\n",
    "        return 0\n",
    "    \n",
    "    # 概率等于位于指定范围内的权重值除以所有权重值\n",
    "    return nweight/tweight"
   ]
  },
  {
   "cell_type": "code",
   "execution_count": 93,
   "metadata": {},
   "outputs": [
    {
     "name": "stdout",
     "output_type": "stream",
     "text": [
      "0.7167639845475576\n",
      "0.28323601545244237\n",
      "0.0\n",
      "1.0\n"
     ]
    }
   ],
   "source": [
    "print(probguess(data, [99,20], 40, 80))\n",
    "print(probguess(data, [99,20], 80, 120))\n",
    "print(probguess(data, [99,20], 120, 1200))\n",
    "print(probguess(data, [99,20], 30, 120))"
   ]
  },
  {
   "cell_type": "code",
   "execution_count": 102,
   "metadata": {},
   "outputs": [],
   "source": [
    "import matplotlib.pyplot as plt\n",
    "import numpy as np"
   ]
  },
  {
   "cell_type": "code",
   "execution_count": 107,
   "metadata": {},
   "outputs": [],
   "source": [
    "def cumulativegraph(data, vec1, high, k=5, weightf=gaussian):\n",
    "    t1 = np.arange(0.0, high, 0.1)\n",
    "    cprob = [probguess(data, vec1, 0, v, k, weightf) for v in t1]\n",
    "    plt.plot(t1, cprob)\n",
    "    plt.show()"
   ]
  },
  {
   "cell_type": "code",
   "execution_count": 110,
   "metadata": {},
   "outputs": [
    {
     "data": {
      "image/png": "[encoded data removed]",
      "text/plain": [
       "<Figure size 432x288 with 1 Axes>"
      ]
     },
     "metadata": {
      "needs_background": "light"
     },
     "output_type": "display_data"
    }
   ],
   "source": [
    "cumulativegraph(data, (99,20), 120)"
   ]
  },
  {
   "cell_type": "code",
   "execution_count": 109,
   "metadata": {},
   "outputs": [],
   "source": [
    "def probabilitygraph(data, vec1, high, k=5, weightf=gaussian, ss=5.0):\n",
    "    # 建立一个代表价格的值域范围\n",
    "    t1 = np.arange(0.0, high, 0.1)\n",
    "    # 得到整个值域范围内的所有概率\n",
    "    probs = [probguess(data, vec1, v, v+0.1, k, weightf) for v in t1]\n",
    "    # 通过加上近邻概率的高斯计算结果，对概率值做平滑处理\n",
    "    smoothed = []\n",
    "    for i in range(len(probs)):\n",
    "        sv = 0.0\n",
    "        for j in range(0, len(probs)):\n",
    "            dist = abs(i-j)*0.1\n",
    "            weight = gaussian(dist, sigma=ss)\n",
    "            sv += weight*probs[j]\n",
    "        \n",
    "        smoothed.append(sv)\n",
    "        \n",
    "    plt.plot(t1, smoothed)\n",
    "    plt.show()"
   ]
  },
  {
   "cell_type": "code",
   "execution_count": 112,
   "metadata": {},
   "outputs": [
    {
     "data": {
      "image/png": "[encoded data removed]",
      "text/plain": [
       "<Figure size 432x288 with 1 Axes>"
      ]
     },
     "metadata": {
      "needs_background": "light"
     },
     "output_type": "display_data"
    }
   ],
   "source": [
    "probabilitygraph(data, (99.0, 20.0), 150)"
   ]
  },
  {
   "cell_type": "code",
   "execution_count": null,
   "metadata": {},
   "outputs": [],
   "source": []
  }
 ],
 "metadata": {
  "kernelspec": {
   "display_name": "Python 3",
   "language": "python",
   "name": "python3"
  },
  "language_info": {
   "codemirror_mode": {
    "name": "ipython",
    "version": 3
   },
   "file_extension": ".py",
   "mimetype": "text/x-python",
   "name": "python",
   "nbconvert_exporter": "python",
   "pygments_lexer": "ipython3",
   "version": "3.6.8"
  }
 },
 "nbformat": 4,
 "nbformat_minor": 2
}
