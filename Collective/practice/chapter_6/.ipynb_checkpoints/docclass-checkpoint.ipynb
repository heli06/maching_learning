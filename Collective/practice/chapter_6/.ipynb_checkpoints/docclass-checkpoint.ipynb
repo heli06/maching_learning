{
 "cells": [
  {
   "cell_type": "code",
   "execution_count": 1,
   "metadata": {},
   "outputs": [],
   "source": [
    "import re\n",
    "import math"
   ]
  },
  {
   "cell_type": "code",
   "execution_count": 2,
   "metadata": {},
   "outputs": [],
   "source": [
    "def getwords(doc):\n",
    "    splitter = re.compile('\\\\W*')\n",
    "    # 根据非字母字符进行拆分\n",
    "    words = [s.lower() for s in splitter.split(doc) if len(s)>2 and len(s)<20]\n",
    "    # 只返回一组不重复的单词\n",
    "    return dict([(w,1) for w in words])"
   ]
  },
  {
   "cell_type": "code",
   "execution_count": 21,
   "metadata": {},
   "outputs": [],
   "source": [
    "class classifier:\n",
    "    def __init__(self, getfeatures, filename=None):\n",
    "        # 统计特征/分类组合的数量\n",
    "        self.fc = {}\n",
    "        # 统计每个分类中的文档数量\n",
    "        self.cc = {}\n",
    "        # 特征提取函数\n",
    "        self.getfeatures = getfeatures\n",
    "        self.thresholds = {}\n",
    "    \n",
    "    # 设置/获得阈值\n",
    "    def setthreshold(self, cat, t):\n",
    "        self.thresholds[cat] = t\n",
    "        \n",
    "    def getthreshold(self, cat):\n",
    "        if cat not in self.thresholds:\n",
    "            return 1.0\n",
    "        \n",
    "        return self.thresholds[cat]\n",
    "        \n",
    "    # 增加对特征/分类组合的计数值\n",
    "    def incf(self, f, cat):\n",
    "        self.fc.setdefault(f, {})\n",
    "        self.fc[f].setdefault(cat, 0)\n",
    "        self.fc[f][cat] += 1\n",
    "    # 增加对某一分类的计数值\n",
    "    def incc(self, cat):\n",
    "        self.cc.setdefault(cat, 0)\n",
    "        self.cc[cat] += 1\n",
    "    # 某一特征出现于某一分类中的次数\n",
    "    def fcount(self, f, cat):\n",
    "        if f in self.fc and cat in self.fc[f]:\n",
    "            return float(self.fc[f][cat])\n",
    "\n",
    "        return 0.0\n",
    "    # 属于某一分类的内容项数量\n",
    "    def catcount(self, cat):\n",
    "        if cat in self.cc:\n",
    "            return float(self.cc[cat])\n",
    "\n",
    "        return 0.0\n",
    "    # 所有内容项的数量\n",
    "    def totalcount(self):\n",
    "        return sum(self.cc.values())\n",
    "    # 所有分类的列表\n",
    "    def categories(self):\n",
    "        return self.cc.keys()\n",
    "\n",
    "    def train(self, item, cat):\n",
    "        features = self.getfeatures(item)\n",
    "        # 针对该分类为每个特征增加计数值\n",
    "        for f in features:\n",
    "            self.incf(f, cat)\n",
    "\n",
    "        # 增加针对该分类的计数值\n",
    "        self.incc(cat)\n",
    "\n",
    "    # 计算概率\n",
    "    def fprob(self, f, cat):\n",
    "        if self.catcount(cat) == 0:\n",
    "            return 0\n",
    "        # 特征在分类中出现的总次数，除以分类中包含内容项的总次数\n",
    "        # 也就是 对于一个给定的分类，某个单词出现的概率\n",
    "        return self.fcount(f, cat) / self.catcount(cat)\n",
    "    # 计算加权概率\n",
    "    def weightedprob(self, f, cat, prf, weight=1.0, ap=0.5):\n",
    "        # 计算当前概率值\n",
    "        basicprob = prf(f, cat)\n",
    "        # 统计特征在所有分类中出现的次数\n",
    "        totals = sum([self.fcount(f,c) for c in self.categories()])\n",
    "        # 计算加权平均\n",
    "        bp = ((weight * ap) + (totals * basicprob)) / (weight + totals)\n",
    "        return bp\n",
    "    \n",
    "    # 分类\n",
    "    def classify(self, item, default=None):\n",
    "        probs = {}\n",
    "        # 寻找概率最大的分类\n",
    "        max = 0.0\n",
    "        for cat in self.categories():\n",
    "            probs[cat] = self.prob(item, cat)\n",
    "            if probs[cat] > max:\n",
    "                max = probs[cat]\n",
    "                best = cat\n",
    "                \n",
    "        # 确保概率值超出阈值*次大概率值\n",
    "        for cat in probs:\n",
    "            if cat == best:\n",
    "                continue\n",
    "            if probs[cat]*self.getthreshold(best) > probs[best]:\n",
    "                return default\n",
    "        \n",
    "        return best"
   ]
  },
  {
   "cell_type": "code",
   "execution_count": 22,
   "metadata": {},
   "outputs": [],
   "source": [
    "class naivebayes(classifier):\n",
    "    def docprob(self, item, cat):\n",
    "        features = self.getfeatures(item)\n",
    "        \n",
    "        # 将所有特征的概率相乘\n",
    "        p = 1\n",
    "        for f in features: \n",
    "            p *= self.weightedprob(f, cat, self.fprob)\n",
    "        return p\n",
    "    \n",
    "    def prob(self, item, cat):\n",
    "        catprob = self.catcount(cat)/self.totalcount()\n",
    "        docprob = self.docprob(item, cat)\n",
    "        return docprob*catprob"
   ]
  },
  {
   "cell_type": "code",
   "execution_count": 23,
   "metadata": {},
   "outputs": [],
   "source": [
    "def sampletrain(cl):\n",
    "    cl.train('Nobody owns the water.','good')\n",
    "    cl.train('the quick rabbit jumps fences','good')\n",
    "    cl.train('buy pharmaceuticals now','bad')\n",
    "    cl.train('make quick money at the online casino','bad')\n",
    "    cl.train('the quick brown fox jumps','good')"
   ]
  },
  {
   "cell_type": "code",
   "execution_count": 24,
   "metadata": {},
   "outputs": [
    {
     "name": "stderr",
     "output_type": "stream",
     "text": [
      "D:\\Anaconda3\\envs\\mlcc\\lib\\site-packages\\ipykernel_launcher.py:4: FutureWarning: split() requires a non-empty pattern match.\n",
      "  after removing the cwd from sys.path.\n"
     ]
    },
    {
     "data": {
      "text/plain": [
       "0.6666666666666666"
      ]
     },
     "execution_count": 24,
     "metadata": {},
     "output_type": "execute_result"
    }
   ],
   "source": [
    "cl = classifier(getwords)\n",
    "sampletrain(cl)\n",
    "cl.fprob('quick', 'good')"
   ]
  },
  {
   "cell_type": "code",
   "execution_count": 25,
   "metadata": {},
   "outputs": [
    {
     "name": "stdout",
     "output_type": "stream",
     "text": [
      "0.25\n",
      "0.16666666666666666\n"
     ]
    },
    {
     "name": "stderr",
     "output_type": "stream",
     "text": [
      "D:\\Anaconda3\\envs\\mlcc\\lib\\site-packages\\ipykernel_launcher.py:4: FutureWarning: split() requires a non-empty pattern match.\n",
      "  after removing the cwd from sys.path.\n"
     ]
    }
   ],
   "source": [
    "cl = classifier(getwords)\n",
    "sampletrain(cl)\n",
    "print(cl.weightedprob('money', 'good', cl.fprob))\n",
    "sampletrain(cl)\n",
    "print(cl.weightedprob('money', 'good', cl.fprob))"
   ]
  },
  {
   "cell_type": "code",
   "execution_count": 26,
   "metadata": {},
   "outputs": [
    {
     "name": "stdout",
     "output_type": "stream",
     "text": [
      "0.15624999999999997\n",
      "0.05\n"
     ]
    },
    {
     "name": "stderr",
     "output_type": "stream",
     "text": [
      "D:\\Anaconda3\\envs\\mlcc\\lib\\site-packages\\ipykernel_launcher.py:4: FutureWarning: split() requires a non-empty pattern match.\n",
      "  after removing the cwd from sys.path.\n"
     ]
    }
   ],
   "source": [
    "cl = naivebayes(getwords)\n",
    "sampletrain(cl)\n",
    "print(cl.prob('quick rabbit', 'good'))\n",
    "print(cl.prob('quick rabbit', 'bad'))"
   ]
  },
  {
   "cell_type": "code",
   "execution_count": 27,
   "metadata": {},
   "outputs": [
    {
     "name": "stdout",
     "output_type": "stream",
     "text": [
      "good\n",
      "bad\n",
      "unknown\n",
      "bad\n"
     ]
    },
    {
     "name": "stderr",
     "output_type": "stream",
     "text": [
      "D:\\Anaconda3\\envs\\mlcc\\lib\\site-packages\\ipykernel_launcher.py:4: FutureWarning: split() requires a non-empty pattern match.\n",
      "  after removing the cwd from sys.path.\n"
     ]
    }
   ],
   "source": [
    "cl = naivebayes(getwords)\n",
    "sampletrain(cl)\n",
    "print(cl.classify('quick rabbit', default='unknown'))\n",
    "print(cl.classify('quick money', default='unknown'))\n",
    "cl.setthreshold('bad', 3.0)\n",
    "print(cl.classify('quick money', default='unknown'))\n",
    "for i in range(10):\n",
    "    sampletrain(cl)\n",
    "print(cl.classify('quick money', default='unknown'))"
   ]
  },
  {
   "cell_type": "code",
   "execution_count": 38,
   "metadata": {},
   "outputs": [],
   "source": [
    "class fisherclassifier(classifier):\n",
    "    def __init__(self, getfeatures):\n",
    "        classifier.__init__(self, getfeatures)\n",
    "        self.minimums = {}\n",
    "        \n",
    "    # 设置与获取阈值\n",
    "    def setminimum(self, cat, Min):\n",
    "        self.minimums[cat] = Min\n",
    "    def getminimum(self, cat):\n",
    "        if cat not in self.minimums:\n",
    "            return 0\n",
    "        return self.minimums[cat]\n",
    "    \n",
    "    def cprob(self, f, cat):\n",
    "        # 特征在该分类中出现的概率\n",
    "        clf = self.fprob(f, cat)\n",
    "        if clf == 0:\n",
    "            return 0\n",
    "        # 特征在所有分类中出现的概率\n",
    "        freqsum = sum([self.fprob(f,c) for c in self.categories()])\n",
    "        # 概率等于特征在该分类中出现的频率除以总体频率\n",
    "        p = clf/freqsum\n",
    "        \n",
    "        return p\n",
    "    \n",
    "    def invchi2(self, chi, df):\n",
    "        m = chi / 2.0\n",
    "        Sum = term = math.exp(-m)\n",
    "        for i in range(1, df//2):\n",
    "            term *= m / i\n",
    "            Sum += term\n",
    "        return min(Sum, 1.0)\n",
    "    \n",
    "    def fisherprob(self, item, cat):\n",
    "        # 将所有概率值相乘\n",
    "        p = 1\n",
    "        features = self.getfeatures(item)\n",
    "        for f in features:\n",
    "            p *= self.weightedprob(f, cat, self.cprob)\n",
    "        \n",
    "        # 取自然对数，并乘以-2\n",
    "        fscore = -2*math.log(p)\n",
    "        # 利用倒置对数卡方函数求得概率\n",
    "        return self.invchi2(fscore, len(features)*2)\n",
    "    \n",
    "    def classify(self, item, default='unknown'):\n",
    "        # 循环遍历，寻找最佳结果\n",
    "        best = default\n",
    "        Max = 0.0\n",
    "        for c in self.categories():\n",
    "            p = self.fisherprob(item, c)\n",
    "            # 确保其超过下限值\n",
    "            if p > self.getminimum(c) and p > Max:\n",
    "                best = c\n",
    "                Max = p\n",
    "        \n",
    "        return best"
   ]
  },
  {
   "cell_type": "code",
   "execution_count": 39,
   "metadata": {},
   "outputs": [
    {
     "name": "stdout",
     "output_type": "stream",
     "text": [
      "0.5714285714285715\n",
      "1.0\n",
      "0.75\n"
     ]
    },
    {
     "name": "stderr",
     "output_type": "stream",
     "text": [
      "D:\\Anaconda3\\envs\\mlcc\\lib\\site-packages\\ipykernel_launcher.py:4: FutureWarning: split() requires a non-empty pattern match.\n",
      "  after removing the cwd from sys.path.\n"
     ]
    }
   ],
   "source": [
    "cl = fisherclassifier(getwords)\n",
    "sampletrain(cl)\n",
    "print(cl.cprob('quick', 'good'))\n",
    "print(cl.cprob('money', 'bad'))\n",
    "print(cl.weightedprob('money', 'bad', cl.cprob))"
   ]
  },
  {
   "cell_type": "code",
   "execution_count": 44,
   "metadata": {},
   "outputs": [
    {
     "name": "stdout",
     "output_type": "stream",
     "text": [
      "0.5714285714285715\n",
      "0.78013986588958\n",
      "0.3563359628333526\n"
     ]
    },
    {
     "name": "stderr",
     "output_type": "stream",
     "text": [
      "D:\\Anaconda3\\envs\\mlcc\\lib\\site-packages\\ipykernel_launcher.py:4: FutureWarning: split() requires a non-empty pattern match.\n",
      "  after removing the cwd from sys.path.\n"
     ]
    }
   ],
   "source": [
    "cl = fisherclassifier(getwords)\n",
    "sampletrain(cl)\n",
    "print(cl.cprob('quick', 'good'))\n",
    "print(cl.fisherprob('quick rabbit', 'good'))\n",
    "print(cl.fisherprob('quick rabbit', 'bad'))"
   ]
  },
  {
   "cell_type": "code",
   "execution_count": 45,
   "metadata": {},
   "outputs": [
    {
     "name": "stdout",
     "output_type": "stream",
     "text": [
      "good\n",
      "bad\n",
      "good\n",
      "good\n"
     ]
    },
    {
     "name": "stderr",
     "output_type": "stream",
     "text": [
      "D:\\Anaconda3\\envs\\mlcc\\lib\\site-packages\\ipykernel_launcher.py:4: FutureWarning: split() requires a non-empty pattern match.\n",
      "  after removing the cwd from sys.path.\n"
     ]
    }
   ],
   "source": [
    "cl = fisherclassifier(getwords)\n",
    "sampletrain(cl)\n",
    "print(cl.classify('quick rabbit'))\n",
    "print(cl.classify('quick money'))\n",
    "cl.setminimum('bad', 0.8)\n",
    "print(cl.classify('quick rabbit'))\n",
    "cl.setminimum('good', 0.4)\n",
    "print(cl.classify('quick rabbit'))"
   ]
  },
  {
   "cell_type": "code",
   "execution_count": null,
   "metadata": {},
   "outputs": [],
   "source": []
  }
 ],
 "metadata": {
  "kernelspec": {
   "display_name": "Python 3",
   "language": "python",
   "name": "python3"
  },
  "language_info": {
   "codemirror_mode": {
    "name": "ipython",
    "version": 3
   },
   "file_extension": ".py",
   "mimetype": "text/x-python",
   "name": "python",
   "nbconvert_exporter": "python",
   "pygments_lexer": "ipython3",
   "version": "3.6.8"
  }
 },
 "nbformat": 4,
 "nbformat_minor": 2
}
