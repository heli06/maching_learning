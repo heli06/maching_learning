{
 "cells": [
  {
   "cell_type": "code",
   "execution_count": 1,
   "metadata": {},
   "outputs": [],
   "source": [
    "class matchrow:\n",
    "    def __init__(self, row, allnum=False):\n",
    "        if allnum:\n",
    "            self.data = [float(row[i]) for i in range(len(row)-1)]\n",
    "        else:\n",
    "            self.data = row[0:len(row)-1]\n",
    "        \n",
    "        self.match = int(row[len(row)-1])\n",
    "\n",
    "\n",
    "def loadmatch(f, allnum=False):\n",
    "    rows = []\n",
    "    for line in open(f):\n",
    "        rows.append(matchrow(line.split(','), allnum))\n",
    "    \n",
    "    return rows"
   ]
  },
  {
   "cell_type": "code",
   "execution_count": 2,
   "metadata": {},
   "outputs": [],
   "source": [
    "agesonly = loadmatch('agesonly.csv', allnum=True)\n",
    "matchmaker = loadmatch('matchmaker.csv')"
   ]
  },
  {
   "cell_type": "code",
   "execution_count": 11,
   "metadata": {},
   "outputs": [],
   "source": [
    "import matplotlib.pyplot as plt"
   ]
  },
  {
   "cell_type": "code",
   "execution_count": 12,
   "metadata": {},
   "outputs": [],
   "source": [
    "def plotagematches(rows):\n",
    "    xdm, ydm = [r.data[0] for r in rows if r.match==1], [r.data[1] for r in rows if r.match==1]\n",
    "    xdn, ydn = [r.data[0] for r in rows if r.match==0], [r.data[1] for r in rows if r.match==0]\n",
    "    plt.plot(xdm, ydm, 'go')\n",
    "    plt.plot(xdn, ydn, 'ro')\n",
    "    plt.show()"
   ]
  },
  {
   "cell_type": "code",
   "execution_count": 13,
   "metadata": {},
   "outputs": [
    {
     "data": {
      "image/png": "[encoded data removed]",
      "text/plain": [
       "<Figure size 432x288 with 1 Axes>"
      ]
     },
     "metadata": {
      "needs_background": "light"
     },
     "output_type": "display_data"
    }
   ],
   "source": [
    "plotagematches(agesonly)"
   ]
  },
  {
   "cell_type": "code",
   "execution_count": 14,
   "metadata": {},
   "outputs": [],
   "source": [
    "def lineartrain(rows):\n",
    "    averages = {}\n",
    "    counts = {}\n",
    "    \n",
    "    for row in rows:\n",
    "        # 得到该坐标点所属的分类\n",
    "        cl = row.match\n",
    "        \n",
    "        averages.setdefault(cl, [0.0]*(len(row.data)))\n",
    "        counts.setdefault(cl, 0)\n",
    "        # 将该坐标点加入averages中\n",
    "        for i in range(len(row.data)):\n",
    "            averages[cl][i] += float(row.data[i])\n",
    "        # 记录每个分类中有多少坐标点\n",
    "        counts[cl] += 1\n",
    "    # 将总和除以计数值以求得平均值\n",
    "    for cl, avg in averages.items():\n",
    "        for i in range(len(avg)):\n",
    "            avg[i] /= counts[cl]\n",
    "            \n",
    "    return averages"
   ]
  },
  {
   "cell_type": "code",
   "execution_count": 19,
   "metadata": {},
   "outputs": [],
   "source": [
    "def dotproduct(v1, v2):\n",
    "    return sum(v1[i] * v2[i] for i in range(len(v1)))"
   ]
  },
  {
   "cell_type": "code",
   "execution_count": 20,
   "metadata": {},
   "outputs": [],
   "source": [
    "def dpclassify(point, avgs):\n",
    "    b = (dotproduct(avgs[1], avgs[1]) - dotproduct(avgs[0], avgs[0]))/2\n",
    "    y = dotproduct(point, avgs[0])-dotproduct(point, avgs[1]) + b\n",
    "    if y > 0:\n",
    "        return 0\n",
    "    else:\n",
    "        return 1"
   ]
  },
  {
   "cell_type": "code",
   "execution_count": 21,
   "metadata": {},
   "outputs": [
    {
     "name": "stdout",
     "output_type": "stream",
     "text": [
      "avgs {1: [35.48041775456919, 33.01566579634465], 0: [26.914529914529915, 35.888888888888886]}\n",
      "1\n",
      "1\n",
      "0\n",
      "1\n"
     ]
    }
   ],
   "source": [
    "avgs = lineartrain(agesonly)\n",
    "print('avgs', avgs)\n",
    "print(dpclassify([30, 30], avgs))\n",
    "print(dpclassify([30, 25], avgs))\n",
    "print(dpclassify([25, 40], avgs))\n",
    "print(dpclassify([48, 20], avgs))"
   ]
  },
  {
   "cell_type": "code",
   "execution_count": 22,
   "metadata": {},
   "outputs": [],
   "source": [
    "def yesno(v):\n",
    "    if v == 'yes':\n",
    "        return 1\n",
    "    elif v == 'no':\n",
    "        return -1\n",
    "    else:\n",
    "        return 0\n",
    "    \n",
    "def matchcount(interest1, interest2):\n",
    "    l1 = interest1.split(':')\n",
    "    l2 = interest2.split(':')\n",
    "    x = 0\n",
    "    for v in l1:\n",
    "        if v in l2:\n",
    "            x += 1\n",
    "\n",
    "    return x\n",
    "\n",
    "def milesdistance(a1, a2):\n",
    "    return 0\n",
    "\n",
    "def loadnumerical():\n",
    "    oldrows = loadmatch('matchmaker.csv')\n",
    "    newrows = []\n",
    "    for row in oldrows:\n",
    "        d = row.data\n",
    "        data = [\n",
    "            float(d[0]),\n",
    "            yesno(d[1]),\n",
    "            yesno(d[2]),\n",
    "            float(d[5]),\n",
    "            yesno(d[6]),\n",
    "            yesno(d[7]),\n",
    "            matchcount(d[3], d[8]),\n",
    "            milesdistance(d[4], d[9]),\n",
    "            row.match\n",
    "        ]\n",
    "        newrows.append(matchrow(data))\n",
    "    \n",
    "    return newrows"
   ]
  },
  {
   "cell_type": "code",
   "execution_count": 23,
   "metadata": {},
   "outputs": [
    {
     "name": "stdout",
     "output_type": "stream",
     "text": [
      "[39.0, 1, -1, 43.0, -1, 1, 0, 0]\n"
     ]
    }
   ],
   "source": [
    "numericalset = loadnumerical()\n",
    "print(numericalset[0].data)"
   ]
  },
  {
   "cell_type": "code",
   "execution_count": 28,
   "metadata": {},
   "outputs": [],
   "source": [
    "def scaledata(rows):\n",
    "    low = [9999999.0] * len(rows[0].data)\n",
    "    high = [-9999999.0] * len(rows[0].data)\n",
    "    # 寻找最大值/最小值\n",
    "    for row in rows:\n",
    "        d = row.data\n",
    "        for i in range(len(d)):\n",
    "            if d[i] < low[i]:\n",
    "                low[i] = d[i]\n",
    "            if d[i] > high[i]:\n",
    "                high[i] = d[i]\n",
    "    # 对数据进行缩放处理的函数\n",
    "    def scaleinput(d):\n",
    "        arr = []\n",
    "        for i in range((len(low))):\n",
    "            if high[i] == low[i]:\n",
    "                arr.append(high[i])\n",
    "            else:\n",
    "                arr.append((d[i] - low[i])/(high[i] - low[i]))\n",
    "            \n",
    "        return arr\n",
    "    \n",
    "    # 对所有数据进行缩放处理\n",
    "    newrows = [matchrow(scaleinput(row.data) + [row.match]) for row in rows]\n",
    "    # 返回新的数据和缩放处理函数\n",
    "    return newrows, scaleinput"
   ]
  },
  {
   "cell_type": "code",
   "execution_count": 29,
   "metadata": {},
   "outputs": [
    {
     "name": "stdout",
     "output_type": "stream",
     "text": [
      "[39.0, 1, -1, 43.0, -1, 1, 0, 0]\n",
      "0\n",
      "1\n",
      "1\n",
      "1\n"
     ]
    }
   ],
   "source": [
    "scaledset, scalef = scaledata(numericalset)\n",
    "avgs = lineartrain(scaledset)\n",
    "print(numericalset[0].data)\n",
    "print(numericalset[0].match)\n",
    "print(dpclassify(scalef(numericalset[0].data), avgs))\n",
    "print(numericalset[11].match)\n",
    "print(dpclassify(scalef(numericalset[11].data), avgs))"
   ]
  },
  {
   "cell_type": "code",
   "execution_count": null,
   "metadata": {},
   "outputs": [],
   "source": []
  }
 ],
 "metadata": {
  "kernelspec": {
   "display_name": "Python 3",
   "language": "python",
   "name": "python3"
  },
  "language_info": {
   "codemirror_mode": {
    "name": "ipython",
    "version": 3
   },
   "file_extension": ".py",
   "mimetype": "text/x-python",
   "name": "python",
   "nbconvert_exporter": "python",
   "pygments_lexer": "ipython3",
   "version": "3.6.8"
  }
 },
 "nbformat": 4,
 "nbformat_minor": 2
}
