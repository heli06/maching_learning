{
 "cells": [
  {
   "cell_type": "code",
   "execution_count": 23,
   "metadata": {},
   "outputs": [
    {
     "name": "stdout",
     "output_type": "stream",
     "text": [
      "[[ 2 23  4]\n",
      " [ 2 32  4]]\n",
      "2\n",
      "(2, 3)\n",
      "6\n",
      "[[1. 1. 1.]\n",
      " [1. 1. 1.]]\n",
      "[[0. 0. 0. 0.]\n",
      " [0. 0. 0. 0.]\n",
      " [0. 0. 0. 0.]]\n",
      "[10 12 14 16 18 20]\n",
      "[[10 12 14]\n",
      " [16 18 20]]\n"
     ]
    }
   ],
   "source": [
    "import numpy as np\n",
    "a = np.array([[2, 23, 4],\n",
    "              [2, 32, 4]])\n",
    "print(a)\n",
    "print(a.ndim) # 维数\n",
    "print(a.shape) # 形状\n",
    "print(a.size) # 元素个数\n",
    "b = np.ones((2, 3)) # 全是1的矩阵\n",
    "print(b)\n",
    "c = np.empty((3, 4)) # 空矩阵，实际上元素接近0\n",
    "print(c)\n",
    "d = np.arange(10, 22, 2) # 从10到20，间隔2\n",
    "print(d)\n",
    "d = d.reshape(2, 3)\n",
    "print(d)"
   ]
  },
  {
   "cell_type": "code",
   "execution_count": 52,
   "metadata": {},
   "outputs": [
    {
     "name": "stdout",
     "output_type": "stream",
     "text": [
      "[10 20 30 40] [0 1 2 3]\n",
      "[10 19 28 37]\n",
      "100\n",
      "[ True  True  True False]\n"
     ]
    }
   ],
   "source": [
    "a = np.array([10, 20, 30, 40])\n",
    "b = np.arange(4)\n",
    "print(a, b)\n",
    "print(a - b)\n",
    "c = 10**2 # 每个元素平方\n",
    "print(c)\n",
    "print(b<3)"
   ]
  },
  {
   "cell_type": "code",
   "execution_count": 51,
   "metadata": {},
   "outputs": [
    {
     "name": "stdout",
     "output_type": "stream",
     "text": [
      "[10 20 30 40] [0 1 2 3]\n",
      "[-5.44021111  9.12945251 -9.88031624  7.4511316 ]\n",
      "[ True  True  True False]\n"
     ]
    }
   ],
   "source": [
    "a = np.array([10, 20, 30, 40])\n",
    "b = np.arange(4) # 0~3\n",
    "print(a, b)\n",
    "c = 10 * np.sin(a)#正弦\n",
    "print(c)\n",
    "print(b<3)"
   ]
  },
  {
   "cell_type": "code",
   "execution_count": 6,
   "metadata": {},
   "outputs": [
    {
     "name": "stdout",
     "output_type": "stream",
     "text": [
      "[[1 1]\n",
      " [0 1]]\n",
      "[[0 1]\n",
      " [2 3]]\n"
     ]
    }
   ],
   "source": [
    "a = np.array([[1, 1],\n",
    "              [0, 1]])\n",
    "b = np.arange(4).reshape(2, 2)\n",
    "print(a)\n",
    "print(b)"
   ]
  },
  {
   "cell_type": "code",
   "execution_count": 8,
   "metadata": {},
   "outputs": [
    {
     "name": "stdout",
     "output_type": "stream",
     "text": [
      "[[0 1]\n",
      " [0 3]]\n",
      "[[2 4]\n",
      " [2 3]]\n",
      "[[2 4]\n",
      " [2 3]]\n"
     ]
    }
   ],
   "source": [
    "c = a * b # 按位置相乘\n",
    "c_dot = np.dot(a, b) # 矩阵乘法\n",
    "c_dot_2 = a.dot(b) # 同上\n",
    "print(c)\n",
    "print(c_dot)\n",
    "print(c_dot_2)"
   ]
  },
  {
   "cell_type": "code",
   "execution_count": 14,
   "metadata": {},
   "outputs": [
    {
     "name": "stdout",
     "output_type": "stream",
     "text": [
      "[[0.7823079  0.64430479 0.88445099 0.53965194]\n",
      " [0.76002715 0.90000712 0.38251778 0.7867779 ]]\n",
      "5.680045577942661 0.3825177766959976 0.9000071208081233\n",
      "[0.88445099 0.90000712] [0.7823079  0.90000712 0.88445099 0.7867779 ]\n"
     ]
    }
   ],
   "source": [
    "a = np.random.random((2, 4)) # 随机\n",
    "print(a)\n",
    "print(np.sum(a), np.min(a), np.max(a)) # 求和，最小，最大\n",
    "print(np.max(a, axis=1), np.max(a, axis=0)) # 按列/按行求最大/最小"
   ]
  },
  {
   "cell_type": "code",
   "execution_count": 56,
   "metadata": {},
   "outputs": [
    {
     "name": "stdout",
     "output_type": "stream",
     "text": [
      "[[14 13 12 11]\n",
      " [10  9  8  7]\n",
      " [ 6  5  4  3]]\n",
      "11 0\n",
      "8.5 8.5 8.5\n",
      "[10.  9.  8.  7.]\n",
      "8.5\n",
      "[ 14  27  39  50  60  69  77  84  90  95  99 102]\n",
      "[[-1 -1 -1]\n",
      " [-1 -1 -1]\n",
      " [-1 -1 -1]]\n",
      "(array([0, 0, 0, 0, 1, 1, 1, 1, 2, 2, 2, 2], dtype=int64), array([0, 1, 2, 3, 0, 1, 2, 3, 0, 1, 2, 3], dtype=int64))\n",
      "[[11 12 13 14]\n",
      " [ 7  8  9 10]\n",
      " [ 3  4  5  6]]\n",
      "[[14 10  6]\n",
      " [13  9  5]\n",
      " [12  8  4]\n",
      " [11  7  3]]\n",
      "[[14 10  6]\n",
      " [13  9  5]\n",
      " [12  8  4]\n",
      " [11  7  3]]\n",
      "[[332 302 272 242]\n",
      " [302 275 248 221]\n",
      " [272 248 224 200]\n",
      " [242 221 200 179]]\n",
      "[[9 9 9 9]\n",
      " [9 9 8 7]\n",
      " [6 5 5 5]]\n"
     ]
    }
   ],
   "source": [
    "A = np.arange(14, 2, -1).reshape((3, 4))\n",
    "print(A)\n",
    "print(np.argmin(A), np.argmax(A)) # 最小，最大的位置\n",
    "print(np.mean(A), A.mean(), np.average(A)) # 平均数\n",
    "print(np.mean(A, axis=0)) # 按列求平均数\n",
    "print(np.median(A)) # 平均数\n",
    "print(np.cumsum(A)) # 累加\n",
    "print(np.diff(A)) # 相邻元素差\n",
    "print(np.nonzero(A)) # 非零值的行和列\n",
    "print(np.sort(A)) # 按行排序\n",
    "print(np.transpose(A)) # 转置\n",
    "print(A.T) # 还是转置\n",
    "print((A.T).dot(A))\n",
    "print(np.clip(A, 5, 9))"
   ]
  },
  {
   "cell_type": "code",
   "execution_count": 75,
   "metadata": {},
   "outputs": [
    {
     "name": "stdout",
     "output_type": "stream",
     "text": [
      "[[ 3  4  5  6]\n",
      " [ 7  8  9 10]\n",
      " [11 12 13 14]]\n",
      "[11 12 13 14]\n",
      "13 13\n",
      "[ 7  8  9 10] [ 4  8 12]\n",
      "[[4 5]\n",
      " [8 9]]\n"
     ]
    }
   ],
   "source": [
    "A = np.arange(3, 15).reshape((3, 4))\n",
    "print(A)\n",
    "print(A[2]) # 第二行\n",
    "print(A[2][2], A[2, 2]) # 第二行第二列的元素\n",
    "print(A[1, :], A[:, 1]) # 第一行/第一列\n",
    "print(A[0:2, 1:3])"
   ]
  },
  {
   "cell_type": "code",
   "execution_count": 78,
   "metadata": {},
   "outputs": [
    {
     "name": "stdout",
     "output_type": "stream",
     "text": [
      "[3 4 5 6]\n",
      "[ 7  8  9 10]\n",
      "[11 12 13 14]\n",
      "[ 3  7 11]\n",
      "[ 4  8 12]\n",
      "[ 5  9 13]\n",
      "[ 6 10 14]\n",
      "[ 3  4  5  6  7  8  9 10 11 12 13 14]\n",
      "3\n",
      "4\n",
      "5\n",
      "6\n",
      "7\n",
      "8\n",
      "9\n",
      "10\n",
      "11\n",
      "12\n",
      "13\n",
      "14\n"
     ]
    }
   ],
   "source": [
    "for row in A: # 遍历行\n",
    "    print(row)\n",
    "for col in A.T: # 遍历列\n",
    "    print(col)\n",
    "print(A.flatten()) # A.flatten是每个元素的值\n",
    "for item in A.flat: # 遍历元素 A.flat是迭代器\n",
    "    print(item)"
   ]
  },
  {
   "cell_type": "code",
   "execution_count": 100,
   "metadata": {
    "scrolled": true
   },
   "outputs": [
    {
     "name": "stdout",
     "output_type": "stream",
     "text": [
      "(3,) (2, 3) (6,)\n",
      "[[1 1 1]\n",
      " [2 2 2]] [1 1 1 2 2 2]\n",
      "[1 1 1] (3,) [[1 1 1]] (1, 3) [[1]\n",
      " [1]\n",
      " [1]] (3, 1)\n",
      "[[1 2]\n",
      " [1 2]\n",
      " [1 2]]\n",
      "[[1]\n",
      " [1]\n",
      " [1]\n",
      " [2]\n",
      " [2]\n",
      " [2]\n",
      " [2]\n",
      " [2]\n",
      " [2]\n",
      " [1]\n",
      " [1]\n",
      " [1]]\n",
      "[[1 2 2 1]\n",
      " [1 2 2 1]\n",
      " [1 2 2 1]]\n"
     ]
    }
   ],
   "source": [
    "A = np.array([1, 1, 1])\n",
    "B = np.array([2, 2, 2])\n",
    "C = np.vstack((A, B)) # 上下合并\n",
    "D = np.hstack((A, B)) # 左右合并\n",
    "print(A.shape, C.shape, D.shape)\n",
    "print(C, D) \n",
    "E = A[np.newaxis, :] # 增加列维度\n",
    "F = A[:, np.newaxis] # 增加行维度\n",
    "print(A, A.shape, E, E.shape, F, F.shape)\n",
    "G = B[:, np.newaxis]\n",
    "print(np.hstack((F, G))) # 将A和B竖着合并\n",
    "C = np.concatenate((F, G, G, F), axis=0)\n",
    "print(C)\n",
    "C = np.concatenate((F, G, G, F), axis=1)\n",
    "print(C)\n"
   ]
  },
  {
   "cell_type": "code",
   "execution_count": 111,
   "metadata": {},
   "outputs": [
    {
     "name": "stdout",
     "output_type": "stream",
     "text": [
      "[[ 0  1  2  3]\n",
      " [ 4  5  6  7]\n",
      " [ 8  9 10 11]]\n",
      "[array([[0, 1],\n",
      "       [4, 5],\n",
      "       [8, 9]]), array([[ 2,  3],\n",
      "       [ 6,  7],\n",
      "       [10, 11]])]\n",
      "[array([[0, 1, 2, 3]]), array([[4, 5, 6, 7]]), array([[ 8,  9, 10, 11]])]\n",
      "[array([[0, 1],\n",
      "       [4, 5],\n",
      "       [8, 9]]), array([[ 2],\n",
      "       [ 6],\n",
      "       [10]]), array([[ 3],\n",
      "       [ 7],\n",
      "       [11]])]\n",
      "[array([[0, 1],\n",
      "       [4, 5],\n",
      "       [8, 9]]), array([[ 2,  3],\n",
      "       [ 6,  7],\n",
      "       [10, 11]])]\n",
      "[array([[0, 1, 2, 3]]), array([[4, 5, 6, 7]]), array([[ 8,  9, 10, 11]])]\n"
     ]
    }
   ],
   "source": [
    "A = np.arange(12).reshape((3, 4))\n",
    "print(A)\n",
    "print(np.split(A, 2, axis=1)) # 纵向分割\n",
    "print(np.split(A, 3, axis=0)) # 横向分割\n",
    "print(np.array_split(A, 3, axis=1)) # 不等分割,纵向\n",
    "print(np.hsplit(A, 2)) # 不等分割，水平（纵向）\n",
    "print(np.vsplit(A, 3)) # 不等分割，垂直（横向）"
   ]
  },
  {
   "cell_type": "code",
   "execution_count": 121,
   "metadata": {},
   "outputs": [
    {
     "name": "stdout",
     "output_type": "stream",
     "text": [
      "[[11  1]\n",
      " [ 2  3]]\n",
      "[[11  1]\n",
      " [ 2  3]]\n",
      "True\n",
      "[[11  1]\n",
      " [ 2 44]]\n",
      "[[11  1]\n",
      " [ 2  3]]\n"
     ]
    }
   ],
   "source": [
    "a = np.arange(4).reshape(2, 2)\n",
    "b = a # 浅拷贝\n",
    "a[0][0] = 11\n",
    "print(a) # a和b同时改变\n",
    "print(b)\n",
    "print(b is a)\n",
    "c = a.copy() # 不太深的拷贝\n",
    "a[1][1] = 44\n",
    "print(a)\n",
    "print(c)"
   ]
  },
  {
   "cell_type": "code",
   "execution_count": 122,
   "metadata": {},
   "outputs": [
    {
     "name": "stdout",
     "output_type": "stream",
     "text": [
      "[('name', 'S20'), ('age', 'i1'), ('marks', '<f4')]\n",
      "[(b'abc', 21, 50.) (b'xyz', 18, 75.)]\n"
     ]
    }
   ],
   "source": [
    "student = np.dtype([('name', 'S20'), ('age', 'i1'), ('marks', 'f4')]) # 结构化数据类型\n",
    "print(student)\n",
    "a = np.array([('abc', 21, 50), ('xyz', 18, 75)], dtype = student)\n",
    "print(a)"
   ]
  },
  {
   "cell_type": "code",
   "execution_count": 125,
   "metadata": {},
   "outputs": [
    {
     "name": "stdout",
     "output_type": "stream",
     "text": [
      "[1. 2. 3.]\n"
     ]
    }
   ],
   "source": [
    "x = [1, 2, 3]\n",
    "a = np.asarray(x, dtype = float)\n",
    "print(a)"
   ]
  },
  {
   "cell_type": "code",
   "execution_count": 126,
   "metadata": {},
   "outputs": [
    {
     "name": "stdout",
     "output_type": "stream",
     "text": [
      "[0. 1. 2. 3. 4.]\n"
     ]
    }
   ],
   "source": [
    "list = range(5)\n",
    "it = iter(list) #迭代器\n",
    "\n",
    "x = np.fromiter(it, dtype=float) # 从迭代器转回来\n",
    "print(x)"
   ]
  },
  {
   "cell_type": "code",
   "execution_count": 128,
   "metadata": {},
   "outputs": [
    {
     "name": "stdout",
     "output_type": "stream",
     "text": [
      "[ 10.          12.91549665  16.68100537  21.5443469   27.82559402\n",
      "  35.93813664  46.41588834  59.94842503  77.42636827 100.        ]\n",
      "[  1.   2.   4.   8.  16.  32.  64. 128. 256. 512.]\n"
     ]
    }
   ],
   "source": [
    "a = np.logspace(1, 2, num = 10) # 底数默认为10，产生10个元素\n",
    "print(a)\n",
    "a = np.logspace(0, 9, 10, base=2) # 底数改为2，产生10个元素\n",
    "print(a)"
   ]
  },
  {
   "cell_type": "code",
   "execution_count": 129,
   "metadata": {},
   "outputs": [
    {
     "name": "stdout",
     "output_type": "stream",
     "text": [
      "[1 4 5]\n"
     ]
    }
   ],
   "source": [
    "x = np.array([\n",
    "    [1, 2],\n",
    "    [3, 4],\n",
    "    [5, 6]])\n",
    "y = x[[0, 1, 2], [0, 1, 0]] # 指定行，指定列\n",
    "print(y)"
   ]
  },
  {
   "cell_type": "code",
   "execution_count": 131,
   "metadata": {},
   "outputs": [
    {
     "name": "stdout",
     "output_type": "stream",
     "text": [
      "[[1 2 3]\n",
      " [1 2 3]\n",
      " [1 2 3]\n",
      " [1 2 3]]\n",
      "[[ 1  2  3]\n",
      " [11 12 13]\n",
      " [21 22 23]\n",
      " [31 32 33]]\n"
     ]
    }
   ],
   "source": [
    "a = np.array([\n",
    "    [0, 0, 0],\n",
    "    [10, 10, 10],\n",
    "    [20, 20, 20],\n",
    "    [30, 30, 30]\n",
    "])\n",
    "b = np.array([1, 2, 3])\n",
    "print(a + b) # 广播\n",
    "bb = np.tile(b, (4, 1)) # 手动在行上重复\n",
    "print(bb)\n",
    "print(a + bb) # 结果同广播"
   ]
  },
  {
   "cell_type": "code",
   "execution_count": 133,
   "metadata": {},
   "outputs": [
    {
     "name": "stdout",
     "output_type": "stream",
     "text": [
      "0, 1, 2, 3, 4, 5, \n",
      "\n",
      "0, 1, 2, 3, 4, 5, \n",
      "\n",
      "0, 3, 1, 4, 2, 5, \n",
      "\n"
     ]
    }
   ],
   "source": [
    "# 以下例子说明a和a.T在内存中的存储顺序相同\n",
    "a = np.arange(6).reshape(2, 3)\n",
    "for x in np.nditer(a): # 迭代器\n",
    "    print(x, end=\", \")\n",
    "print('\\n')\n",
    "for x in np.nditer(a.T):\n",
    "    print(x, end=\", \")\n",
    "print('\\n')\n",
    "for x in np.nditer(a.T.copy(order='C')):\n",
    "    print(x, end=\", \")\n",
    "print('\\n')"
   ]
  },
  {
   "cell_type": "code",
   "execution_count": 144,
   "metadata": {},
   "outputs": [
    {
     "name": "stdout",
     "output_type": "stream",
     "text": [
      "[0 1 2 4 3]\n"
     ]
    }
   ],
   "source": [
    "a = np.array([0, 3, 4, 2, 1])\n",
    "print(np.partition(a, 2)) # 小于3放前面，其余放后面"
   ]
  },
  {
   "cell_type": "code",
   "execution_count": 143,
   "metadata": {},
   "outputs": [
    {
     "name": "stdout",
     "output_type": "stream",
     "text": [
      "[0 1 2 3 4]\n"
     ]
    }
   ],
   "source": [
    "print(np.partition(a, (1, 3))) # 小于1放前面,大于3后面，其余中间"
   ]
  },
  {
   "cell_type": "code",
   "execution_count": 147,
   "metadata": {},
   "outputs": [
    {
     "name": "stdout",
     "output_type": "stream",
     "text": [
      "[[1. 0. 0. 0.]\n",
      " [0. 1. 0. 0.]\n",
      " [0. 0. 1. 0.]]\n",
      "[[1. 0. 0. 0. 0.]\n",
      " [0. 1. 0. 0. 0.]\n",
      " [0. 0. 1. 0. 0.]\n",
      " [0. 0. 0. 1. 0.]\n",
      " [0. 0. 0. 0. 1.]]\n"
     ]
    }
   ],
   "source": [
    "import numpy.matlib\n",
    "print(np.matlib.eye(n = 3, M = 4, k = 0, dtype=float)) # 对角线矩阵\n",
    "print(np.matlib.identity(5, dtype=float)) # 单位矩阵"
   ]
  },
  {
   "cell_type": "code",
   "execution_count": 148,
   "metadata": {},
   "outputs": [
    {
     "name": "stdout",
     "output_type": "stream",
     "text": [
      "[[1 2]\n",
      " [3 4]]\n",
      "[[1 2]\n",
      " [3 4]]\n",
      "[[1 2]\n",
      " [3 4]]\n"
     ]
    }
   ],
   "source": [
    "i = np.matrix('1,2;3,4') # 产生一个矩阵\n",
    "print(i)\n",
    "j = np.asarray(i) # 矩阵转数组\n",
    "print(j)\n",
    "k = np.asmatrix(j) # 数组转矩阵\n",
    "print(k)"
   ]
  },
  {
   "cell_type": "code",
   "execution_count": 153,
   "metadata": {},
   "outputs": [
    {
     "name": "stdout",
     "output_type": "stream",
     "text": [
      "[[4 1]\n",
      " [2 2]]\n",
      "[1 2]\n",
      "[[[ 2  3]\n",
      "  [ 6 11]]\n",
      "\n",
      " [[10 19]\n",
      "  [14 27]]]\n",
      "1.0\n"
     ]
    }
   ],
   "source": [
    "a = [[1, 0], [0, 1]]\n",
    "b = [[4, 1], [2, 2]]\n",
    "bb = [1, 2]\n",
    "print(np.matmul(a, b)) # 矩阵乘法\n",
    "print(np.matmul(a, bb))\n",
    "c = np.arange(8).reshape(2, 2, 2)\n",
    "d = np.arange(4).reshape(2, 2)\n",
    "print(np.matmul(c, d))\n",
    "print(np.linalg.det(a)) # 求行列式"
   ]
  },
  {
   "cell_type": "code",
   "execution_count": 161,
   "metadata": {},
   "outputs": [
    {
     "name": "stdout",
     "output_type": "stream",
     "text": [
      "[[ 6]\n",
      " [-4]\n",
      " [27]]\n",
      "[[ 6]\n",
      " [-4]\n",
      " [27]]\n",
      "[[ 5.]\n",
      " [ 3.]\n",
      " [-2.]]\n",
      "[[ 5.]\n",
      " [ 3.]\n",
      " [-2.]]\n"
     ]
    }
   ],
   "source": [
    "a = np.array([[1, 1, 1], [0, 2, 5], [2, 5, -1]])\n",
    "ainv = np.linalg.inv(a) # a的逆\n",
    "b = np.array([6, -4, 27])[:, np.newaxis]\n",
    "bb = np.array([6, -4, 27])[np.newaxis, :]\n",
    "print(b)\n",
    "print(bb.T)\n",
    "x = np.linalg.solve(a, b) # 解线性方程\n",
    "print(x)\n",
    "x = np.linalg.solve(a, bb.T) # 解线性方程\n",
    "print(x)"
   ]
  },
  {
   "cell_type": "code",
   "execution_count": null,
   "metadata": {},
   "outputs": [],
   "source": []
  }
 ],
 "metadata": {
  "kernelspec": {
   "display_name": "Python 3",
   "language": "python",
   "name": "python3"
  },
  "language_info": {
   "codemirror_mode": {
    "name": "ipython",
    "version": 3
   },
   "file_extension": ".py",
   "mimetype": "text/x-python",
   "name": "python",
   "nbconvert_exporter": "python",
   "pygments_lexer": "ipython3",
   "version": "3.6.8"
  }
 },
 "nbformat": 4,
 "nbformat_minor": 2
}
