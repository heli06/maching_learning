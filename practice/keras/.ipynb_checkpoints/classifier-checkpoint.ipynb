{
 "cells": [
  {
   "cell_type": "code",
   "execution_count": 1,
   "metadata": {},
   "outputs": [
    {
     "name": "stderr",
     "output_type": "stream",
     "text": [
      "Using TensorFlow backend.\n"
     ]
    }
   ],
   "source": [
    "import numpy as np\n",
    "np.random.seed(1337)  # for reproducibility\n",
    "from keras.datasets import mnist\n",
    "from keras.utils import np_utils\n",
    "from keras.models import Sequential\n",
    "from keras.layers import Dense, Activation # 全连接层和激励函数\n",
    "from keras.optimizers import RMSprop # 加速优化"
   ]
  },
  {
   "cell_type": "code",
   "execution_count": 2,
   "metadata": {},
   "outputs": [],
   "source": [
    "(X_train, y_train), (X_test, y_test) = mnist.load_data()\n",
    "\n",
    "# 降维\n",
    "X_train = X_train.reshape(X_train.shape[0], -1)/255\n",
    "X_test = X_test.reshape(X_test.shape[0], -1)/155\n",
    "# 转为独热编码\n",
    "y_train = np_utils.to_categorical(y_train, num_classes=10)\n",
    "y_test = np_utils.to_categorical(y_test, num_classes=10)"
   ]
  },
  {
   "cell_type": "code",
   "execution_count": 3,
   "metadata": {},
   "outputs": [
    {
     "name": "stderr",
     "output_type": "stream",
     "text": [
      "WARNING: Logging before flag parsing goes to stderr.\n",
      "W0716 23:31:13.315838 17932 deprecation_wrapper.py:119] From D:\\Anaconda3\\envs\\mlcc\\lib\\site-packages\\keras\\backend\\tensorflow_backend.py:74: The name tf.get_default_graph is deprecated. Please use tf.compat.v1.get_default_graph instead.\n",
      "\n",
      "W0716 23:31:13.342765 17932 deprecation_wrapper.py:119] From D:\\Anaconda3\\envs\\mlcc\\lib\\site-packages\\keras\\backend\\tensorflow_backend.py:517: The name tf.placeholder is deprecated. Please use tf.compat.v1.placeholder instead.\n",
      "\n",
      "W0716 23:31:13.349748 17932 deprecation_wrapper.py:119] From D:\\Anaconda3\\envs\\mlcc\\lib\\site-packages\\keras\\backend\\tensorflow_backend.py:4138: The name tf.random_uniform is deprecated. Please use tf.random.uniform instead.\n",
      "\n",
      "W0716 23:31:13.424548 17932 deprecation_wrapper.py:119] From D:\\Anaconda3\\envs\\mlcc\\lib\\site-packages\\keras\\optimizers.py:790: The name tf.train.Optimizer is deprecated. Please use tf.compat.v1.train.Optimizer instead.\n",
      "\n",
      "W0716 23:31:13.439508 17932 deprecation_wrapper.py:119] From D:\\Anaconda3\\envs\\mlcc\\lib\\site-packages\\keras\\backend\\tensorflow_backend.py:3295: The name tf.log is deprecated. Please use tf.math.log instead.\n",
      "\n",
      "W0716 23:31:13.599081 17932 deprecation.py:323] From D:\\Anaconda3\\envs\\mlcc\\lib\\site-packages\\tensorflow\\python\\ops\\math_grad.py:1250: add_dispatch_support.<locals>.wrapper (from tensorflow.python.ops.array_ops) is deprecated and will be removed in a future version.\n",
      "Instructions for updating:\n",
      "Use tf.where in 2.0, which has the same broadcast rule as np.where\n"
     ]
    },
    {
     "name": "stdout",
     "output_type": "stream",
     "text": [
      "Training-------------\n"
     ]
    },
    {
     "name": "stderr",
     "output_type": "stream",
     "text": [
      "W0716 23:31:13.696842 17932 deprecation_wrapper.py:119] From D:\\Anaconda3\\envs\\mlcc\\lib\\site-packages\\keras\\backend\\tensorflow_backend.py:986: The name tf.assign_add is deprecated. Please use tf.compat.v1.assign_add instead.\n",
      "\n"
     ]
    },
    {
     "name": "stdout",
     "output_type": "stream",
     "text": [
      "Epoch 1/2\n",
      "60000/60000 [==============================] - 3s 58us/step - loss: 0.3436 - acc: 0.9046\n",
      "Epoch 2/2\n",
      "60000/60000 [==============================] - 3s 54us/step - loss: 0.1955 - acc: 0.9439\n",
      "\n",
      "Testing--------------------\n",
      "10000/10000 [==============================] - 0s 29us/step\n",
      "test loss 0.20778905981292484\n",
      "test accuracy 0.9512\n"
     ]
    }
   ],
   "source": [
    "# 建立模型\n",
    "model = Sequential([\n",
    "    Dense(32, input_dim=784), # 32为输出维度，784为输入维度\n",
    "    Activation('relu'),\n",
    "    Dense(10),\n",
    "    Activation('softmax'),\n",
    "])\n",
    "# 优化\n",
    "rmsprop = RMSprop(lr=0.001, rho=0.9, epsilon=1e-08, decay=0.0)\n",
    "# 激活模型\n",
    "model.compile(optimizer=rmsprop, \n",
    "              loss='categorical_crossentropy',\n",
    "              metrics=['accuracy'])\n",
    "# 训练\n",
    "print('Training-------------')\n",
    "# epoch 代表 整个数据训练几次\n",
    "model.fit(X_train, y_train, epochs=2, batch_size=32)\n",
    "# 测试\n",
    "print('\\nTesting--------------------')\n",
    "loss, accuracy = model.evaluate(X_test, y_test)\n",
    "print('test loss', loss)\n",
    "print('test accuracy', accuracy)"
   ]
  },
  {
   "cell_type": "code",
   "execution_count": null,
   "metadata": {},
   "outputs": [],
   "source": []
  }
 ],
 "metadata": {
  "kernelspec": {
   "display_name": "Python 3",
   "language": "python",
   "name": "python3"
  },
  "language_info": {
   "codemirror_mode": {
    "name": "ipython",
    "version": 3
   },
   "file_extension": ".py",
   "mimetype": "text/x-python",
   "name": "python",
   "nbconvert_exporter": "python",
   "pygments_lexer": "ipython3",
   "version": "3.6.8"
  }
 },
 "nbformat": 4,
 "nbformat_minor": 2
}
