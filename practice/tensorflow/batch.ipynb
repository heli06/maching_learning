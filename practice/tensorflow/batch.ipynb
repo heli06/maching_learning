{
 "cells": [
  {
   "cell_type": "code",
   "execution_count": 1,
   "metadata": {},
   "outputs": [],
   "source": [
    "import numpy as np\n",
    "import tensorflow as tf\n",
    "import matplotlib.pyplot as plt\n",
    "\n",
    "ACTIVATION = tf.nn.relu\n",
    "N_LAYERS = 7\n",
    "N_HIDDEN_UNITS = 30"
   ]
  },
  {
   "cell_type": "code",
   "execution_count": 2,
   "metadata": {},
   "outputs": [],
   "source": [
    "def built_net(xs, ys, norm):\n",
    "    def add_layer(inputs, in_size, out_size, \n",
    "                  activation_function=None, norm=False):\n",
    "        # 添加层功能\n",
    "        Weights = tf.Variable(tf.random_normal([in_size, out_size],\n",
    "            mean=0, stddev=1.))\n",
    "        biases = tf.Variable(tf.zeros([1, out_size]) + 0.1)\n",
    "        \n",
    "        # 全连接层\n",
    "        Wx_plus_b = tf.matmul(inputs, Weights) + biases\n",
    "        \n",
    "        if norm: # 是否是BN层？\n",
    "            # BN for the first input\n",
    "            fc_mean, fc_var = tf.nn.moments(\n",
    "                Wx_plus_b, \n",
    "                axes=[0], # 想要normalize的维度，[0]代表batch维度\n",
    "                # 如果是图像数据，可以传入[0,1,2]，相当于求\n",
    "                # [batch, height, width]的均值/方差，注意不要加入channel\n",
    "            )\n",
    "            scale = tf.Variable(tf.ones([1]))\n",
    "            shift = tf.Variable(tf.zeros([1]))\n",
    "            epsilon = 0.001\n",
    "    \n",
    "            # exponential moving average 的 decay 度\n",
    "            ema = tf.train.ExponentialMovingAverage(decay=0.5)  \n",
    "            def mean_var_with_update():\n",
    "                ema_apply_op = ema.apply([fc_mean, fc_var])\n",
    "                # API待查\n",
    "                with tf.control_dependencies([ema_apply_op]):\n",
    "                    return tf.identity(fc_mean), tf.identity(fc_var)\n",
    "\n",
    "            # API待查\n",
    "#             on_train = True\n",
    "#             mean, var = tf.cond(on_train, # True/False\n",
    "#                                 mean_var_with_update, # True更新\n",
    "#                                 lambda:(\n",
    "#                                     ema.average(fc_mean),\n",
    "#                                     ema.average(fc_var)\n",
    "#                                 )\n",
    "#                                )\n",
    "\n",
    "            mean, var = mean_var_with_update()\n",
    "\n",
    "            # apply moving average for mean and var when train on batch\n",
    "            Wx_plus_b = tf.nn.batch_normalization(Wx_plus_b, mean,\n",
    "                var, shift, scale, epsilon)\n",
    "        \n",
    "        if activation_function is None:\n",
    "            outputs = Wx_plus_b\n",
    "        else:\n",
    "            outputs = activation_function(Wx_plus_b)\n",
    "        return outputs\n",
    "    \n",
    "    fix_seed(1)\n",
    "    \n",
    "    if norm:\n",
    "        # BN for the first input\n",
    "        fc_mean, fc_var = tf.nn.moments(\n",
    "            xs,\n",
    "            axes=[0],\n",
    "        )\n",
    "        scale = tf.Variable(tf.ones([1]))\n",
    "        shift = tf.Variable(tf.zeros([1]))\n",
    "        epsilon = 0.001\n",
    "        # apply moving average for mean and var when train on batch\n",
    "        ema = tf.train.ExponentialMovingAverage(decay=0.5)\n",
    "        def mean_var_with_update():\n",
    "            ema_apply_op = ema.apply([fc_mean, fc_var])\n",
    "            with tf.control_dependencies([ema_apply_op]):\n",
    "                return tf.identity(fc_mean), tf.identity(fc_var)\n",
    "        mean, var = mean_var_with_update()\n",
    "        xs = tf.nn.batch_normalization(xs, mean, var, shift, scale, \n",
    "                                       epsilon)\n",
    "    \n",
    "    layers_inputs = [xs] # 记录每层input\n",
    "    \n",
    "    # loop 建立所有层\n",
    "    for l_n in range(N_LAYERS):\n",
    "        layer_input = layers_inputs[l_n]\n",
    "        in_size = layers_inputs[l_n].get_shape()[1].value\n",
    "        \n",
    "        output = add_layer(\n",
    "            layer_input,\n",
    "            in_size,\n",
    "            N_HIDDEN_UNITS,\n",
    "            ACTIVATION,\n",
    "            norm,\n",
    "        )\n",
    "        layers_inputs.append(output) # 把output加入记录\n",
    "        \n",
    "    # 建立 output layer\n",
    "    prediction = add_layer(layers_inputs[-1], N_HIDDEN_UNITS, 1,\n",
    "        activation_function=None)\n",
    "    \n",
    "    cost = tf.reduce_mean(tf.reduce_sum(tf.square(ys - prediction),\n",
    "        reduction_indices=[1]))\n",
    "    train_op = tf.train.GradientDescentOptimizer(\n",
    "        0.001).minimize(cost)\n",
    "    return [train_op, cost, layers_inputs]"
   ]
  },
  {
   "cell_type": "code",
   "execution_count": 3,
   "metadata": {},
   "outputs": [],
   "source": [
    "def fix_seed(seed=1):\n",
    "    np.random.seed(seed)\n",
    "    tf.set_random_seed(seed)\n",
    "    \n",
    "def plot_his(inputs, inputs_norm):\n",
    "    # plot histogram for the inputs of every layer\n",
    "    for j, all_inputs in enumerate([inputs, inputs_norm]):\n",
    "        for i, input in enumerate(all_inputs):\n",
    "            plt.subplot(2, len(all_inputs), j*len(all_inputs)+(i+1))\n",
    "            plt.cla()\n",
    "            if i == 0:\n",
    "                the_range = (-7, 10)\n",
    "            else:\n",
    "                the_range = (-1, 1)\n",
    "            plt.hist(input.ravel(), bins=15, range=the_range, color='#FF5733')\n",
    "            plt.yticks(())\n",
    "            if j == 1:\n",
    "                plt.xticks(the_range)\n",
    "            else:\n",
    "                plt.xticks(())\n",
    "            ax = plt.gca()\n",
    "            ax.spines['right'].set_color('none')\n",
    "            ax.spines['top'].set_color('none')\n",
    "        plt.title(\"%s normalizing\" % (\"Without\" if j == 0 else \"With\"))\n",
    "    plt.draw()\n",
    "    plt.pause(0.01)"
   ]
  },
  {
   "cell_type": "code",
   "execution_count": 4,
   "metadata": {},
   "outputs": [
    {
     "data": {
      "image/png": "[encoded data removed]",
      "text/plain": [
       "<Figure size 432x288 with 1 Axes>"
      ]
     },
     "metadata": {
      "needs_background": "light"
     },
     "output_type": "display_data"
    },
    {
     "data": {
      "image/png": "[encoded data removed]",
      "text/plain": [
       "<Figure size 504x216 with 16 Axes>"
      ]
     },
     "metadata": {
      "needs_background": "light"
     },
     "output_type": "display_data"
    },
    {
     "name": "stderr",
     "output_type": "stream",
     "text": [
      "D:\\Anaconda3\\envs\\mlcc\\lib\\site-packages\\numpy\\lib\\histograms.py:824: RuntimeWarning: invalid value encountered in greater_equal\n",
      "  keep = (tmp_a >= first_edge)\n",
      "D:\\Anaconda3\\envs\\mlcc\\lib\\site-packages\\numpy\\lib\\histograms.py:825: RuntimeWarning: invalid value encountered in less_equal\n",
      "  keep &= (tmp_a <= last_edge)\n"
     ]
    },
    {
     "data": {
      "image/png": "[encoded data removed]",
      "text/plain": [
       "<Figure size 432x288 with 16 Axes>"
      ]
     },
     "metadata": {
      "needs_background": "light"
     },
     "output_type": "display_data"
    },
    {
     "data": {
      "image/png": "[encoded data removed]",
      "text/plain": [
       "<Figure size 432x288 with 16 Axes>"
      ]
     },
     "metadata": {
      "needs_background": "light"
     },
     "output_type": "display_data"
    },
    {
     "data": {
      "image/png": "[encoded data removed]",
      "text/plain": [
       "<Figure size 432x288 with 16 Axes>"
      ]
     },
     "metadata": {
      "needs_background": "light"
     },
     "output_type": "display_data"
    },
    {
     "data": {
      "image/png": "[encoded data removed]",
      "text/plain": [
       "<Figure size 432x288 with 16 Axes>"
      ]
     },
     "metadata": {
      "needs_background": "light"
     },
     "output_type": "display_data"
    },
    {
     "data": {
      "image/png": "[encoded data removed]",
      "text/plain": [
       "<Figure size 432x288 with 16 Axes>"
      ]
     },
     "metadata": {
      "needs_background": "light"
     },
     "output_type": "display_data"
    },
    {
     "data": {
      "image/png": "[encoded data removed]",
      "text/plain": [
       "<Figure size 432x288 with 1 Axes>"
      ]
     },
     "metadata": {
      "needs_background": "light"
     },
     "output_type": "display_data"
    }
   ],
   "source": [
    "# make up data\n",
    "fix_seed(1)\n",
    "x_data = np.linspace(-7, 10, 2500)[:, np.newaxis]\n",
    "np.random.shuffle(x_data)\n",
    "noise = np.random.normal(0, 8, x_data.shape)\n",
    "y_data = np.square(x_data) - 5 + noise\n",
    "\n",
    "# plot input data\n",
    "plt.scatter(x_data, y_data)\n",
    "plt.show()\n",
    "\n",
    "# [num_samples, num_features]\n",
    "xs = tf.placeholder(tf.float32, [None, 1])\n",
    "ys = tf.placeholder(tf.float32, [None, 1])\n",
    "# without BN\n",
    "train_op, cost, layer_inputs = built_net(xs, ys, norm=False)\n",
    "# with BN\n",
    "train_op_norm, cost_norm, layer_inputs_norm = built_net(xs, ys, \n",
    "    norm=True)\n",
    "sess = tf.Session()\n",
    "sess.run(tf.global_variables_initializer())\n",
    "\n",
    "cost_his = []\n",
    "cost_his_norm = []\n",
    "record_step = 5\n",
    "\n",
    "plt.ion()\n",
    "plt.figure(figsize=(7,3))\n",
    "\n",
    "for i in range(251):\n",
    "    if i % 50 == 0:\n",
    "        all_inputs, all_inputs_norm = sess.run(\n",
    "            [layer_inputs, layer_inputs_norm], \n",
    "            feed_dict={xs: x_data, ys: y_data})\n",
    "        plot_his(all_inputs, all_inputs_norm)\n",
    "        \n",
    "    sess.run(train_op, feed_dict={xs: x_data, ys: y_data})\n",
    "    sess.run(train_op_norm, feed_dict={xs: x_data, ys: y_data})\n",
    "    if i % record_step == 0:\n",
    "        # 记录cost\n",
    "        cost_his.append(sess.run(cost, \n",
    "            feed_dict={xs: x_data, ys: y_data}))\n",
    "        cost_his_norm.append(sess.run(cost,\n",
    "            feed_dict = {xs: x_data, ys: y_data}))\n",
    "        \n",
    "plt.ioff()\n",
    "plt.figure()\n",
    "plt.plot(np.arange(len(cost_his))*record_step, np.array(cost_his),\n",
    "        label='no BN')\n",
    "plt.plot(np.arange(len(cost_his))*record_step, np.array(cost_his_norm),\n",
    "        label='BN')\n",
    "plt.legend()\n",
    "plt.show()"
   ]
  },
  {
   "cell_type": "code",
   "execution_count": null,
   "metadata": {},
   "outputs": [],
   "source": []
  }
 ],
 "metadata": {
  "kernelspec": {
   "display_name": "Python 3",
   "language": "python",
   "name": "python3"
  },
  "language_info": {
   "codemirror_mode": {
    "name": "ipython",
    "version": 3
   },
   "file_extension": ".py",
   "mimetype": "text/x-python",
   "name": "python",
   "nbconvert_exporter": "python",
   "pygments_lexer": "ipython3",
   "version": "3.6.8"
  }
 },
 "nbformat": 4,
 "nbformat_minor": 2
}
