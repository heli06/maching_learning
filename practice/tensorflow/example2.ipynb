{
 "cells": [
  {
   "cell_type": "code",
   "execution_count": 16,
   "metadata": {},
   "outputs": [],
   "source": [
    "import tensorflow as tf\n",
    "import numpy as np"
   ]
  },
  {
   "cell_type": "code",
   "execution_count": 17,
   "metadata": {},
   "outputs": [],
   "source": [
    "x_data = np.random.rand(1000).astype(np.float32) # 随机生成数据\n",
    "y_data = x_data * 0.1 + 0.3"
   ]
  },
  {
   "cell_type": "code",
   "execution_count": 18,
   "metadata": {},
   "outputs": [],
   "source": [
    "Weights = tf.Variable(\n",
    "    tf.random_uniform([1], -1.0, 1.0)) # 形状，最小，最大\n",
    "biases = tf.Variable(tf.zeros([1])) # 偏差默认为0\n",
    "y = Weights*x_data + biases\n",
    "loss = tf.reduce_mean(tf.square(y-y_data))"
   ]
  },
  {
   "cell_type": "code",
   "execution_count": 19,
   "metadata": {},
   "outputs": [],
   "source": [
    "optimizer = tf.train.GradientDescentOptimizer(0.5)\n",
    "train = optimizer.minimize(loss)"
   ]
  },
  {
   "cell_type": "code",
   "execution_count": 20,
   "metadata": {},
   "outputs": [],
   "source": [
    "init = tf.global_variables_initializer()\n",
    "sess = tf.Session()\n",
    "sess.run(init)"
   ]
  },
  {
   "cell_type": "code",
   "execution_count": 21,
   "metadata": {},
   "outputs": [
    {
     "name": "stdout",
     "output_type": "stream",
     "text": [
      "0 [-0.24277243] [0.67556167] 0.051475048\n",
      "20 [-0.00311642] [0.35562655] 0.00093456503\n",
      "40 [0.0748294] [0.3135784] 5.5685392e-05\n",
      "60 [0.09385589] [0.30331448] 3.3179745e-06\n",
      "80 [0.09850026] [0.30080906] 1.9769185e-07\n",
      "100 [0.09963393] [0.30019748] 1.1778242e-08\n",
      "120 [0.09991065] [0.3000482] 7.017299e-10\n",
      "140 [0.09997819] [0.30001178] 4.1825234e-11\n",
      "160 [0.09999468] [0.30000287] 2.4865745e-12\n",
      "180 [0.09999871] [0.3000007] 1.4567725e-13\n",
      "200 [0.09999969] [0.3000002] 9.19087e-15\n"
     ]
    }
   ],
   "source": [
    "for step in range(201):\n",
    "    sess.run(train)\n",
    "    if step % 20 == 0:\n",
    "        print(step, sess.run(Weights), sess.run(biases),\n",
    "             sess.run(loss))"
   ]
  },
  {
   "cell_type": "code",
   "execution_count": null,
   "metadata": {},
   "outputs": [],
   "source": []
  }
 ],
 "metadata": {
  "kernelspec": {
   "display_name": "Python 3",
   "language": "python",
   "name": "python3"
  },
  "language_info": {
   "codemirror_mode": {
    "name": "ipython",
    "version": 3
   },
   "file_extension": ".py",
   "mimetype": "text/x-python",
   "name": "python",
   "nbconvert_exporter": "python",
   "pygments_lexer": "ipython3",
   "version": "3.6.8"
  }
 },
 "nbformat": 4,
 "nbformat_minor": 2
}
