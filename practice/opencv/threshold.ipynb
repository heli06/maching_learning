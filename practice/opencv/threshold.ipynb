{
 "cells": [
  {
   "cell_type": "code",
   "execution_count": 1,
   "metadata": {},
   "outputs": [],
   "source": [
    "import cv2\n",
    "import numpy as np"
   ]
  },
  {
   "cell_type": "code",
   "execution_count": 3,
   "metadata": {},
   "outputs": [],
   "source": [
    "def threshBar(x):\n",
    "    pass\n",
    "\n",
    "img = cv2.imread('hzxc2.jpg')\n",
    "grayImg = cv2.cvtColor(img, cv2.COLOR_BGR2GRAY)\n",
    "cv2.namedWindow('Thresh Window')\n",
    "cv2.createTrackbar('Thresh', 'Thresh Window', 0, 255, \n",
    "                   threshBar)\n",
    "\n",
    "while True:\n",
    "    threshVal = cv2.getTrackbarPos('Thresh', \n",
    "                                    'Thresh Window')\n",
    "    retval, threshImg = cv2.threshold(grayImg,\n",
    "        threshVal, 255, cv2.THRESH_BINARY)\n",
    "    cv2.imshow('Thresh Window', threshImg)\n",
    "    if cv2.waitKey(1) & 0xFF is ord('q'):\n",
    "        break\n",
    "\n",
    "cv2.destroyAllWindows()"
   ]
  }
 ],
 "metadata": {
  "kernelspec": {
   "display_name": "Python 3",
   "language": "python",
   "name": "python3"
  },
  "language_info": {
   "codemirror_mode": {
    "name": "ipython",
    "version": 3
   },
   "file_extension": ".py",
   "mimetype": "text/x-python",
   "name": "python",
   "nbconvert_exporter": "python",
   "pygments_lexer": "ipython3",
   "version": "3.6.8"
  }
 },
 "nbformat": 4,
 "nbformat_minor": 2
}
