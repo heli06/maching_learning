{
 "cells": [
  {
   "cell_type": "code",
   "execution_count": 1,
   "metadata": {},
   "outputs": [],
   "source": [
    "import cv2\n",
    "import numpy as np"
   ]
  },
  {
   "cell_type": "code",
   "execution_count": 2,
   "metadata": {},
   "outputs": [],
   "source": [
    "def drawfindLines_Hough(img, lines):\n",
    "    for i in lines:\n",
    "        for rho, theta in i:\n",
    "            a = np.cos(theta)\n",
    "            b = np.sin(theta)\n",
    "            x0 = a * rho\n",
    "            y0 = b * rho\n",
    "            x1 = int(x0 + 1000 * (-b))\n",
    "            y1 = int(y0 + 1000 * (a))\n",
    "            x2 = int(x0 - 1000 * (-b))\n",
    "            y2 = int(y0 - 1000 * (a))\n",
    "            cv2.line(img, (x1, y1), (x2, y2), \n",
    "                (0, 0, 255), 1)\n",
    "            \n",
    "img = cv2.imread('Road1.jpg')\n",
    "gray = cv2.cvtColor(img, cv2.COLOR_BGR2GRAY)\n",
    "edges = cv2.Canny(gray, 50, 150, apertureSize = 3)\n",
    "\n",
    "cv2.imshow('edges', edges)\n",
    "\n",
    "lines = cv2.HoughLines(edges, 1, np.pi/180, 250)\n",
    "drawfindLines_Hough(img, lines)\n",
    "\n",
    "cv2.imshow('Line', img)\n",
    "cv2.waitKey()\n",
    "cv2.destroyAllWindows()"
   ]
  },
  {
   "cell_type": "code",
   "execution_count": 13,
   "metadata": {},
   "outputs": [],
   "source": [
    "# img = cv2.imread('logo1.jpg')\n",
    "img = cv2.imread('duolaameng.jpg')\n",
    "grayImg = cv2.cvtColor(img, cv2.COLOR_BGR2GRAY)\n",
    "\n",
    "# 累加器图像分辨率与输入图像之比的倒数 \n",
    "# 圆心间最小距离\n",
    "circle = cv2.HoughCircles(grayImg, cv2.HOUGH_GRADIENT,\n",
    "    1, 50)\n",
    "\n",
    "for c in circle:\n",
    "    for x,y,r in c:\n",
    "        cv2.circle(img, (x,y), r, (0,255,0), 2)\n",
    "\n",
    "cv2.imshow('Circle', img)\n",
    "cv2.waitKey()\n",
    "cv2.destroyAllWindows()"
   ]
  },
  {
   "cell_type": "code",
   "execution_count": null,
   "metadata": {},
   "outputs": [],
   "source": []
  }
 ],
 "metadata": {
  "kernelspec": {
   "display_name": "Python 3",
   "language": "python",
   "name": "python3"
  },
  "language_info": {
   "codemirror_mode": {
    "name": "ipython",
    "version": 3
   },
   "file_extension": ".py",
   "mimetype": "text/x-python",
   "name": "python",
   "nbconvert_exporter": "python",
   "pygments_lexer": "ipython3",
   "version": "3.6.8"
  }
 },
 "nbformat": 4,
 "nbformat_minor": 2
}
