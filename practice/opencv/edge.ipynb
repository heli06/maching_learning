{
 "cells": [
  {
   "cell_type": "code",
   "execution_count": 2,
   "metadata": {},
   "outputs": [],
   "source": [
    "import cv2\n",
    "import numpy as np"
   ]
  },
  {
   "cell_type": "code",
   "execution_count": 2,
   "metadata": {},
   "outputs": [],
   "source": [
    "img = cv2.imread('hand.jpg')\n",
    "blurImg = cv2.GaussianBlur(img, (9, 9), 0)\n",
    "\n",
    "cannyImg = cv2.Canny(blurImg, 50, 130)\n",
    "cannyImgNoise = cv2.Canny(img, 50, 130)\n",
    "\n",
    "cv2.namedWindow('Blur')\n",
    "cv2.namedWindow('Canny')\n",
    "cv2.namedWindow('Canny_Noise')\n",
    "cv2.imshow('Blur', blurImg)\n",
    "cv2.imshow('Canny', cannyImg)\n",
    "cv2.imshow('Canny_Noise', cannyImgNoise)\n",
    "\n",
    "cv2.waitKey()\n",
    "cv2.destroyAllWindows()"
   ]
  },
  {
   "cell_type": "code",
   "execution_count": 13,
   "metadata": {},
   "outputs": [],
   "source": [
    "img = cv2.imread('hand.jpg')\n",
    "blurImg = cv2.GaussianBlur(img, (9, 9), 0)\n",
    "\n",
    "cannyImg = cv2.Canny(blurImg, 50, 130)\n",
    "# 获取掩膜\n",
    "ret, mask = cv2.threshold(cannyImg, 170, 255,\n",
    "    cv2.THRESH_BINARY)\n",
    "# 取反的掩膜\n",
    "mask_inv = cv2.bitwise_not(mask)\n",
    "# 红色的边缘图片\n",
    "mask_red = cv2.cvtColor(mask, cv2.COLOR_GRAY2BGR)\n",
    "mask_red[:, :, [0, 1]] = 0\n",
    "\n",
    "# 处理原图\n",
    "img2 = cv2.bitwise_and(img, \n",
    "    cv2.cvtColor(mask_inv, cv2.COLOR_GRAY2BGR))\n",
    "\n",
    "img2 = cv2.add(img2, mask_red)\n",
    "\n",
    "cv2.namedWindow('red_edge')\n",
    "cv2.imshow('red_edge', img2)\n",
    "cv2.waitKey()\n",
    "cv2.destroyAllWindows()"
   ]
  }
 ],
 "metadata": {
  "kernelspec": {
   "display_name": "Python 3",
   "language": "python",
   "name": "python3"
  },
  "language_info": {
   "codemirror_mode": {
    "name": "ipython",
    "version": 3
   },
   "file_extension": ".py",
   "mimetype": "text/x-python",
   "name": "python",
   "nbconvert_exporter": "python",
   "pygments_lexer": "ipython3",
   "version": "3.6.8"
  }
 },
 "nbformat": 4,
 "nbformat_minor": 2
}
