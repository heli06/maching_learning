{
 "cells": [
  {
   "cell_type": "code",
   "execution_count": 1,
   "metadata": {},
   "outputs": [],
   "source": [
    "import cv2\n",
    "import numpy as np"
   ]
  },
  {
   "cell_type": "code",
   "execution_count": 2,
   "metadata": {},
   "outputs": [],
   "source": [
    "img = cv2.imread('hzxc2.jpg', 1)\n",
    "b,g,r = cv2.split(img)\n",
    "\n",
    "cv2.namedWindow('Source Image')\n",
    "cv2.namedWindow('Blue Channel')\n",
    "cv2.namedWindow('Green Channel')\n",
    "cv2.namedWindow('Red Channel')\n",
    "cv2.imshow('Source Image', img)\n",
    "cv2.imshow('Blue Channel', b)\n",
    "cv2.imshow('Green Channel', g)\n",
    "cv2.imshow('Red Channel', r)\n",
    "\n",
    "hsv = cv2.cvtColor(img, cv2.COLOR_BGR2HSV)\n",
    "h,s,v = cv2.split(hsv)\n",
    "\n",
    "cv2.namedWindow('HSV')\n",
    "cv2.namedWindow('H')\n",
    "cv2.namedWindow('S')\n",
    "cv2.namedWindow('V')\n",
    "cv2.imshow('HSV', hsv)\n",
    "cv2.imshow('H', h)\n",
    "cv2.imshow('S', s)\n",
    "cv2.imshow('V', v)\n",
    "cv2.waitKey(0)\n",
    "cv2.destroyAllWindows()"
   ]
  },
  {
   "cell_type": "code",
   "execution_count": 3,
   "metadata": {},
   "outputs": [],
   "source": [
    "img = cv2.imread('IMG_8257.jpg', 1)\n",
    "b,g,r = cv2.split(img)\n",
    "\n",
    "cv2.namedWindow('Source Image')\n",
    "cv2.namedWindow('New Red Channel')\n",
    "cv2.namedWindow('New Image')\n",
    "\n",
    "cv2.imshow('Source Image', img)\n",
    "\n",
    "ROI = r[260:380, 30:120]\n",
    "ROI = 255\n",
    "r[260:380, 30:120] = ROI\n",
    "\n",
    "cv2.imshow('New Red Channel', r)\n",
    "newImage = cv2.merge((b, g, r))\n",
    "cv2.imshow('New Image', newImage)\n",
    "\n",
    "cv2.waitKey(0)\n",
    "cv2.destroyAllWindows()"
   ]
  },
  {
   "cell_type": "code",
   "execution_count": 4,
   "metadata": {},
   "outputs": [
    {
     "name": "stdout",
     "output_type": "stream",
     "text": [
      "True\n"
     ]
    }
   ],
   "source": [
    "a = np.zeros((500, 500), np.uint8)\n",
    "b = np.ones((500, 500), np.uint8)\n",
    "c = a + b\n",
    "d = cv2.add(a, b)\n",
    "\n",
    "cv2.namedWindow('b')\n",
    "cv2.imshow('b',b)\n",
    "b = b + 120\n",
    "cv2.namedWindow('b+120')\n",
    "cv2.imshow('b+120',b)\n",
    "cv2.namedWindow('add')\n",
    "cv2.imshow('add',d)\n",
    "# 验证两种相加的方法得到的结果是否相同\n",
    "print(c.all() == d.all())\n",
    "\n",
    "cv2.waitKey()\n",
    "cv2.destroyAllWindows()"
   ]
  },
  {
   "cell_type": "code",
   "execution_count": 5,
   "metadata": {},
   "outputs": [],
   "source": [
    "img1 = cv2.imread('m1.jpg')\n",
    "img2 = cv2.imread('q1.jpg')\n",
    "\n",
    "img3 = cv2.addWeighted(img1, 0.5, img2, 0.5, 0)\n",
    "\n",
    "cv2.namedWindow('img1')\n",
    "cv2.namedWindow('img2')\n",
    "cv2.namedWindow('img3')\n",
    "cv2.imshow('img1', img1)\n",
    "cv2.imshow('img2', img2)\n",
    "cv2.imshow('img3', img3)\n",
    "\n",
    "cv2.imwrite('qq1.jpg', img3)\n",
    "\n",
    "cv2.waitKey()\n",
    "cv2.destroyAllWindows()"
   ]
  },
  {
   "cell_type": "code",
   "execution_count": 8,
   "metadata": {},
   "outputs": [],
   "source": [
    "img1 = cv2.imread('mavic_air.jpg')\n",
    "img2 = cv2.imread('logo1.jpg')\n",
    "\n",
    "rows1, cols1, channels1 = img1.shape\n",
    "rows2, cols2, channels2 = img2.shape\n",
    "roi = img1[rows1-rows2:rows1, cols1-cols2:cols1]\n",
    "\n",
    "# 创建 logo 的掩膜\n",
    "img2gray = cv2.cvtColor(img2, cv2.COLOR_BGR2GRAY)\n",
    "ret, mask = cv2.threshold(img2gray, 170, 255, \n",
    "                          cv2.THRESH_BINARY)\n",
    "mask_inv = cv2.bitwise_not(mask)\n",
    "\n",
    "img1_bg = cv2.bitwise_and(roi, roi, mask = mask)\n",
    "img2_bg = cv2.bitwise_and(img2, img2, mask = mask_inv)\n",
    "\n",
    "dst = cv2.add(img1_bg, img2_bg)\n",
    "cv2.imwrite('merge.jpg', dst)\n",
    "# roi 的修改会直接作用于 img1 上？\n",
    "roi[:] = dst\n",
    "\n",
    "cv2.imshow('1', mask)\n",
    "cv2.imshow('2', mask_inv)\n",
    "cv2.imshow('3', img1_bg)\n",
    "cv2.imshow('4', img2_bg)\n",
    "cv2.imshow('5', dst)\n",
    "\n",
    "cv2.imshow('res',img1)\n",
    "cv2.waitKey(0)\n",
    "cv2.destroyAllWindows()"
   ]
  }
 ],
 "metadata": {
  "kernelspec": {
   "display_name": "Python 3",
   "language": "python",
   "name": "python3"
  },
  "language_info": {
   "codemirror_mode": {
    "name": "ipython",
    "version": 3
   },
   "file_extension": ".py",
   "mimetype": "text/x-python",
   "name": "python",
   "nbconvert_exporter": "python",
   "pygments_lexer": "ipython3",
   "version": "3.6.8"
  }
 },
 "nbformat": 4,
 "nbformat_minor": 2
}
