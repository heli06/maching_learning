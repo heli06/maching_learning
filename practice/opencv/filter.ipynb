{
 "cells": [
  {
   "cell_type": "code",
   "execution_count": 1,
   "metadata": {},
   "outputs": [],
   "source": [
    "import cv2\n",
    "import numpy as np"
   ]
  },
  {
   "cell_type": "code",
   "execution_count": 2,
   "metadata": {},
   "outputs": [],
   "source": [
    "def blurTrackbar(x):\n",
    "    pass\n",
    "\n",
    "def GaussianBlurTrackbar(x):\n",
    "    pass\n",
    "\n",
    "img = cv2.imread('caffee.jpg')\n",
    "\n",
    "cv2.namedWindow('Blur', cv2.WINDOW_NORMAL)\n",
    "cv2.resizeWindow('Blur', 480, 640)\n",
    "cv2.namedWindow('Gaussian Blur', cv2.WINDOW_NORMAL)\n",
    "cv2.resizeWindow('Gaussian Blur', 480, 640)\n",
    "\n",
    "cv2.createTrackbar('ksize', 'Blur', 1, 30, blurTrackbar)\n",
    "cv2.createTrackbar('ksize', 'Gaussian Blur', 1, 30,\n",
    "                  GaussianBlurTrackbar)\n",
    "\n",
    "while True:\n",
    "    blurKsize = cv2.getTrackbarPos('ksize', 'Blur')\n",
    "    GaussianKsize = cv2.getTrackbarPos('ksize', \n",
    "                                       'Gaussian Blur')\n",
    "    blurImg = cv2.blur(img, (blurKsize, blurKsize))\n",
    "\n",
    "    if GaussianKsize % 2 is 0:\n",
    "        GaussianKsize = GaussianKsize + 1\n",
    "    gauBlurImg = cv2.GaussianBlur(img, (GaussianKsize,\n",
    "        GaussianKsize), 0, None, 0)\n",
    "    \n",
    "    cv2.imshow('Blur', blurImg)\n",
    "    cv2.imshow('Gaussian Blur', gauBlurImg)\n",
    "    \n",
    "    if cv2.waitKey(1) & 0xFF is ord('q'):\n",
    "        break\n",
    "\n",
    "cv2.destroyAllWindows()"
   ]
  },
  {
   "cell_type": "code",
   "execution_count": 3,
   "metadata": {},
   "outputs": [],
   "source": [
    "def medianBlurTrackbar(x):\n",
    "    pass\n",
    "\n",
    "img = cv2.imread('caffee.jpg')\n",
    "\n",
    "cv2.namedWindow('Median Blur', cv2.WINDOW_NORMAL)\n",
    "cv2.resizeWindow('Median Blur', 480, 640)\n",
    "cv2.createTrackbar('ksize', 'Median Blur', 1, 30, \n",
    "                   medianBlurTrackbar)\n",
    "while True:\n",
    "    MedianKsize = cv2.getTrackbarPos('ksize', \n",
    "                                     'Median Blur')\n",
    "    if MedianKsize % 2 is 0:\n",
    "        MedianKsize = MedianKsize + 1\n",
    "    \n",
    "    MedianBlurImg = cv2.medianBlur(img, MedianKsize)\n",
    "    cv2.imshow('Median Blur', MedianBlurImg)\n",
    "    \n",
    "    if cv2.waitKey(1) & 0xFF is ord('q'):\n",
    "        break\n",
    "        \n",
    "cv2.destroyAllWindows()"
   ]
  },
  {
   "cell_type": "code",
   "execution_count": 5,
   "metadata": {},
   "outputs": [],
   "source": [
    "mg = cv2.imread('caffee.jpg')\n",
    "\n",
    "# 为方便显示 我们将窗口适当缩小\n",
    "cv2.namedWindow('Bilateral Blur', cv2.WINDOW_NORMAL)\n",
    "cv2.resizeWindow('Bilateral Blur', 480, 640)\n",
    "\n",
    "BilateralBlurImg = cv2.bilateralFilter(img, 25, 25*2, 25/2)\n",
    "   \n",
    "cv2.imshow('Bilateral Blur', BilateralBlurImg)\n",
    "   \n",
    "cv2.waitKey()\n",
    "\n",
    "cv2.destroyAllWindows()"
   ]
  },
  {
   "cell_type": "code",
   "execution_count": null,
   "metadata": {},
   "outputs": [],
   "source": []
  }
 ],
 "metadata": {
  "kernelspec": {
   "display_name": "Python 3",
   "language": "python",
   "name": "python3"
  },
  "language_info": {
   "codemirror_mode": {
    "name": "ipython",
    "version": 3
   },
   "file_extension": ".py",
   "mimetype": "text/x-python",
   "name": "python",
   "nbconvert_exporter": "python",
   "pygments_lexer": "ipython3",
   "version": "3.6.8"
  }
 },
 "nbformat": 4,
 "nbformat_minor": 2
}
