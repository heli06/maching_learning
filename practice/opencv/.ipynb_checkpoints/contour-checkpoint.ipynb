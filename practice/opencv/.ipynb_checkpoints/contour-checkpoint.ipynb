{
 "cells": [
  {
   "cell_type": "code",
   "execution_count": 1,
   "metadata": {},
   "outputs": [],
   "source": [
    "import cv2\n",
    "import numpy as np"
   ]
  },
  {
   "cell_type": "code",
   "execution_count": 2,
   "metadata": {},
   "outputs": [],
   "source": [
    "def drawRotatedRect(rect, image):\n",
    "    box = cv2.boxPoints(rect)\n",
    "    x0, y0 = box[0]\n",
    "    for i in range(3):\n",
    "        x, y = box[i]\n",
    "        x1, y1 = box[i + 1]\n",
    "        cv2.line(image, (x, y), (x1, y1), (0, 0, 255), 2)\n",
    "        if i is 2:\n",
    "            cv2.line(image, (x1, y1), (x0, y0), (0, 0, 255), 2)"
   ]
  },
  {
   "cell_type": "code",
   "execution_count": 3,
   "metadata": {},
   "outputs": [
    {
     "name": "stdout",
     "output_type": "stream",
     "text": [
      "(699, 1, 2)\n"
     ]
    }
   ],
   "source": [
    "img = cv2.imread('duolaameng.jpg')\n",
    "# img = cv2.imread('fox.png')\n",
    "\n",
    "grayImg = cv2.cvtColor(img, cv2.COLOR_BGR2GRAY)\n",
    "_, binImg = cv2.threshold(grayImg, 100, 255, \n",
    "    cv2.THRESH_BINARY)\n",
    "cv2.imshow('binImg', binImg)\n",
    "# CHAIN_APPROX_SIMPLE 压缩坐标\n",
    "_, contours, hierarchy = cv2.findContours(binImg,\n",
    "    cv2.RETR_TREE, cv2.CHAIN_APPROX_SIMPLE)\n",
    "# contourIdx 指示变量\n",
    "cv2.drawContours(img, contours, 1, (0, 200, 0), 2)\n",
    "# 矩形1\n",
    "x, y, w, h = cv2.boundingRect(contours[1])\n",
    "cv2.rectangle(img, (x,y), (x+w, y+h), (0, 0, 200), 2)\n",
    "\n",
    "# 凸包\n",
    "hull = cv2.convexHull(contours[1], True)\n",
    "cv2.polylines(img, [hull], True, (255,0,0), 3)\n",
    "\n",
    "# 凸缺陷\n",
    "hull_2 = cv2.convexHull(contours[1], returnPoints=False)\n",
    "defects = cv2.convexityDefects(contours[1], hull_2)\n",
    "for i in range(defects.shape[0]):\n",
    "    s,e,f,d = defects[i,0]\n",
    "    # 起始点 终点 最远点坐标\n",
    "    start = tuple(contours[1][s])\n",
    "    end = tuple(contours[1][e])\n",
    "    far = tuple(contours[1][f])\n",
    "    xs, ys = start[0]\n",
    "    xe, ye = end[0]\n",
    "    xf, yf = far[0]\n",
    "    cv2.line(img, (xs,ys), (xe,ye), (0,255,0), 3)\n",
    "    cv2.circle(img, (xf,yf), 4, (0,0,255), -1)\n",
    "\n",
    "\n",
    "\n",
    "# 矩形2\n",
    "rect = cv2.minAreaRect(contours[1])\n",
    "x, y = rect[0]\n",
    "w, h = rect[1]\n",
    "angle = rect[2]\n",
    "drawRotatedRect(rect, img)\n",
    "\n",
    "cv2.imshow('Contours Image', img)\n",
    "print(contours[1].shape)\n",
    "cv2.waitKey()\n",
    "cv2.destroyAllWindows()"
   ]
  },
  {
   "cell_type": "code",
   "execution_count": null,
   "metadata": {},
   "outputs": [],
   "source": []
  }
 ],
 "metadata": {
  "kernelspec": {
   "display_name": "Python 3",
   "language": "python",
   "name": "python3"
  },
  "language_info": {
   "codemirror_mode": {
    "name": "ipython",
    "version": 3
   },
   "file_extension": ".py",
   "mimetype": "text/x-python",
   "name": "python",
   "nbconvert_exporter": "python",
   "pygments_lexer": "ipython3",
   "version": "3.6.8"
  }
 },
 "nbformat": 4,
 "nbformat_minor": 2
}
