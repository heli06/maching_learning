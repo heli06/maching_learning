{
 "cells": [
  {
   "cell_type": "code",
   "execution_count": 1,
   "metadata": {},
   "outputs": [],
   "source": [
    "import cv2\n",
    "import numpy as np"
   ]
  },
  {
   "cell_type": "code",
   "execution_count": 2,
   "metadata": {},
   "outputs": [],
   "source": [
    "img = cv2.imread('jjdbf2.jpg')\n",
    "\n",
    "# 8*8 的矩形\n",
    "kernel = cv2.getStructuringElement(cv2.MORPH_RECT, (8,8))\n",
    "dilateImg = cv2.dilate(img, kernel)\n",
    "erodeImg = cv2.erode(img, kernel)\n",
    "\n",
    "cv2.imshow('SrcImg', img)\n",
    "cv2.imshow('DilateImg', dilateImg)\n",
    "cv2.imshow('ErodeImg', erodeImg)\n",
    "\n",
    "cv2.waitKey()\n",
    "cv2.destroyAllWindows()"
   ]
  },
  {
   "cell_type": "code",
   "execution_count": 3,
   "metadata": {},
   "outputs": [],
   "source": [
    "img = cv2.imread('jjdbf2.jpg')\n",
    "\n",
    "kernel = cv2.getStructuringElement(cv2.MORPH_RECT, (8,8))\n",
    "openImg = cv2.morphologyEx(img, cv2.MORPH_OPEN, kernel)\n",
    "closeImg = cv2.morphologyEx(img, cv2.MORPH_CLOSE, kernel)\n",
    "gradImg = cv2.morphologyEx(img, \n",
    "                           cv2.MORPH_GRADIENT, kernel)\n",
    "\n",
    "cv2.imshow('OpenImg', openImg)\n",
    "cv2.imshow('CloseImg', closeImg)\n",
    "cv2.imshow('GradientImg', gradImg)\n",
    "\n",
    "cv2.waitKey()\n",
    "cv2.destroyAllWindows()"
   ]
  },
  {
   "cell_type": "code",
   "execution_count": null,
   "metadata": {},
   "outputs": [],
   "source": []
  }
 ],
 "metadata": {
  "kernelspec": {
   "display_name": "Python 3",
   "language": "python",
   "name": "python3"
  },
  "language_info": {
   "codemirror_mode": {
    "name": "ipython",
    "version": 3
   },
   "file_extension": ".py",
   "mimetype": "text/x-python",
   "name": "python",
   "nbconvert_exporter": "python",
   "pygments_lexer": "ipython3",
   "version": "3.6.8"
  }
 },
 "nbformat": 4,
 "nbformat_minor": 2
}
