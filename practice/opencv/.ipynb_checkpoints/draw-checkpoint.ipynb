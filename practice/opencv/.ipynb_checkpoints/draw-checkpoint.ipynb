{
 "cells": [
  {
   "cell_type": "code",
   "execution_count": 1,
   "metadata": {},
   "outputs": [],
   "source": [
    "import numpy as np\n",
    "import cv2"
   ]
  },
  {
   "cell_type": "code",
   "execution_count": 2,
   "metadata": {},
   "outputs": [],
   "source": [
    "# 创建画布\n",
    "img = np.zeros((512, 512, 3), np.uint8)\n",
    "# 画布 直线段起始点 终点 颜色 线宽\n",
    "img = cv2.line(img, (0,0), (250,250), (0,0,255), 2)\n",
    "# 画布 矩形左上角 右下角 颜色 线宽\n",
    "img = cv2.rectangle(img, (384,0),(510,128),(0,255,0), 3)\n",
    "# 画布 圆心 半径 颜色 线宽\n",
    "img = cv2.circle(img, (447,63), 63, (0,0,255), -1)\n",
    "\n",
    "# 字体变量\n",
    "font = cv2.FONT_HERSHEY_COMPLEX\n",
    "# 画布，文字，文字框左下角，字体，缩放倍数，\n",
    "# 颜色，线宽，线型\n",
    "cv2.putText(img, 'OpenCV', (10,500), font, 4, \n",
    "        (255,255,255), 2, cv2.LINE_AA)\n",
    "cv2.imshow('img', img)\n",
    "cv2.waitKey(0)\n",
    "cv2.destroyAllWindows()"
   ]
  },
  {
   "cell_type": "code",
   "execution_count": 3,
   "metadata": {},
   "outputs": [
    {
     "name": "stdout",
     "output_type": "stream",
     "text": [
      "['EVENT_FLAG_ALTKEY', 'EVENT_FLAG_CTRLKEY', 'EVENT_FLAG_LBUTTON', 'EVENT_FLAG_MBUTTON', 'EVENT_FLAG_RBUTTON', 'EVENT_FLAG_SHIFTKEY', 'EVENT_LBUTTONDBLCLK', 'EVENT_LBUTTONDOWN', 'EVENT_LBUTTONUP', 'EVENT_MBUTTONDBLCLK', 'EVENT_MBUTTONDOWN', 'EVENT_MBUTTONUP', 'EVENT_MOUSEHWHEEL', 'EVENT_MOUSEMOVE', 'EVENT_MOUSEWHEEL', 'EVENT_RBUTTONDBLCLK', 'EVENT_RBUTTONDOWN', 'EVENT_RBUTTONUP']\n"
     ]
    }
   ],
   "source": [
    "events = [i for i in dir(cv2) if 'EVENT' in i]\n",
    "print(events)"
   ]
  },
  {
   "cell_type": "code",
   "execution_count": 4,
   "metadata": {},
   "outputs": [
    {
     "name": "stdout",
     "output_type": "stream",
     "text": [
      "I am the param\n",
      "I am the param\n",
      "I am the param\n",
      "I am the param\n",
      "I am the param\n",
      "I am the param\n",
      "I am the param\n",
      "I am the param\n",
      "I am the param\n",
      "I am the param\n",
      "I am the param\n",
      "I am the param\n",
      "I am the param\n",
      "I am the param\n",
      "I am the param\n",
      "I am the param\n",
      "I am the param\n",
      "I am the param\n",
      "I am the param\n",
      "I am the param\n",
      "I am the param\n",
      "I am the param\n",
      "I am the param\n",
      "I am the param\n",
      "I am the param\n",
      "I am the param\n",
      "I am the param\n",
      "I am the param\n",
      "I am the param\n",
      "I am the param\n",
      "I am the param\n",
      "I am the param\n",
      "I am the param\n",
      "I am the param\n",
      "I am the param\n",
      "I am the param\n",
      "I am the param\n",
      "I am the param\n",
      "I am the param\n",
      "I am the param\n",
      "I am the param\n",
      "I am the param\n"
     ]
    }
   ],
   "source": [
    "def draw_circle(event, x, y, flags, param):\n",
    "    if event == cv2.EVENT_MOUSEMOVE and flags == cv2.EVENT_FLAG_CTRLKEY:\n",
    "        print(param)\n",
    "        cv2.circle(img, (x,y), 100, (255,0,0), -1)\n",
    "        \n",
    "img = np.zeros((512, 512, 3), np.uint8)\n",
    "cv2.namedWindow('image')\n",
    "cv2.setMouseCallback('image', draw_circle, 'I am the param')\n",
    "\n",
    "while True:\n",
    "    cv2.imshow('image', img)\n",
    "    if cv2.waitKey(20) & 0xFF == 27:\n",
    "        break\n",
    "cv2.destroyAllWindows()"
   ]
  },
  {
   "cell_type": "code",
   "execution_count": 5,
   "metadata": {},
   "outputs": [],
   "source": [
    "def nothing(x):\n",
    "    pass\n",
    "\n",
    "img = np.zeros((300, 512, 3), np.uint8)\n",
    "cv2.namedWindow('image')\n",
    "\n",
    "# 创建并“激活”滑动条\n",
    "# 滑动条名 窗口名 初始值 调节范围 回调函数名\n",
    "cv2.createTrackbar('R', 'image', 0, 255, nothing)\n",
    "cv2.createTrackbar('G', 'image', 0, 255, nothing)\n",
    "cv2.createTrackbar('B', 'image', 0, 255, nothing)\n",
    "\n",
    "switch = '0 : OFF \\n1 : ON'\n",
    "cv2.createTrackbar(switch, 'image', 0, 1, nothing)\n",
    "\n",
    "while(1):\n",
    "    cv2.imshow('image', img)\n",
    "    k = cv2.waitKey(1) & 0xFF\n",
    "    if k == 27:\n",
    "        break\n",
    "    \n",
    "    r = cv2.getTrackbarPos('R', 'image')\n",
    "    g = cv2.getTrackbarPos('G', 'image')\n",
    "    b = cv2.getTrackbarPos('B', 'image')\n",
    "    s = cv2.getTrackbarPos(switch, 'image')\n",
    "    \n",
    "    if s == 0:\n",
    "        img[:] = 0\n",
    "    else:\n",
    "        img[:] = [b,g,r]\n",
    "        \n",
    "cv2.destroyAllWindows()"
   ]
  }
 ],
 "metadata": {
  "kernelspec": {
   "display_name": "Python 3",
   "language": "python",
   "name": "python3"
  },
  "language_info": {
   "codemirror_mode": {
    "name": "ipython",
    "version": 3
   },
   "file_extension": ".py",
   "mimetype": "text/x-python",
   "name": "python",
   "nbconvert_exporter": "python",
   "pygments_lexer": "ipython3",
   "version": "3.6.8"
  }
 },
 "nbformat": 4,
 "nbformat_minor": 2
}
