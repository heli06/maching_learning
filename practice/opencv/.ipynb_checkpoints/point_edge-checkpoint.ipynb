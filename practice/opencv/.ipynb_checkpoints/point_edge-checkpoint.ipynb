{
 "cells": [
  {
   "cell_type": "code",
   "execution_count": 1,
   "metadata": {},
   "outputs": [],
   "source": [
    "import cv2\n",
    "import numpy as np"
   ]
  },
  {
   "cell_type": "code",
   "execution_count": 8,
   "metadata": {},
   "outputs": [],
   "source": [
    "img = cv2.imread('mavic_air.jpg')\n",
    "cv2.imshow('img', img)\n",
    "grayImg = cv2.cvtColor(img, cv2.COLOR_BGR2GRAY)\n",
    "grayImg = np.float32(grayImg)\n",
    "# 图片 邻域大小 孔径大小 k系数\n",
    "harriImg = cv2.cornerHarris(grayImg, 2, 3, 0.04)\n",
    "# 膨胀\n",
    "kernel = cv2.getStructuringElement(cv2.MORPH_RECT, (3,3))\n",
    "harriImgD = cv2.dilate(harriImg, kernel)\n",
    "# 设置阈值\n",
    "img[harriImgD > 0.05*harriImgD.max()] = [0,0,255]\n",
    "cv2.imshow('Harri', harriImgD)\n",
    "cv2.imshow('Output', img)\n",
    "cv2.waitKey()\n",
    "cv2.destroyAllWindows()"
   ]
  },
  {
   "cell_type": "code",
   "execution_count": 7,
   "metadata": {},
   "outputs": [],
   "source": [
    "img = cv2.imread('mavic_air.jpg')\n",
    "grayImg = cv2.cvtColor(img, cv2.COLOR_BGR2GRAY)\n",
    "# 图像 最大角点数量 最小特征值 最小距离\n",
    "cornerPoints = cv2.goodFeaturesToTrack(grayImg, 50,\n",
    "                                      0.01, 50)\n",
    "cornerPoints = np.int0(cornerPoints)\n",
    "for i in cornerPoints:\n",
    "    x, y = i.ravel()\n",
    "    cv2.circle(img, (x,y), 3, [0,0,255], -1)\n",
    "    \n",
    "cv2.imshow('Shi-Tomasi', img)\n",
    "cv2.waitKey()\n",
    "cv2.destroyAllWindows()"
   ]
  },
  {
   "cell_type": "code",
   "execution_count": 10,
   "metadata": {},
   "outputs": [
    {
     "name": "stdout",
     "output_type": "stream",
     "text": [
      "[[359 172 363 170]\n",
      " [398  46 399  44]\n",
      " [518  47 516  47]\n",
      " [528  48 527  46]\n",
      " [574  79 574  80]\n",
      " [306  84 311  81]\n",
      " [434  83 436  80]\n",
      " [567  81 567  81]\n",
      " [282  88 280  86]\n",
      " [452  87 452  87]\n",
      " [471  87 472  86]\n",
      " [290  89 289  87]\n",
      " [432  89 432  89]\n",
      " [546  96 544  94]\n",
      " [316  98 314  98]\n",
      " [183 101 180 101]\n",
      " [553 100 553  99]\n",
      " [336 102 336 102]\n",
      " [436 102 433 101]\n",
      " [293 104 293 104]\n",
      " [295 111 295 111]\n",
      " [554 121 554 121]\n",
      " [398 123 398 123]\n",
      " [618 124 618 124]\n",
      " [555 126 554 127]\n",
      " [144 128 144 126]\n",
      " [604 128 602 128]\n",
      " [131 130 130 129]\n",
      " [555 147 554 145]\n",
      " [563 149 565 149]\n",
      " [148 170 148 170]\n",
      " [134 197 134 197]\n",
      " [224 188 223 188]\n",
      " [120 196 116 200]\n",
      " [117 202 116 200]\n",
      " [465 202 466 199]\n",
      " [229 210 228 206]\n",
      " [435 209 434 207]\n",
      " [338 211 338 210]\n",
      " [313 220 310 219]\n",
      " [183 221 181 221]\n",
      " [204 221 205 221]\n",
      " [120 222 118 225]\n",
      " [305 223 303 222]\n",
      " [315 232 317 231]\n",
      " [477 232 476 230]\n",
      " [282 236 282 236]\n",
      " [368 240 366 240]\n",
      " [437 239 438 239]\n",
      " [390 246 391 246]\n",
      " [132 268 132 269]\n",
      " [464 318 463 319]]\n"
     ]
    }
   ],
   "source": [
    "img = cv2.imread('mavic_air.jpg')\n",
    "gray = cv2.cvtColor(img, cv2.COLOR_BGR2GRAY)\n",
    "\n",
    "gray32 = np.float32(gray)\n",
    "dst = cv2.cornerHarris(gray, 2, 3, 0.04)\n",
    "dst = cv2.dilate(dst, None)\n",
    "ret, dst = cv2.threshold(dst, 0.01*dst.max(), 255, 0)\n",
    "dst = np.uint8(dst)\n",
    "cv2.imshow('dst', dst)\n",
    "\n",
    "ret, labels, stats, centroids = cv2.connectedComponentsWithStats(dst)\n",
    "# 确定亚像素角点检测的迭代条件\n",
    "criteria = (cv2.TERM_CRITERIA_EPS + cv2.TERM_CRITERIA_MAX_ITER, 100, 0.001)\n",
    "corners = cv2.cornerSubPix(gray32, np.float32(centroids), (5, 5), (-1, -1), criteria)\n",
    "\n",
    "# 使用Shi-Tomasi算法找到角点\n",
    "cornerPoints = cv2.goodFeaturesToTrack(gray, 50, 0.01, 50)\n",
    "cornersS = cv2.cornerSubPix(gray, cornerPoints, (5, 5), (-1, -1), criteria)\n",
    "# 横向堆叠矩心和角点的坐标矩阵\n",
    "res = np.hstack((centroids, corners))\n",
    "res = np.int0(res)\n",
    "print(res)\n",
    "# 蓝色点表示Harri算法后找到的角点\n",
    "# 绿色点表示Harri算法后和连通域找到的亚像素角点\n",
    "# 红色点表示Shi-Tomasi算法后找到的亚像素角点\n",
    "for i in cornersS:\n",
    "    x, y = i.ravel()\n",
    "    cv2.circle(img, (x, y), 4, [0, 0, 255])\n",
    "for i in range(0, res[:, 3].size):\n",
    "    cv2.circle(img, (res[i, 0], res[i, 1]), 4, [255, 0, 0])\n",
    "    cv2.circle(img, (res[i, 2], res[i, 3]), 3, [0, 255, 0])\n",
    "cv2.imshow('Image', img)\n",
    "\n",
    "\n",
    "cv2.waitKey()\n",
    "cv2.destroyAllWindows()"
   ]
  },
  {
   "cell_type": "code",
   "execution_count": null,
   "metadata": {},
   "outputs": [],
   "source": []
  }
 ],
 "metadata": {
  "kernelspec": {
   "display_name": "Python 3",
   "language": "python",
   "name": "python3"
  },
  "language_info": {
   "codemirror_mode": {
    "name": "ipython",
    "version": 3
   },
   "file_extension": ".py",
   "mimetype": "text/x-python",
   "name": "python",
   "nbconvert_exporter": "python",
   "pygments_lexer": "ipython3",
   "version": "3.6.8"
  }
 },
 "nbformat": 4,
 "nbformat_minor": 2
}
