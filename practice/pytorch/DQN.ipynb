{
 "cells": [
  {
   "cell_type": "code",
   "execution_count": 1,
   "metadata": {},
   "outputs": [],
   "source": [
    "import torch\n",
    "import torch.nn as nn\n",
    "import numpy as np\n",
    "import gym"
   ]
  },
  {
   "cell_type": "code",
   "execution_count": 2,
   "metadata": {},
   "outputs": [],
   "source": [
    "# 超参数\n",
    "BATCH_SIZE = 32\n",
    "LR = 0.01                   # learning rate\n",
    "EPSILON = 0.9               # 最优选择动作百分比\n",
    "GAMMA = 0.9                 # 奖励递减参数\n",
    "TARGET_REPLACE_ITER = 100   # Q 现实网络的更新频率\n",
    "MEMORY_CAPACITY = 2000      # 记忆库大小\n",
    "env = gym.make('CartPole-v0')   # 立杆子游戏\n",
    "env = env.unwrapped\n",
    "N_ACTIONS = env.action_space.n  # 杆子能做的动作\n",
    "N_STATES = env.observation_space.shape[0]   # 杆子能获取的环境信息数"
   ]
  },
  {
   "cell_type": "code",
   "execution_count": 3,
   "metadata": {},
   "outputs": [],
   "source": [
    "class Net(nn.Module):\n",
    "    def __init__(self,):\n",
    "        super(Net, self).__init__()\n",
    "        self.fc1 = nn.Linear(N_STATES, 10)\n",
    "        self.fc1.weight.data.normal_(0, 0.1)\n",
    "        self.out = nn.Linear(10, N_ACTIONS)\n",
    "        self.out.weight.data.normal_(0, 0.1)\n",
    "    \n",
    "    def forward(self, x):\n",
    "        x = self.fc1(x)\n",
    "        x = tensor.relu(x)\n",
    "        actions_value = self.out(x)\n",
    "        return actions_value"
   ]
  },
  {
   "cell_type": "code",
   "execution_count": null,
   "metadata": {},
   "outputs": [],
   "source": [
    "class DQN(object):\n",
    "    def __init__(self,):\n",
    "        self.eval_net, self.target_net = Net(), Net()\n",
    "        \n",
    "        self.learn_step_counter = 0 # 用于 target 更新计时\n",
    "        self.memory_counter = 0 # 记忆库记数\n",
    "        self.memory = np.zeros((MEMORY_CAPACITY, N_STATES*2+2))\n",
    "        self.optimizer = torch.optim.Adam(\n",
    "            self.eval_net.parameters(), lr=LR)\n",
    "        self.loss_func = nn.MSELoss() # 误差公式\n",
    "        \n",
    "    def choose_action(self, x):\n",
    "        x = torch.unsqueeze(torch.FloatTensor(x), 0)\n",
    "        if np.random.uniform() < EPSILON:\n",
    "            actions_value = self.eval_net.forward(x)\n",
    "            # API待查\n",
    "            action = torch.max(actions_value, 1)[1].data.numpy()[0,0]\n",
    "        else:\n",
    "            action = np.random.randint(0, N_ACTIONS)\n",
    "        return action\n",
    "        \n",
    "    def store_transition(self, s, a, r, s_):\n",
    "        transition = np.hstack((s, [a, r], s_))\n",
    "        index = self.memory_counter % MEMORY_CAPACITY\n",
    "        self.memory[index, :] = transition\n",
    "        self.memory_counter += 1\n",
    "        \n",
    "    def learn(self):\n",
    "        \n",
    "        "
   ]
  }
 ],
 "metadata": {
  "kernelspec": {
   "display_name": "Python 3",
   "language": "python",
   "name": "python3"
  },
  "language_info": {
   "codemirror_mode": {
    "name": "ipython",
    "version": 3
   },
   "file_extension": ".py",
   "mimetype": "text/x-python",
   "name": "python",
   "nbconvert_exporter": "python",
   "pygments_lexer": "ipython3",
   "version": "3.6.8"
  }
 },
 "nbformat": 4,
 "nbformat_minor": 2
}
