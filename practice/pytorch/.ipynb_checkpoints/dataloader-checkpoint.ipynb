{
 "cells": [
  {
   "cell_type": "code",
   "execution_count": 1,
   "metadata": {},
   "outputs": [
    {
     "data": {
      "text/plain": [
       "<torch._C.Generator at 0x26a8f546d50>"
      ]
     },
     "execution_count": 1,
     "metadata": {},
     "output_type": "execute_result"
    }
   ],
   "source": [
    "import torch\n",
    "import torch.utils.data as Data\n",
    "torch.manual_seed(123)"
   ]
  },
  {
   "cell_type": "code",
   "execution_count": 3,
   "metadata": {},
   "outputs": [
    {
     "name": "stdout",
     "output_type": "stream",
     "text": [
      "Epoch:  0 | Step:  0 | batch x:  [3. 2. 7. 1. 5.] | batch y:  [ 8.  9.  4. 10.  6.]\n",
      "Epoch:  0 | Step:  1 | batch x:  [ 8. 10.  9.  4.  6.] | batch y:  [3. 1. 2. 7. 5.]\n",
      "Epoch:  1 | Step:  0 | batch x:  [2. 3. 4. 8. 1.] | batch y:  [ 9.  8.  7.  3. 10.]\n",
      "Epoch:  1 | Step:  1 | batch x:  [ 9.  7.  6.  5. 10.] | batch y:  [2. 4. 5. 6. 1.]\n",
      "Epoch:  2 | Step:  0 | batch x:  [10.  2.  8.  7.  4.] | batch y:  [1. 9. 3. 4. 7.]\n",
      "Epoch:  2 | Step:  1 | batch x:  [5. 6. 9. 1. 3.] | batch y:  [ 6.  5.  2. 10.  8.]\n"
     ]
    }
   ],
   "source": [
    "BATCH_SIZE = 5 # 批训练的数据个数\n",
    "\n",
    "x = torch.linspace(1, 10, 10)\n",
    "y = torch.linspace(10, 1, 10)\n",
    "\n",
    "torch_dataset = Data.TensorDataset(x,y)\n",
    "\n",
    "loader = Data.DataLoader(\n",
    "    dataset=torch_dataset,\n",
    "    batch_size=BATCH_SIZE,\n",
    "    shuffle=True,\n",
    "    num_workers=2\n",
    ")\n",
    "\n",
    "for epoch in range(3):\n",
    "    for step, (batch_x, batch_y) in enumerate(loader):\n",
    "        \n",
    "         print('Epoch: ', epoch, '| Step: ', step, '| batch x: ',\n",
    "              batch_x.numpy(), '| batch y: ', batch_y.numpy())"
   ]
  },
  {
   "cell_type": "code",
   "execution_count": null,
   "metadata": {},
   "outputs": [],
   "source": []
  }
 ],
 "metadata": {
  "kernelspec": {
   "display_name": "Python 3",
   "language": "python",
   "name": "python3"
  },
  "language_info": {
   "codemirror_mode": {
    "name": "ipython",
    "version": 3
   },
   "file_extension": ".py",
   "mimetype": "text/x-python",
   "name": "python",
   "nbconvert_exporter": "python",
   "pygments_lexer": "ipython3",
   "version": "3.6.8"
  }
 },
 "nbformat": 4,
 "nbformat_minor": 2
}
