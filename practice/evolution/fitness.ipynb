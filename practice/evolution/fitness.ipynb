{
 "cells": [
  {
   "cell_type": "code",
   "execution_count": 1,
   "metadata": {},
   "outputs": [],
   "source": [
    "import numpy as np"
   ]
  },
  {
   "cell_type": "code",
   "execution_count": 2,
   "metadata": {},
   "outputs": [
    {
     "name": "stderr",
     "output_type": "stream",
     "text": [
      "D:\\Anaconda3\\envs\\mlcc\\lib\\site-packages\\ipykernel_launcher.py:8: DeprecationWarning: The binary mode of fromstring is deprecated, as it behaves surprisingly on unicode inputs. Use frombuffer instead\n",
      "  \n"
     ]
    }
   ],
   "source": [
    "TARGET_PHRASE = 'You get it!' # 目标DNA\n",
    "POP_SIZE = 300 # 种群数量\n",
    "CROSS_RATE = 0.4 # 重组概率\n",
    "MUTATION_RATE = 0.01 # 变异率\n",
    "N_GENERATIONS = 1000\n",
    "\n",
    "DNA_SIZE = len(TARGET_PHRASE)\n",
    "TARGET_ASCII = np.fromstring(TARGET_PHRASE, dtype=np.uint8)\n",
    "ASCII_BOUND = [32, 126]"
   ]
  },
  {
   "cell_type": "code",
   "execution_count": 3,
   "metadata": {},
   "outputs": [],
   "source": [
    "class GA(object):\n",
    "    def __init__(self, DNA_size, DNA_bound, cross_rate, \n",
    "                 mutation_rate, pop_size):\n",
    "        self.DNA_size = DNA_size\n",
    "        DNA_bound[1] += 1\n",
    "        self.DNA_bound = DNA_bound\n",
    "        self.cross_rate = cross_rate\n",
    "        self.mutate_rate = mutation_rate\n",
    "        self.pop_size = pop_size\n",
    "        \n",
    "        self.pop = np.random.randint(*DNA_bound, \n",
    "            size=(pop_size, DNA_size)).astype(np.int8)\n",
    "    \n",
    "    def get_fitness(self): # 计数字母匹配数\n",
    "        match_count = (self.pop == TARGET_ASCII).sum(axis=1)\n",
    "        return match_count\n",
    "    \n",
    "    def translateDNA(self, DNA): # 转为人可辨识的字符串\n",
    "        return DNA.tostring().decode('ascii')\n",
    "    \n",
    "    def select(self):\n",
    "        fitness = self.get_fitness() + 1e-4 # 防止 0 fitness\n",
    "        idx = np.random.choice(np.arange(self.pop_size),\n",
    "            size=self.pop_size, replace=True, p=fitness/fitness.sum())\n",
    "        return self.pop[idx]\n",
    "    \n",
    "    def crossover(self, parent, pop):\n",
    "        if np.random.rand() < self.cross_rate:\n",
    "            # 选择另一个个体\n",
    "            i_ = np.random.randint(0, self.pop_size, size=1) \n",
    "            # 选择基因交换点\n",
    "            cross_points = np.random.randint(0, 2, \n",
    "                self.DNA_size).astype(np.bool)\n",
    "            # 产生子代\n",
    "            parent[cross_points] = pop[i_, cross_points]\n",
    "        return parent\n",
    "    \n",
    "    def mutate(self, child):\n",
    "        for point in range(self.DNA_size):\n",
    "            if np.random.rand() < self.mutate_rate:\n",
    "                child[point] = np.random.randint(*self.DNA_bound)\n",
    "        return child\n",
    "        \n",
    "    def evolve(self):\n",
    "        pop = self.select()\n",
    "        pop_copy = pop.copy()\n",
    "        for parent in pop:\n",
    "            child = self.crossover(parent, pop_copy)\n",
    "            child = self.mutate(child)\n",
    "            parent[:] = child\n",
    "        self.pop = pop"
   ]
  },
  {
   "cell_type": "code",
   "execution_count": 4,
   "metadata": {},
   "outputs": [
    {
     "name": "stdout",
     "output_type": "stream",
     "text": [
      "Gen 0 :  wQ8o?Ct7F<!\n",
      "Gen 1 :  }Q=ogut7%<!\n",
      "Gen 2 :  $5ho?et7A<!\n",
      "Gen 3 :  Yk8J78t}Jt!\n",
      "Gen 4 :  Yk8J78t8Jt!\n",
      "Gen 5 :  Yk8R78t}Jt!\n",
      "Gen 6 :  \"ku.7etoJt!\n",
      "Gen 7 :  \"ku.7etoJt!\n",
      "Gen 8 :  YkuE>et(Ft!\n",
      "Gen 9 :  YkuEEet(Ft!\n",
      "Gen 10 :  {QuEg8t Jt!\n",
      "Gen 11 :  Y7u.>etwJt!\n",
      "Gen 12 :  YLuog{t Ft!\n",
      "Gen 13 :  Yuu=get+Jt!\n",
      "Gen 14 :  Yk8.get7it!\n",
      "Gen 15 :  Y48o+et it!\n",
      "Gen 16 :  YLuog8tIit!\n",
      "Gen 17 :  YQu0>et it!\n",
      "Gen 18 :  YyuJget Ft!\n",
      "Gen 19 :  YQu0>et it!\n",
      "Gen 20 :  YQuoget Ft!\n",
      "Gen 21 :  Y7uoget it!\n",
      "Gen 22 :  YQuo[et it!\n",
      "Gen 23 :  Ykuoget it!\n",
      "Gen 24 :  Y7uEget it!\n",
      "Gen 25 :  Y7uEget it!\n",
      "Gen 26 :  YQuxget it!\n",
      "Gen 27 :  YLuEget it!\n",
      "Gen 28 :  YQuxget it!\n",
      "Gen 29 :  YQuxget it!\n",
      "Gen 30 :  Y7uEget it!\n",
      "Gen 31 :  YQuxget it!\n",
      "Gen 32 :  Youhget it!\n",
      "Gen 33 :  Yyu get it!\n",
      "Gen 34 :  Yyu get it!\n",
      "Gen 35 :  Yyu get it!\n",
      "Gen 36 :  Yyu get it!\n",
      "Gen 37 :  YouEget it!\n",
      "Gen 38 :  Yyu get it!\n",
      "Gen 39 :  Yyu get it!\n",
      "Gen 40 :  YouEget it!\n",
      "Gen 41 :  YouEget it!\n",
      "Gen 42 :  YouEget it!\n",
      "Gen 43 :  YouEget it!\n",
      "Gen 44 :  YouEget it!\n",
      "Gen 45 :  You\\get it!\n",
      "Gen 46 :  You getIit!\n",
      "Gen 47 :  You.get it!\n",
      "Gen 48 :  YouEget it!\n",
      "Gen 49 :  Y7u get it!\n",
      "Gen 50 :  YQu get it!\n",
      "Gen 51 :  YouEget it!\n",
      "Gen 52 :  You get it!\n"
     ]
    }
   ],
   "source": [
    "if __name__ == '__main__':\n",
    "    ga = GA(DNA_size=DNA_SIZE, DNA_bound=ASCII_BOUND, cross_rate=CROSS_RATE,\n",
    "            mutation_rate=MUTATION_RATE, pop_size=POP_SIZE)\n",
    "    \n",
    "    for generaton in range(N_GENERATIONS):\n",
    "        fitness = ga.get_fitness()\n",
    "        best_DNA = ga.pop[np.argmax(fitness)]\n",
    "        best_phrase = ga.translateDNA(best_DNA)\n",
    "        print('Gen', generaton, ': ', best_phrase)\n",
    "        if best_phrase == TARGET_PHRASE:\n",
    "            break\n",
    "        ga.evolve()"
   ]
  }
 ],
 "metadata": {
  "kernelspec": {
   "display_name": "Python 3",
   "language": "python",
   "name": "python3"
  },
  "language_info": {
   "codemirror_mode": {
    "name": "ipython",
    "version": 3
   },
   "file_extension": ".py",
   "mimetype": "text/x-python",
   "name": "python",
   "nbconvert_exporter": "python",
   "pygments_lexer": "ipython3",
   "version": "3.6.8"
  }
 },
 "nbformat": 4,
 "nbformat_minor": 2
}
